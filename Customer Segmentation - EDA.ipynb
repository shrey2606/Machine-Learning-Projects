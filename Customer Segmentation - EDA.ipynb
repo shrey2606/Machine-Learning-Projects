{
 "cells": [
  {
   "cell_type": "markdown",
   "metadata": {},
   "source": [
    "# Customer Segmentation - Using EDA"
   ]
  },
  {
   "cell_type": "markdown",
   "metadata": {},
   "source": [
    "## Table of Contents\n",
    "\n",
    "1. [Problem Statement](#section1)<br>\n",
    "2. [Data Loading and Description](#section2)\n",
    "3. [Data Preprocessing](#section3)\n",
    "4. [Customer Segmentation using EDA](#section4)<br>\n",
    "    - 4.1 [Customer Segmentation](#section401)<br>\n",
    "    - 4.2 [Customer Segmentation as per value counts](#section501)<br>"
   ]
  },
  {
   "cell_type": "markdown",
   "metadata": {},
   "source": [
    "## 1. Problem Statement"
   ]
  },
  {
   "cell_type": "markdown",
   "metadata": {},
   "source": [
    "The goal is to make __different segments of customers__ for the insurance using __EDA__."
   ]
  },
  {
   "cell_type": "markdown",
   "metadata": {},
   "source": [
    "## 2. Data Loading and Description"
   ]
  },
  {
   "cell_type": "markdown",
   "metadata": {},
   "source": [
    "- The dataset consists the information about the people for the customer segmentation. Various variables present in the data includes Customer gender,  Income Type, Price of goods etc.\n",
    "\n",
    "- The dataset comprises of __600 observations of 14 columns__."
   ]
  },
  {
   "cell_type": "markdown",
   "metadata": {},
   "source": [
    "#### Importing packages"
   ]
  },
  {
   "cell_type": "code",
   "execution_count": 1,
   "metadata": {},
   "outputs": [
    {
     "name": "stderr",
     "output_type": "stream",
     "text": [
      "\n",
      "Bad key \"text.kerning_factor\" on line 4 in\n",
      "C:\\Anaconda3\\envs\\gputest\\lib\\site-packages\\matplotlib\\mpl-data\\stylelib\\_classic_test_patch.mplstyle.\n",
      "You probably need to get an updated matplotlibrc file from\n",
      "http://github.com/matplotlib/matplotlib/blob/master/matplotlibrc.template\n",
      "or from the matplotlib source distribution\n"
     ]
    }
   ],
   "source": [
    "import numpy as np\n",
    "import pandas as pd\n",
    "import matplotlib.pyplot as plt\n",
    "import seaborn as sns\n",
    "import os\n",
    "\n",
    "from sklearn.model_selection import train_test_split\n",
    "from sklearn.preprocessing import StandardScaler, LabelEncoder\n",
    "\n",
    "%matplotlib inline\n",
    "\n",
    "import warnings\n",
    "warnings.filterwarnings('ignore')"
   ]
  },
  {
   "cell_type": "markdown",
   "metadata": {},
   "source": [
    "# 3. Data Preprocessing"
   ]
  },
  {
   "cell_type": "code",
   "execution_count": 2,
   "metadata": {},
   "outputs": [],
   "source": [
    "cust_data = pd.read_csv(\"C:/Users/shrey/OneDrive/Desktop/Work/Final_Data/Customer_data_v2.csv\")"
   ]
  },
  {
   "cell_type": "code",
   "execution_count": 3,
   "metadata": {},
   "outputs": [
    {
     "data": {
      "text/plain": [
       "(600, 14)"
      ]
     },
     "execution_count": 3,
     "metadata": {},
     "output_type": "execute_result"
    }
   ],
   "source": [
    "cust_data.shape"
   ]
  },
  {
   "cell_type": "code",
   "execution_count": 4,
   "metadata": {
    "scrolled": false
   },
   "outputs": [
    {
     "data": {
      "text/html": [
       "<div>\n",
       "<style scoped>\n",
       "    .dataframe tbody tr th:only-of-type {\n",
       "        vertical-align: middle;\n",
       "    }\n",
       "\n",
       "    .dataframe tbody tr th {\n",
       "        vertical-align: top;\n",
       "    }\n",
       "\n",
       "    .dataframe thead th {\n",
       "        text-align: right;\n",
       "    }\n",
       "</style>\n",
       "<table border=\"1\" class=\"dataframe\">\n",
       "  <thead>\n",
       "    <tr style=\"text-align: right;\">\n",
       "      <th></th>\n",
       "      <th>Customer_id</th>\n",
       "      <th>CODE_GENDER</th>\n",
       "      <th>FLAG_OWN_CAR</th>\n",
       "      <th>FLAG_OWN_REALTY</th>\n",
       "      <th>CNT_CHILDREN</th>\n",
       "      <th>NAME_INCOME_TYPE</th>\n",
       "      <th>NAME_EDUCATION_TYPE</th>\n",
       "      <th>Month</th>\n",
       "      <th>Year</th>\n",
       "      <th>Product</th>\n",
       "      <th>Brand</th>\n",
       "      <th>Rating</th>\n",
       "      <th>AMT_GOODS_PRICE</th>\n",
       "      <th>AMT_INCOME_TOTAL</th>\n",
       "    </tr>\n",
       "  </thead>\n",
       "  <tbody>\n",
       "    <tr>\n",
       "      <th>0</th>\n",
       "      <td>1900001</td>\n",
       "      <td>F</td>\n",
       "      <td>N</td>\n",
       "      <td>Y</td>\n",
       "      <td>1</td>\n",
       "      <td>State servant</td>\n",
       "      <td>Secondary / secondary special</td>\n",
       "      <td>Apr</td>\n",
       "      <td>2019</td>\n",
       "      <td>Refrigerator</td>\n",
       "      <td>LG</td>\n",
       "      <td>8</td>\n",
       "      <td>32805</td>\n",
       "      <td>135000</td>\n",
       "    </tr>\n",
       "    <tr>\n",
       "      <th>1</th>\n",
       "      <td>1900002</td>\n",
       "      <td>M</td>\n",
       "      <td>Y</td>\n",
       "      <td>Y</td>\n",
       "      <td>1</td>\n",
       "      <td>Working</td>\n",
       "      <td>Secondary / secondary special</td>\n",
       "      <td>Apr</td>\n",
       "      <td>2019</td>\n",
       "      <td>Microwave</td>\n",
       "      <td>LG</td>\n",
       "      <td>8</td>\n",
       "      <td>11903</td>\n",
       "      <td>99000</td>\n",
       "    </tr>\n",
       "    <tr>\n",
       "      <th>2</th>\n",
       "      <td>1900003</td>\n",
       "      <td>M</td>\n",
       "      <td>N</td>\n",
       "      <td>Y</td>\n",
       "      <td>2</td>\n",
       "      <td>Pensioner</td>\n",
       "      <td>Secondary / secondary special</td>\n",
       "      <td>Apr</td>\n",
       "      <td>2019</td>\n",
       "      <td>WaterPurifier</td>\n",
       "      <td>LG</td>\n",
       "      <td>8</td>\n",
       "      <td>12628</td>\n",
       "      <td>202500</td>\n",
       "    </tr>\n",
       "    <tr>\n",
       "      <th>3</th>\n",
       "      <td>1900004</td>\n",
       "      <td>M</td>\n",
       "      <td>Y</td>\n",
       "      <td>N</td>\n",
       "      <td>0</td>\n",
       "      <td>Commercial associate</td>\n",
       "      <td>Secondary / secondary special</td>\n",
       "      <td>Apr</td>\n",
       "      <td>2019</td>\n",
       "      <td>Blender</td>\n",
       "      <td>LG</td>\n",
       "      <td>9</td>\n",
       "      <td>7671</td>\n",
       "      <td>315000</td>\n",
       "    </tr>\n",
       "    <tr>\n",
       "      <th>4</th>\n",
       "      <td>1900004</td>\n",
       "      <td>M</td>\n",
       "      <td>Y</td>\n",
       "      <td>N</td>\n",
       "      <td>0</td>\n",
       "      <td>Commercial associate</td>\n",
       "      <td>Secondary / secondary special</td>\n",
       "      <td>Apr</td>\n",
       "      <td>2019</td>\n",
       "      <td>Microwave</td>\n",
       "      <td>LG</td>\n",
       "      <td>7</td>\n",
       "      <td>12315</td>\n",
       "      <td>315000</td>\n",
       "    </tr>\n",
       "  </tbody>\n",
       "</table>\n",
       "</div>"
      ],
      "text/plain": [
       "   Customer_id CODE_GENDER FLAG_OWN_CAR FLAG_OWN_REALTY  CNT_CHILDREN  \\\n",
       "0      1900001           F            N               Y             1   \n",
       "1      1900002           M            Y               Y             1   \n",
       "2      1900003           M            N               Y             2   \n",
       "3      1900004           M            Y               N             0   \n",
       "4      1900004           M            Y               N             0   \n",
       "\n",
       "       NAME_INCOME_TYPE            NAME_EDUCATION_TYPE Month  Year  \\\n",
       "0         State servant  Secondary / secondary special   Apr  2019   \n",
       "1               Working  Secondary / secondary special   Apr  2019   \n",
       "2             Pensioner  Secondary / secondary special   Apr  2019   \n",
       "3  Commercial associate  Secondary / secondary special   Apr  2019   \n",
       "4  Commercial associate  Secondary / secondary special   Apr  2019   \n",
       "\n",
       "         Product Brand  Rating  AMT_GOODS_PRICE  AMT_INCOME_TOTAL  \n",
       "0   Refrigerator    LG       8            32805            135000  \n",
       "1      Microwave    LG       8            11903             99000  \n",
       "2  WaterPurifier    LG       8            12628            202500  \n",
       "3        Blender    LG       9             7671            315000  \n",
       "4      Microwave    LG       7            12315            315000  "
      ]
     },
     "execution_count": 4,
     "metadata": {},
     "output_type": "execute_result"
    }
   ],
   "source": [
    "cust_data.head()"
   ]
  },
  {
   "cell_type": "code",
   "execution_count": 5,
   "metadata": {
    "scrolled": true
   },
   "outputs": [
    {
     "name": "stdout",
     "output_type": "stream",
     "text": [
      "<class 'pandas.core.frame.DataFrame'>\n",
      "RangeIndex: 600 entries, 0 to 599\n",
      "Data columns (total 14 columns):\n",
      " #   Column               Non-Null Count  Dtype \n",
      "---  ------               --------------  ----- \n",
      " 0   Customer_id          600 non-null    int64 \n",
      " 1   CODE_GENDER          600 non-null    object\n",
      " 2   FLAG_OWN_CAR         600 non-null    object\n",
      " 3   FLAG_OWN_REALTY      600 non-null    object\n",
      " 4   CNT_CHILDREN         600 non-null    int64 \n",
      " 5   NAME_INCOME_TYPE     600 non-null    object\n",
      " 6   NAME_EDUCATION_TYPE  600 non-null    object\n",
      " 7   Month                600 non-null    object\n",
      " 8   Year                 600 non-null    int64 \n",
      " 9   Product              600 non-null    object\n",
      " 10  Brand                600 non-null    object\n",
      " 11  Rating               600 non-null    int64 \n",
      " 12  AMT_GOODS_PRICE      600 non-null    int64 \n",
      " 13  AMT_INCOME_TOTAL     600 non-null    int64 \n",
      "dtypes: int64(6), object(8)\n",
      "memory usage: 65.8+ KB\n"
     ]
    }
   ],
   "source": [
    "cust_data.info()"
   ]
  },
  {
   "cell_type": "code",
   "execution_count": 6,
   "metadata": {
    "scrolled": true
   },
   "outputs": [
    {
     "data": {
      "text/html": [
       "<div>\n",
       "<style scoped>\n",
       "    .dataframe tbody tr th:only-of-type {\n",
       "        vertical-align: middle;\n",
       "    }\n",
       "\n",
       "    .dataframe tbody tr th {\n",
       "        vertical-align: top;\n",
       "    }\n",
       "\n",
       "    .dataframe thead th {\n",
       "        text-align: right;\n",
       "    }\n",
       "</style>\n",
       "<table border=\"1\" class=\"dataframe\">\n",
       "  <thead>\n",
       "    <tr style=\"text-align: right;\">\n",
       "      <th></th>\n",
       "      <th>Customer_id</th>\n",
       "      <th>CNT_CHILDREN</th>\n",
       "      <th>Year</th>\n",
       "      <th>Rating</th>\n",
       "      <th>AMT_GOODS_PRICE</th>\n",
       "      <th>AMT_INCOME_TOTAL</th>\n",
       "    </tr>\n",
       "  </thead>\n",
       "  <tbody>\n",
       "    <tr>\n",
       "      <th>count</th>\n",
       "      <td>6.000000e+02</td>\n",
       "      <td>600.000000</td>\n",
       "      <td>600.0</td>\n",
       "      <td>600.000000</td>\n",
       "      <td>600.000000</td>\n",
       "      <td>600.00000</td>\n",
       "    </tr>\n",
       "    <tr>\n",
       "      <th>mean</th>\n",
       "      <td>1.900153e+06</td>\n",
       "      <td>0.365000</td>\n",
       "      <td>2019.0</td>\n",
       "      <td>8.153333</td>\n",
       "      <td>17714.585000</td>\n",
       "      <td>230322.49500</td>\n",
       "    </tr>\n",
       "    <tr>\n",
       "      <th>std</th>\n",
       "      <td>8.998748e+01</td>\n",
       "      <td>0.756789</td>\n",
       "      <td>0.0</td>\n",
       "      <td>0.790061</td>\n",
       "      <td>9801.171285</td>\n",
       "      <td>104776.24482</td>\n",
       "    </tr>\n",
       "    <tr>\n",
       "      <th>min</th>\n",
       "      <td>1.900001e+06</td>\n",
       "      <td>0.000000</td>\n",
       "      <td>2019.0</td>\n",
       "      <td>7.000000</td>\n",
       "      <td>5143.000000</td>\n",
       "      <td>40500.00000</td>\n",
       "    </tr>\n",
       "    <tr>\n",
       "      <th>25%</th>\n",
       "      <td>1.900071e+06</td>\n",
       "      <td>0.000000</td>\n",
       "      <td>2019.0</td>\n",
       "      <td>8.000000</td>\n",
       "      <td>10894.000000</td>\n",
       "      <td>157500.00000</td>\n",
       "    </tr>\n",
       "    <tr>\n",
       "      <th>50%</th>\n",
       "      <td>1.900157e+06</td>\n",
       "      <td>0.000000</td>\n",
       "      <td>2019.0</td>\n",
       "      <td>8.000000</td>\n",
       "      <td>12628.000000</td>\n",
       "      <td>225000.00000</td>\n",
       "    </tr>\n",
       "    <tr>\n",
       "      <th>75%</th>\n",
       "      <td>1.900230e+06</td>\n",
       "      <td>1.000000</td>\n",
       "      <td>2019.0</td>\n",
       "      <td>9.000000</td>\n",
       "      <td>27733.000000</td>\n",
       "      <td>282375.00000</td>\n",
       "    </tr>\n",
       "    <tr>\n",
       "      <th>max</th>\n",
       "      <td>1.900300e+06</td>\n",
       "      <td>8.000000</td>\n",
       "      <td>2019.0</td>\n",
       "      <td>10.000000</td>\n",
       "      <td>40000.000000</td>\n",
       "      <td>675000.00000</td>\n",
       "    </tr>\n",
       "  </tbody>\n",
       "</table>\n",
       "</div>"
      ],
      "text/plain": [
       "        Customer_id  CNT_CHILDREN    Year      Rating  AMT_GOODS_PRICE  \\\n",
       "count  6.000000e+02    600.000000   600.0  600.000000       600.000000   \n",
       "mean   1.900153e+06      0.365000  2019.0    8.153333     17714.585000   \n",
       "std    8.998748e+01      0.756789     0.0    0.790061      9801.171285   \n",
       "min    1.900001e+06      0.000000  2019.0    7.000000      5143.000000   \n",
       "25%    1.900071e+06      0.000000  2019.0    8.000000     10894.000000   \n",
       "50%    1.900157e+06      0.000000  2019.0    8.000000     12628.000000   \n",
       "75%    1.900230e+06      1.000000  2019.0    9.000000     27733.000000   \n",
       "max    1.900300e+06      8.000000  2019.0   10.000000     40000.000000   \n",
       "\n",
       "       AMT_INCOME_TOTAL  \n",
       "count         600.00000  \n",
       "mean       230322.49500  \n",
       "std        104776.24482  \n",
       "min         40500.00000  \n",
       "25%        157500.00000  \n",
       "50%        225000.00000  \n",
       "75%        282375.00000  \n",
       "max        675000.00000  "
      ]
     },
     "execution_count": 6,
     "metadata": {},
     "output_type": "execute_result"
    }
   ],
   "source": [
    "cust_data.describe()"
   ]
  },
  {
   "cell_type": "markdown",
   "metadata": {},
   "source": [
    "- Grouping the customers using Customer_id to find Mean Amount spent on goods purchased"
   ]
  },
  {
   "cell_type": "code",
   "execution_count": 7,
   "metadata": {},
   "outputs": [],
   "source": [
    "mean_goods_price = cust_data.groupby(['Customer_id'])['AMT_GOODS_PRICE'].mean() # don't reset the index!\n",
    "cust_data = cust_data.set_index(['Customer_id']) # make the same index here\n",
    "cust_data['MEAN_AMT_GOODS_PRICE'] = mean_goods_price\n",
    "cust_data = cust_data.reset_index() # to take the hierarchical index off again"
   ]
  },
  {
   "cell_type": "code",
   "execution_count": 8,
   "metadata": {},
   "outputs": [],
   "source": [
    "cust_data.drop(['AMT_GOODS_PRICE'],axis=1, inplace=True)"
   ]
  },
  {
   "cell_type": "code",
   "execution_count": 9,
   "metadata": {},
   "outputs": [],
   "source": [
    "cust_data.drop(['Brand','Month', 'Product', 'Rating'],axis=1, inplace=True)"
   ]
  },
  {
   "cell_type": "code",
   "execution_count": 10,
   "metadata": {},
   "outputs": [],
   "source": [
    "cust_data.drop_duplicates(keep='first', inplace=True, ignore_index= True)"
   ]
  },
  {
   "cell_type": "code",
   "execution_count": 11,
   "metadata": {
    "scrolled": true
   },
   "outputs": [
    {
     "data": {
      "text/html": [
       "<div>\n",
       "<style scoped>\n",
       "    .dataframe tbody tr th:only-of-type {\n",
       "        vertical-align: middle;\n",
       "    }\n",
       "\n",
       "    .dataframe tbody tr th {\n",
       "        vertical-align: top;\n",
       "    }\n",
       "\n",
       "    .dataframe thead th {\n",
       "        text-align: right;\n",
       "    }\n",
       "</style>\n",
       "<table border=\"1\" class=\"dataframe\">\n",
       "  <thead>\n",
       "    <tr style=\"text-align: right;\">\n",
       "      <th></th>\n",
       "      <th>Customer_id</th>\n",
       "      <th>CODE_GENDER</th>\n",
       "      <th>FLAG_OWN_CAR</th>\n",
       "      <th>FLAG_OWN_REALTY</th>\n",
       "      <th>CNT_CHILDREN</th>\n",
       "      <th>NAME_INCOME_TYPE</th>\n",
       "      <th>NAME_EDUCATION_TYPE</th>\n",
       "      <th>Year</th>\n",
       "      <th>AMT_INCOME_TOTAL</th>\n",
       "      <th>MEAN_AMT_GOODS_PRICE</th>\n",
       "    </tr>\n",
       "  </thead>\n",
       "  <tbody>\n",
       "    <tr>\n",
       "      <th>0</th>\n",
       "      <td>1900001</td>\n",
       "      <td>F</td>\n",
       "      <td>N</td>\n",
       "      <td>Y</td>\n",
       "      <td>1</td>\n",
       "      <td>State servant</td>\n",
       "      <td>Secondary / secondary special</td>\n",
       "      <td>2019</td>\n",
       "      <td>135000</td>\n",
       "      <td>32805.000000</td>\n",
       "    </tr>\n",
       "    <tr>\n",
       "      <th>1</th>\n",
       "      <td>1900002</td>\n",
       "      <td>M</td>\n",
       "      <td>Y</td>\n",
       "      <td>Y</td>\n",
       "      <td>1</td>\n",
       "      <td>Working</td>\n",
       "      <td>Secondary / secondary special</td>\n",
       "      <td>2019</td>\n",
       "      <td>99000</td>\n",
       "      <td>11903.000000</td>\n",
       "    </tr>\n",
       "    <tr>\n",
       "      <th>2</th>\n",
       "      <td>1900003</td>\n",
       "      <td>M</td>\n",
       "      <td>N</td>\n",
       "      <td>Y</td>\n",
       "      <td>2</td>\n",
       "      <td>Pensioner</td>\n",
       "      <td>Secondary / secondary special</td>\n",
       "      <td>2019</td>\n",
       "      <td>202500</td>\n",
       "      <td>12628.000000</td>\n",
       "    </tr>\n",
       "    <tr>\n",
       "      <th>3</th>\n",
       "      <td>1900004</td>\n",
       "      <td>M</td>\n",
       "      <td>Y</td>\n",
       "      <td>N</td>\n",
       "      <td>0</td>\n",
       "      <td>Commercial associate</td>\n",
       "      <td>Secondary / secondary special</td>\n",
       "      <td>2019</td>\n",
       "      <td>315000</td>\n",
       "      <td>17686.166667</td>\n",
       "    </tr>\n",
       "    <tr>\n",
       "      <th>4</th>\n",
       "      <td>1900005</td>\n",
       "      <td>M</td>\n",
       "      <td>Y</td>\n",
       "      <td>N</td>\n",
       "      <td>0</td>\n",
       "      <td>Working</td>\n",
       "      <td>Incomplete higher</td>\n",
       "      <td>2019</td>\n",
       "      <td>180000</td>\n",
       "      <td>6907.000000</td>\n",
       "    </tr>\n",
       "  </tbody>\n",
       "</table>\n",
       "</div>"
      ],
      "text/plain": [
       "   Customer_id CODE_GENDER FLAG_OWN_CAR FLAG_OWN_REALTY  CNT_CHILDREN  \\\n",
       "0      1900001           F            N               Y             1   \n",
       "1      1900002           M            Y               Y             1   \n",
       "2      1900003           M            N               Y             2   \n",
       "3      1900004           M            Y               N             0   \n",
       "4      1900005           M            Y               N             0   \n",
       "\n",
       "       NAME_INCOME_TYPE            NAME_EDUCATION_TYPE  Year  \\\n",
       "0         State servant  Secondary / secondary special  2019   \n",
       "1               Working  Secondary / secondary special  2019   \n",
       "2             Pensioner  Secondary / secondary special  2019   \n",
       "3  Commercial associate  Secondary / secondary special  2019   \n",
       "4               Working              Incomplete higher  2019   \n",
       "\n",
       "   AMT_INCOME_TOTAL  MEAN_AMT_GOODS_PRICE  \n",
       "0            135000          32805.000000  \n",
       "1             99000          11903.000000  \n",
       "2            202500          12628.000000  \n",
       "3            315000          17686.166667  \n",
       "4            180000           6907.000000  "
      ]
     },
     "execution_count": 11,
     "metadata": {},
     "output_type": "execute_result"
    }
   ],
   "source": [
    "cust_data.head()"
   ]
  },
  {
   "cell_type": "markdown",
   "metadata": {},
   "source": [
    "# 4. Customer segmentation using EDA"
   ]
  },
  {
   "cell_type": "markdown",
   "metadata": {},
   "source": [
    "#### Segmentation  for Mean goods price"
   ]
  },
  {
   "cell_type": "code",
   "execution_count": 12,
   "metadata": {},
   "outputs": [
    {
     "data": {
      "image/png": "[encoded data removed]",
      "text/plain": [
       "<Figure size 368x360 with 1 Axes>"
      ]
     },
     "metadata": {
      "needs_background": "light"
     },
     "output_type": "display_data"
    }
   ],
   "source": [
    "sns.FacetGrid(cust_data, size=5) \\\n",
    "   .map(sns.distplot, \"MEAN_AMT_GOODS_PRICE\") \\\n",
    "   .add_legend();\n",
    "plt.show();"
   ]
  },
  {
   "cell_type": "code",
   "execution_count": 13,
   "metadata": {
    "scrolled": false
   },
   "outputs": [
    {
     "data": {
      "text/plain": [
       "count      300.000000\n",
       "mean     17505.758889\n",
       "std       8829.930678\n",
       "min       5143.000000\n",
       "25%      10770.250000\n",
       "50%      17686.166667\n",
       "75%      26429.750000\n",
       "max      34876.000000\n",
       "Name: MEAN_AMT_GOODS_PRICE, dtype: float64"
      ]
     },
     "execution_count": 13,
     "metadata": {},
     "output_type": "execute_result"
    }
   ],
   "source": [
    "cust_data['MEAN_AMT_GOODS_PRICE'].describe()"
   ]
  },
  {
   "cell_type": "code",
   "execution_count": 14,
   "metadata": {
    "scrolled": false
   },
   "outputs": [
    {
     "data": {
      "text/html": [
       "<div>\n",
       "<style scoped>\n",
       "    .dataframe tbody tr th:only-of-type {\n",
       "        vertical-align: middle;\n",
       "    }\n",
       "\n",
       "    .dataframe tbody tr th {\n",
       "        vertical-align: top;\n",
       "    }\n",
       "\n",
       "    .dataframe thead th {\n",
       "        text-align: right;\n",
       "    }\n",
       "</style>\n",
       "<table border=\"1\" class=\"dataframe\">\n",
       "  <thead>\n",
       "    <tr style=\"text-align: right;\">\n",
       "      <th></th>\n",
       "      <th>Customer_id</th>\n",
       "      <th>CODE_GENDER</th>\n",
       "      <th>FLAG_OWN_CAR</th>\n",
       "      <th>FLAG_OWN_REALTY</th>\n",
       "      <th>CNT_CHILDREN</th>\n",
       "      <th>NAME_INCOME_TYPE</th>\n",
       "      <th>NAME_EDUCATION_TYPE</th>\n",
       "      <th>Year</th>\n",
       "      <th>AMT_INCOME_TOTAL</th>\n",
       "      <th>MEAN_AMT_GOODS_PRICE</th>\n",
       "      <th>MEAN_AMT_GOODS_PRICE_category</th>\n",
       "    </tr>\n",
       "  </thead>\n",
       "  <tbody>\n",
       "    <tr>\n",
       "      <th>0</th>\n",
       "      <td>1900001</td>\n",
       "      <td>F</td>\n",
       "      <td>N</td>\n",
       "      <td>Y</td>\n",
       "      <td>1</td>\n",
       "      <td>State servant</td>\n",
       "      <td>Secondary / secondary special</td>\n",
       "      <td>2019</td>\n",
       "      <td>135000</td>\n",
       "      <td>32805.000000</td>\n",
       "      <td>high</td>\n",
       "    </tr>\n",
       "    <tr>\n",
       "      <th>1</th>\n",
       "      <td>1900002</td>\n",
       "      <td>M</td>\n",
       "      <td>Y</td>\n",
       "      <td>Y</td>\n",
       "      <td>1</td>\n",
       "      <td>Working</td>\n",
       "      <td>Secondary / secondary special</td>\n",
       "      <td>2019</td>\n",
       "      <td>99000</td>\n",
       "      <td>11903.000000</td>\n",
       "      <td>low</td>\n",
       "    </tr>\n",
       "    <tr>\n",
       "      <th>2</th>\n",
       "      <td>1900003</td>\n",
       "      <td>M</td>\n",
       "      <td>N</td>\n",
       "      <td>Y</td>\n",
       "      <td>2</td>\n",
       "      <td>Pensioner</td>\n",
       "      <td>Secondary / secondary special</td>\n",
       "      <td>2019</td>\n",
       "      <td>202500</td>\n",
       "      <td>12628.000000</td>\n",
       "      <td>low</td>\n",
       "    </tr>\n",
       "    <tr>\n",
       "      <th>3</th>\n",
       "      <td>1900004</td>\n",
       "      <td>M</td>\n",
       "      <td>Y</td>\n",
       "      <td>N</td>\n",
       "      <td>0</td>\n",
       "      <td>Commercial associate</td>\n",
       "      <td>Secondary / secondary special</td>\n",
       "      <td>2019</td>\n",
       "      <td>315000</td>\n",
       "      <td>17686.166667</td>\n",
       "      <td>medium</td>\n",
       "    </tr>\n",
       "    <tr>\n",
       "      <th>4</th>\n",
       "      <td>1900005</td>\n",
       "      <td>M</td>\n",
       "      <td>Y</td>\n",
       "      <td>N</td>\n",
       "      <td>0</td>\n",
       "      <td>Working</td>\n",
       "      <td>Incomplete higher</td>\n",
       "      <td>2019</td>\n",
       "      <td>180000</td>\n",
       "      <td>6907.000000</td>\n",
       "      <td>low</td>\n",
       "    </tr>\n",
       "  </tbody>\n",
       "</table>\n",
       "</div>"
      ],
      "text/plain": [
       "   Customer_id CODE_GENDER FLAG_OWN_CAR FLAG_OWN_REALTY  CNT_CHILDREN  \\\n",
       "0      1900001           F            N               Y             1   \n",
       "1      1900002           M            Y               Y             1   \n",
       "2      1900003           M            N               Y             2   \n",
       "3      1900004           M            Y               N             0   \n",
       "4      1900005           M            Y               N             0   \n",
       "\n",
       "       NAME_INCOME_TYPE            NAME_EDUCATION_TYPE  Year  \\\n",
       "0         State servant  Secondary / secondary special  2019   \n",
       "1               Working  Secondary / secondary special  2019   \n",
       "2             Pensioner  Secondary / secondary special  2019   \n",
       "3  Commercial associate  Secondary / secondary special  2019   \n",
       "4               Working              Incomplete higher  2019   \n",
       "\n",
       "   AMT_INCOME_TOTAL  MEAN_AMT_GOODS_PRICE MEAN_AMT_GOODS_PRICE_category  \n",
       "0            135000          32805.000000                          high  \n",
       "1             99000          11903.000000                           low  \n",
       "2            202500          12628.000000                           low  \n",
       "3            315000          17686.166667                        medium  \n",
       "4            180000           6907.000000                           low  "
      ]
     },
     "execution_count": 14,
     "metadata": {},
     "output_type": "execute_result"
    }
   ],
   "source": [
    "bins = [5000, 15000,25000,35000]\n",
    "labels = ['low', 'medium', 'high']\n",
    "cust_data['MEAN_AMT_GOODS_PRICE_category'] = pd.cut(cust_data['MEAN_AMT_GOODS_PRICE'], bins=bins, labels=labels, right=False)\n",
    "cust_data.head()"
   ]
  },
  {
   "cell_type": "markdown",
   "metadata": {},
   "source": [
    "- We have divided the dataset based on purchase capacity of customer i.e low, medium and high"
   ]
  },
  {
   "cell_type": "code",
   "execution_count": 15,
   "metadata": {},
   "outputs": [
    {
     "data": {
      "image/png": "[encoded data removed]",
      "text/plain": [
       "<Figure size 512x504 with 1 Axes>"
      ]
     },
     "metadata": {
      "needs_background": "light"
     },
     "output_type": "display_data"
    }
   ],
   "source": [
    "sns.FacetGrid(cust_data, size=7) \\\n",
    "   .map(sns.distplot, \"AMT_INCOME_TOTAL\") \\\n",
    "   .add_legend();\n",
    "plt.show();"
   ]
  },
  {
   "cell_type": "code",
   "execution_count": 16,
   "metadata": {
    "scrolled": true
   },
   "outputs": [
    {
     "data": {
      "text/plain": [
       "count       300.000000\n",
       "mean     168369.990000\n",
       "std       82450.908425\n",
       "min       40500.000000\n",
       "25%      112500.000000\n",
       "50%      157500.000000\n",
       "75%      202500.000000\n",
       "max      675000.000000\n",
       "Name: AMT_INCOME_TOTAL, dtype: float64"
      ]
     },
     "execution_count": 16,
     "metadata": {},
     "output_type": "execute_result"
    }
   ],
   "source": [
    "cust_data['AMT_INCOME_TOTAL'].describe()"
   ]
  },
  {
   "cell_type": "code",
   "execution_count": 17,
   "metadata": {
    "scrolled": false
   },
   "outputs": [
    {
     "data": {
      "text/html": [
       "<div>\n",
       "<style scoped>\n",
       "    .dataframe tbody tr th:only-of-type {\n",
       "        vertical-align: middle;\n",
       "    }\n",
       "\n",
       "    .dataframe tbody tr th {\n",
       "        vertical-align: top;\n",
       "    }\n",
       "\n",
       "    .dataframe thead th {\n",
       "        text-align: right;\n",
       "    }\n",
       "</style>\n",
       "<table border=\"1\" class=\"dataframe\">\n",
       "  <thead>\n",
       "    <tr style=\"text-align: right;\">\n",
       "      <th></th>\n",
       "      <th>Customer_id</th>\n",
       "      <th>CODE_GENDER</th>\n",
       "      <th>FLAG_OWN_CAR</th>\n",
       "      <th>FLAG_OWN_REALTY</th>\n",
       "      <th>CNT_CHILDREN</th>\n",
       "      <th>NAME_INCOME_TYPE</th>\n",
       "      <th>NAME_EDUCATION_TYPE</th>\n",
       "      <th>Year</th>\n",
       "      <th>AMT_INCOME_TOTAL</th>\n",
       "      <th>MEAN_AMT_GOODS_PRICE</th>\n",
       "      <th>MEAN_AMT_GOODS_PRICE_category</th>\n",
       "      <th>AMT_INCOME_TOTAL_category</th>\n",
       "    </tr>\n",
       "  </thead>\n",
       "  <tbody>\n",
       "    <tr>\n",
       "      <th>0</th>\n",
       "      <td>1900001</td>\n",
       "      <td>F</td>\n",
       "      <td>N</td>\n",
       "      <td>Y</td>\n",
       "      <td>1</td>\n",
       "      <td>State servant</td>\n",
       "      <td>Secondary / secondary special</td>\n",
       "      <td>2019</td>\n",
       "      <td>135000</td>\n",
       "      <td>32805.000000</td>\n",
       "      <td>high</td>\n",
       "      <td>medium</td>\n",
       "    </tr>\n",
       "    <tr>\n",
       "      <th>1</th>\n",
       "      <td>1900002</td>\n",
       "      <td>M</td>\n",
       "      <td>Y</td>\n",
       "      <td>Y</td>\n",
       "      <td>1</td>\n",
       "      <td>Working</td>\n",
       "      <td>Secondary / secondary special</td>\n",
       "      <td>2019</td>\n",
       "      <td>99000</td>\n",
       "      <td>11903.000000</td>\n",
       "      <td>low</td>\n",
       "      <td>low</td>\n",
       "    </tr>\n",
       "    <tr>\n",
       "      <th>2</th>\n",
       "      <td>1900003</td>\n",
       "      <td>M</td>\n",
       "      <td>N</td>\n",
       "      <td>Y</td>\n",
       "      <td>2</td>\n",
       "      <td>Pensioner</td>\n",
       "      <td>Secondary / secondary special</td>\n",
       "      <td>2019</td>\n",
       "      <td>202500</td>\n",
       "      <td>12628.000000</td>\n",
       "      <td>low</td>\n",
       "      <td>medium</td>\n",
       "    </tr>\n",
       "    <tr>\n",
       "      <th>3</th>\n",
       "      <td>1900004</td>\n",
       "      <td>M</td>\n",
       "      <td>Y</td>\n",
       "      <td>N</td>\n",
       "      <td>0</td>\n",
       "      <td>Commercial associate</td>\n",
       "      <td>Secondary / secondary special</td>\n",
       "      <td>2019</td>\n",
       "      <td>315000</td>\n",
       "      <td>17686.166667</td>\n",
       "      <td>medium</td>\n",
       "      <td>high</td>\n",
       "    </tr>\n",
       "    <tr>\n",
       "      <th>4</th>\n",
       "      <td>1900005</td>\n",
       "      <td>M</td>\n",
       "      <td>Y</td>\n",
       "      <td>N</td>\n",
       "      <td>0</td>\n",
       "      <td>Working</td>\n",
       "      <td>Incomplete higher</td>\n",
       "      <td>2019</td>\n",
       "      <td>180000</td>\n",
       "      <td>6907.000000</td>\n",
       "      <td>low</td>\n",
       "      <td>medium</td>\n",
       "    </tr>\n",
       "  </tbody>\n",
       "</table>\n",
       "</div>"
      ],
      "text/plain": [
       "   Customer_id CODE_GENDER FLAG_OWN_CAR FLAG_OWN_REALTY  CNT_CHILDREN  \\\n",
       "0      1900001           F            N               Y             1   \n",
       "1      1900002           M            Y               Y             1   \n",
       "2      1900003           M            N               Y             2   \n",
       "3      1900004           M            Y               N             0   \n",
       "4      1900005           M            Y               N             0   \n",
       "\n",
       "       NAME_INCOME_TYPE            NAME_EDUCATION_TYPE  Year  \\\n",
       "0         State servant  Secondary / secondary special  2019   \n",
       "1               Working  Secondary / secondary special  2019   \n",
       "2             Pensioner  Secondary / secondary special  2019   \n",
       "3  Commercial associate  Secondary / secondary special  2019   \n",
       "4               Working              Incomplete higher  2019   \n",
       "\n",
       "   AMT_INCOME_TOTAL  MEAN_AMT_GOODS_PRICE MEAN_AMT_GOODS_PRICE_category  \\\n",
       "0            135000          32805.000000                          high   \n",
       "1             99000          11903.000000                           low   \n",
       "2            202500          12628.000000                           low   \n",
       "3            315000          17686.166667                        medium   \n",
       "4            180000           6907.000000                           low   \n",
       "\n",
       "  AMT_INCOME_TOTAL_category  \n",
       "0                    medium  \n",
       "1                       low  \n",
       "2                    medium  \n",
       "3                      high  \n",
       "4                    medium  "
      ]
     },
     "execution_count": 17,
     "metadata": {},
     "output_type": "execute_result"
    }
   ],
   "source": [
    "bins = [40000,110000, 300000,700000]\n",
    "labels = ['low', 'medium', 'high']\n",
    "cust_data['AMT_INCOME_TOTAL_category'] = pd.cut(cust_data['AMT_INCOME_TOTAL'], bins=bins, labels=labels, right=False)\n",
    "cust_data.head()"
   ]
  },
  {
   "cell_type": "markdown",
   "metadata": {},
   "source": [
    "- We have divided the dataset based on income of customer i.e low, medium and high"
   ]
  },
  {
   "cell_type": "code",
   "execution_count": 18,
   "metadata": {
    "scrolled": true
   },
   "outputs": [
    {
     "data": {
      "text/plain": [
       "low       149\n",
       "high      100\n",
       "medium     51\n",
       "Name: MEAN_AMT_GOODS_PRICE_category, dtype: int64"
      ]
     },
     "execution_count": 18,
     "metadata": {},
     "output_type": "execute_result"
    }
   ],
   "source": [
    "cust_data['MEAN_AMT_GOODS_PRICE_category'].value_counts()"
   ]
  },
  {
   "cell_type": "markdown",
   "metadata": {},
   "source": [
    "- Value counts as per new division of categories over Mean Amount of Goods"
   ]
  },
  {
   "cell_type": "code",
   "execution_count": 19,
   "metadata": {
    "scrolled": true
   },
   "outputs": [
    {
     "data": {
      "text/plain": [
       "medium    212\n",
       "low        65\n",
       "high       23\n",
       "Name: AMT_INCOME_TOTAL_category, dtype: int64"
      ]
     },
     "execution_count": 19,
     "metadata": {},
     "output_type": "execute_result"
    }
   ],
   "source": [
    "cust_data['AMT_INCOME_TOTAL_category'].value_counts()"
   ]
  },
  {
   "cell_type": "markdown",
   "metadata": {},
   "source": [
    "- Value counts as per new division of classes over Income of customer"
   ]
  },
  {
   "cell_type": "markdown",
   "metadata": {},
   "source": [
    "### Code for Count Plot"
   ]
  },
  {
   "cell_type": "code",
   "execution_count": 20,
   "metadata": {},
   "outputs": [],
   "source": [
    "def format_spines(ax, right_border=True):\n",
    "    \"\"\"docstring for format_spines:\n",
    "    this function sets up borders from an axis and personalize colors\n",
    "    input:\n",
    "        ax: figure axis\n",
    "        right_border: flag to determine if the right border will be visible or not\"\"\"\n",
    "    \n",
    "    # Setting up colors\n",
    "    ax.spines['bottom'].set_color('#CCCCCC')\n",
    "    ax.spines['left'].set_color('#CCCCCC')\n",
    "    ax.spines['top'].set_color('#FFFFFF')\n",
    "    if right_border:\n",
    "        ax.spines['right'].set_color('#CCCCCC')\n",
    "    else:\n",
    "        ax.spines['right'].set_color('#FFFFFF')\n",
    "    ax.patch.set_facecolor('#FFFFFF')\n",
    "\n",
    "\n",
    "def count_plot(feature, df, colors='Blues_d', hue=False):\n",
    "    \"\"\"docstring for count_plot:\n",
    "    this function plots data setting up frequency and percentage. This algo sets up borders\n",
    "    and personalization\n",
    "    input:\n",
    "        feature: feature to be plotted\n",
    "        df: dataframe\n",
    "        colors = color palette (default=Blues_d)\n",
    "        hue = second feature analysis (default=False)\"\"\"\n",
    "    \n",
    "    # Preparing variables\n",
    "    ncount = len(df)\n",
    "    fig, ax = plt.subplots()\n",
    "    if hue != False:\n",
    "        ax = sns.countplot(x=feature, data=df, palette=colors, hue=hue)\n",
    "    else:\n",
    "        ax = sns.countplot(x=feature, data=df, palette=colors)\n",
    "\n",
    "    # Make twin axis\n",
    "    ax2=ax.twinx()\n",
    "\n",
    "    # Switch so count axis is on right, frequency on left\n",
    "    ax2.yaxis.tick_left()\n",
    "    ax.yaxis.tick_right()\n",
    "    # Also switch the labels over\n",
    "    ax.yaxis.set_label_position('right')\n",
    "    ax2.yaxis.set_label_position('left')\n",
    "\n",
    "    ax2.set_ylabel('Frequency [%]')\n",
    "\n",
    "    # Setting borders\n",
    "    format_spines(ax)\n",
    "    format_spines(ax2)\n",
    "\n",
    "    # Setting percentage\n",
    "    for p in ax.patches:\n",
    "        x=p.get_bbox().get_points()[:,0]\n",
    "        y=p.get_bbox().get_points()[1,1]\n",
    "        ax.annotate('{:.1f}%'.format(100.*y/ncount), (x.mean(), y), \n",
    "                ha='center', va='bottom') # set the alignment of the text\n",
    "    if not hue:\n",
    "        ax.set_title(df[feature].describe().name + ' Analysis', size=13, pad=15)\n",
    "    else:\n",
    "        ax.set_title(df[feature].describe().name + ' Analysis by ' + hue, size=13, pad=15)\n",
    "        \n",
    "    plt.show()"
   ]
  },
  {
   "cell_type": "markdown",
   "metadata": {},
   "source": [
    "### Count Plot on the basis of Gender "
   ]
  },
  {
   "cell_type": "code",
   "execution_count": 21,
   "metadata": {
    "scrolled": true
   },
   "outputs": [
    {
     "data": {
      "image/png": "[encoded data removed]",
      "text/plain": [
       "<Figure size 432x288 with 2 Axes>"
      ]
     },
     "metadata": {
      "needs_background": "light"
     },
     "output_type": "display_data"
    }
   ],
   "source": [
    "# Counting gender\n",
    "custom_colors = [\"#3498db\", \"#C8391A\"]\n",
    "count_plot(feature='CODE_GENDER', df=cust_data, colors=custom_colors)"
   ]
  },
  {
   "cell_type": "markdown",
   "metadata": {},
   "source": [
    "### Count Plot on the basis of Car owned or not by the customer"
   ]
  },
  {
   "cell_type": "code",
   "execution_count": 22,
   "metadata": {
    "scrolled": false
   },
   "outputs": [
    {
     "data": {
      "image/png": "[encoded data removed]",
      "text/plain": [
       "<Figure size 432x288 with 2 Axes>"
      ]
     },
     "metadata": {
      "needs_background": "light"
     },
     "output_type": "display_data"
    }
   ],
   "source": [
    "# Counting gender\n",
    "custom_colors = [\"#3498db\", \"#C8391A\"]\n",
    "count_plot(feature='FLAG_OWN_CAR', df=cust_data, colors=custom_colors)"
   ]
  },
  {
   "cell_type": "markdown",
   "metadata": {},
   "source": [
    "- Only 33.3 % people own the car"
   ]
  },
  {
   "cell_type": "markdown",
   "metadata": {},
   "source": [
    "### Count Plot on the basis of Realty owned or not by the customer"
   ]
  },
  {
   "cell_type": "code",
   "execution_count": 23,
   "metadata": {
    "scrolled": true
   },
   "outputs": [
    {
     "data": {
      "image/png": "[encoded data removed]",
      "text/plain": [
       "<Figure size 432x288 with 2 Axes>"
      ]
     },
     "metadata": {
      "needs_background": "light"
     },
     "output_type": "display_data"
    }
   ],
   "source": [
    "# Counting gender\n",
    "custom_colors = [\"#3498db\", \"#C8391A\"]\n",
    "count_plot(feature='FLAG_OWN_REALTY', df=cust_data, colors=custom_colors)"
   ]
  },
  {
   "cell_type": "markdown",
   "metadata": {},
   "source": [
    "- 65.3 % people own the property"
   ]
  },
  {
   "cell_type": "markdown",
   "metadata": {},
   "source": [
    "### Count Plot on the basis of Work"
   ]
  },
  {
   "cell_type": "code",
   "execution_count": 24,
   "metadata": {
    "scrolled": false
   },
   "outputs": [
    {
     "data": {
      "image/png": "[encoded data removed]",
      "text/plain": [
       "<Figure size 432x288 with 2 Axes>"
      ]
     },
     "metadata": {
      "needs_background": "light"
     },
     "output_type": "display_data"
    }
   ],
   "source": [
    "# Counting gender\n",
    "custom_colors = [\"#3498db\", \"#C8391A\"]\n",
    "count_plot(feature='NAME_INCOME_TYPE', df=cust_data, colors=custom_colors)### Count Plot on the basis of Realty owned or not by the customer"
   ]
  },
  {
   "cell_type": "markdown",
   "metadata": {},
   "source": [
    "- 56.3 % of total customers are working class"
   ]
  },
  {
   "cell_type": "markdown",
   "metadata": {},
   "source": [
    "## 4.1 Customer Segmentation\n",
    "\n",
    "- __Customer are divided in 5 segments__\n",
    "    - Target Customer\n",
    "    - Careful Customer\n",
    "    - Sensible Customer\n",
    "    - Standard Customer\n",
    "    - Careless Customer"
   ]
  },
  {
   "cell_type": "code",
   "execution_count": 25,
   "metadata": {},
   "outputs": [],
   "source": [
    "def label_cluster(row):\n",
    "    if (row['MEAN_AMT_GOODS_PRICE_category'] == 'high') and (row['AMT_INCOME_TOTAL_category'] == 'low') :\n",
    "        return 'Careless Customer'\n",
    "    if (row['MEAN_AMT_GOODS_PRICE_category'] == 'high') and (row['AMT_INCOME_TOTAL_category'] == 'medium') :\n",
    "        return 'Careless Customer'\n",
    "    if (row['MEAN_AMT_GOODS_PRICE_category'] == 'medium') and (row['AMT_INCOME_TOTAL_category'] == 'low'):\n",
    "        return 'Careless Customer'\n",
    "    if (row['MEAN_AMT_GOODS_PRICE_category'] == 'low') and (row['AMT_INCOME_TOTAL_category'] == 'medium'):\n",
    "        return 'Target Customer'\n",
    "    if (row['MEAN_AMT_GOODS_PRICE_category'] == 'low') and (row['AMT_INCOME_TOTAL_category'] == 'high'):\n",
    "        return 'Careful Customer'\n",
    "    if (row['MEAN_AMT_GOODS_PRICE_category'] == 'medium') and (row['AMT_INCOME_TOTAL_category'] == 'high'):\n",
    "        return 'Target Customer'\n",
    "    if (row['MEAN_AMT_GOODS_PRICE_category'] == 'high') and (row['AMT_INCOME_TOTAL_category'] == 'high'):\n",
    "        return 'Careless Customer'\n",
    "    if (row['MEAN_AMT_GOODS_PRICE_category'] == 'medium') and (row['AMT_INCOME_TOTAL_category'] == 'medium'):\n",
    "        return 'Sensible Customer'\n",
    "    if (row['MEAN_AMT_GOODS_PRICE_category'] == 'low') and (row['AMT_INCOME_TOTAL_category'] == 'low'):\n",
    "        return 'Standard Customer'"
   ]
  },
  {
   "cell_type": "code",
   "execution_count": 26,
   "metadata": {
    "scrolled": true
   },
   "outputs": [
    {
     "data": {
      "text/html": [
       "<div>\n",
       "<style scoped>\n",
       "    .dataframe tbody tr th:only-of-type {\n",
       "        vertical-align: middle;\n",
       "    }\n",
       "\n",
       "    .dataframe tbody tr th {\n",
       "        vertical-align: top;\n",
       "    }\n",
       "\n",
       "    .dataframe thead th {\n",
       "        text-align: right;\n",
       "    }\n",
       "</style>\n",
       "<table border=\"1\" class=\"dataframe\">\n",
       "  <thead>\n",
       "    <tr style=\"text-align: right;\">\n",
       "      <th></th>\n",
       "      <th>Customer_id</th>\n",
       "      <th>CODE_GENDER</th>\n",
       "      <th>FLAG_OWN_CAR</th>\n",
       "      <th>FLAG_OWN_REALTY</th>\n",
       "      <th>CNT_CHILDREN</th>\n",
       "      <th>NAME_INCOME_TYPE</th>\n",
       "      <th>NAME_EDUCATION_TYPE</th>\n",
       "      <th>Year</th>\n",
       "      <th>AMT_INCOME_TOTAL</th>\n",
       "      <th>MEAN_AMT_GOODS_PRICE</th>\n",
       "      <th>MEAN_AMT_GOODS_PRICE_category</th>\n",
       "      <th>AMT_INCOME_TOTAL_category</th>\n",
       "      <th>Customer Segment</th>\n",
       "    </tr>\n",
       "  </thead>\n",
       "  <tbody>\n",
       "    <tr>\n",
       "      <th>0</th>\n",
       "      <td>1900001</td>\n",
       "      <td>F</td>\n",
       "      <td>N</td>\n",
       "      <td>Y</td>\n",
       "      <td>1</td>\n",
       "      <td>State servant</td>\n",
       "      <td>Secondary / secondary special</td>\n",
       "      <td>2019</td>\n",
       "      <td>135000</td>\n",
       "      <td>32805.000000</td>\n",
       "      <td>high</td>\n",
       "      <td>medium</td>\n",
       "      <td>Careless Customer</td>\n",
       "    </tr>\n",
       "    <tr>\n",
       "      <th>1</th>\n",
       "      <td>1900002</td>\n",
       "      <td>M</td>\n",
       "      <td>Y</td>\n",
       "      <td>Y</td>\n",
       "      <td>1</td>\n",
       "      <td>Working</td>\n",
       "      <td>Secondary / secondary special</td>\n",
       "      <td>2019</td>\n",
       "      <td>99000</td>\n",
       "      <td>11903.000000</td>\n",
       "      <td>low</td>\n",
       "      <td>low</td>\n",
       "      <td>Standard Customer</td>\n",
       "    </tr>\n",
       "    <tr>\n",
       "      <th>2</th>\n",
       "      <td>1900003</td>\n",
       "      <td>M</td>\n",
       "      <td>N</td>\n",
       "      <td>Y</td>\n",
       "      <td>2</td>\n",
       "      <td>Pensioner</td>\n",
       "      <td>Secondary / secondary special</td>\n",
       "      <td>2019</td>\n",
       "      <td>202500</td>\n",
       "      <td>12628.000000</td>\n",
       "      <td>low</td>\n",
       "      <td>medium</td>\n",
       "      <td>Target Customer</td>\n",
       "    </tr>\n",
       "    <tr>\n",
       "      <th>3</th>\n",
       "      <td>1900004</td>\n",
       "      <td>M</td>\n",
       "      <td>Y</td>\n",
       "      <td>N</td>\n",
       "      <td>0</td>\n",
       "      <td>Commercial associate</td>\n",
       "      <td>Secondary / secondary special</td>\n",
       "      <td>2019</td>\n",
       "      <td>315000</td>\n",
       "      <td>17686.166667</td>\n",
       "      <td>medium</td>\n",
       "      <td>high</td>\n",
       "      <td>Target Customer</td>\n",
       "    </tr>\n",
       "    <tr>\n",
       "      <th>4</th>\n",
       "      <td>1900005</td>\n",
       "      <td>M</td>\n",
       "      <td>Y</td>\n",
       "      <td>N</td>\n",
       "      <td>0</td>\n",
       "      <td>Working</td>\n",
       "      <td>Incomplete higher</td>\n",
       "      <td>2019</td>\n",
       "      <td>180000</td>\n",
       "      <td>6907.000000</td>\n",
       "      <td>low</td>\n",
       "      <td>medium</td>\n",
       "      <td>Target Customer</td>\n",
       "    </tr>\n",
       "    <tr>\n",
       "      <th>...</th>\n",
       "      <td>...</td>\n",
       "      <td>...</td>\n",
       "      <td>...</td>\n",
       "      <td>...</td>\n",
       "      <td>...</td>\n",
       "      <td>...</td>\n",
       "      <td>...</td>\n",
       "      <td>...</td>\n",
       "      <td>...</td>\n",
       "      <td>...</td>\n",
       "      <td>...</td>\n",
       "      <td>...</td>\n",
       "      <td>...</td>\n",
       "    </tr>\n",
       "    <tr>\n",
       "      <th>295</th>\n",
       "      <td>1900296</td>\n",
       "      <td>F</td>\n",
       "      <td>Y</td>\n",
       "      <td>N</td>\n",
       "      <td>0</td>\n",
       "      <td>Working</td>\n",
       "      <td>Secondary / secondary special</td>\n",
       "      <td>2019</td>\n",
       "      <td>126000</td>\n",
       "      <td>30391.000000</td>\n",
       "      <td>high</td>\n",
       "      <td>medium</td>\n",
       "      <td>Careless Customer</td>\n",
       "    </tr>\n",
       "    <tr>\n",
       "      <th>296</th>\n",
       "      <td>1900297</td>\n",
       "      <td>M</td>\n",
       "      <td>Y</td>\n",
       "      <td>Y</td>\n",
       "      <td>0</td>\n",
       "      <td>Commercial associate</td>\n",
       "      <td>Secondary / secondary special</td>\n",
       "      <td>2019</td>\n",
       "      <td>315000</td>\n",
       "      <td>17686.166667</td>\n",
       "      <td>medium</td>\n",
       "      <td>high</td>\n",
       "      <td>Target Customer</td>\n",
       "    </tr>\n",
       "    <tr>\n",
       "      <th>297</th>\n",
       "      <td>1900298</td>\n",
       "      <td>M</td>\n",
       "      <td>Y</td>\n",
       "      <td>N</td>\n",
       "      <td>0</td>\n",
       "      <td>Pensioner</td>\n",
       "      <td>Secondary / secondary special</td>\n",
       "      <td>2019</td>\n",
       "      <td>72000</td>\n",
       "      <td>12551.000000</td>\n",
       "      <td>low</td>\n",
       "      <td>low</td>\n",
       "      <td>Standard Customer</td>\n",
       "    </tr>\n",
       "    <tr>\n",
       "      <th>298</th>\n",
       "      <td>1900299</td>\n",
       "      <td>M</td>\n",
       "      <td>N</td>\n",
       "      <td>N</td>\n",
       "      <td>0</td>\n",
       "      <td>Pensioner</td>\n",
       "      <td>Secondary / secondary special</td>\n",
       "      <td>2019</td>\n",
       "      <td>166500</td>\n",
       "      <td>25748.000000</td>\n",
       "      <td>high</td>\n",
       "      <td>medium</td>\n",
       "      <td>Careless Customer</td>\n",
       "    </tr>\n",
       "    <tr>\n",
       "      <th>299</th>\n",
       "      <td>1900300</td>\n",
       "      <td>F</td>\n",
       "      <td>Y</td>\n",
       "      <td>Y</td>\n",
       "      <td>0</td>\n",
       "      <td>Pensioner</td>\n",
       "      <td>Secondary / secondary special</td>\n",
       "      <td>2019</td>\n",
       "      <td>180000</td>\n",
       "      <td>5862.000000</td>\n",
       "      <td>low</td>\n",
       "      <td>medium</td>\n",
       "      <td>Target Customer</td>\n",
       "    </tr>\n",
       "  </tbody>\n",
       "</table>\n",
       "<p>300 rows × 13 columns</p>\n",
       "</div>"
      ],
      "text/plain": [
       "     Customer_id CODE_GENDER FLAG_OWN_CAR FLAG_OWN_REALTY  CNT_CHILDREN  \\\n",
       "0        1900001           F            N               Y             1   \n",
       "1        1900002           M            Y               Y             1   \n",
       "2        1900003           M            N               Y             2   \n",
       "3        1900004           M            Y               N             0   \n",
       "4        1900005           M            Y               N             0   \n",
       "..           ...         ...          ...             ...           ...   \n",
       "295      1900296           F            Y               N             0   \n",
       "296      1900297           M            Y               Y             0   \n",
       "297      1900298           M            Y               N             0   \n",
       "298      1900299           M            N               N             0   \n",
       "299      1900300           F            Y               Y             0   \n",
       "\n",
       "         NAME_INCOME_TYPE            NAME_EDUCATION_TYPE  Year  \\\n",
       "0           State servant  Secondary / secondary special  2019   \n",
       "1                 Working  Secondary / secondary special  2019   \n",
       "2               Pensioner  Secondary / secondary special  2019   \n",
       "3    Commercial associate  Secondary / secondary special  2019   \n",
       "4                 Working              Incomplete higher  2019   \n",
       "..                    ...                            ...   ...   \n",
       "295               Working  Secondary / secondary special  2019   \n",
       "296  Commercial associate  Secondary / secondary special  2019   \n",
       "297             Pensioner  Secondary / secondary special  2019   \n",
       "298             Pensioner  Secondary / secondary special  2019   \n",
       "299             Pensioner  Secondary / secondary special  2019   \n",
       "\n",
       "     AMT_INCOME_TOTAL  MEAN_AMT_GOODS_PRICE MEAN_AMT_GOODS_PRICE_category  \\\n",
       "0              135000          32805.000000                          high   \n",
       "1               99000          11903.000000                           low   \n",
       "2              202500          12628.000000                           low   \n",
       "3              315000          17686.166667                        medium   \n",
       "4              180000           6907.000000                           low   \n",
       "..                ...                   ...                           ...   \n",
       "295            126000          30391.000000                          high   \n",
       "296            315000          17686.166667                        medium   \n",
       "297             72000          12551.000000                           low   \n",
       "298            166500          25748.000000                          high   \n",
       "299            180000           5862.000000                           low   \n",
       "\n",
       "    AMT_INCOME_TOTAL_category   Customer Segment  \n",
       "0                      medium  Careless Customer  \n",
       "1                         low  Standard Customer  \n",
       "2                      medium    Target Customer  \n",
       "3                        high    Target Customer  \n",
       "4                      medium    Target Customer  \n",
       "..                        ...                ...  \n",
       "295                    medium  Careless Customer  \n",
       "296                      high    Target Customer  \n",
       "297                       low  Standard Customer  \n",
       "298                    medium  Careless Customer  \n",
       "299                    medium    Target Customer  \n",
       "\n",
       "[300 rows x 13 columns]"
      ]
     },
     "execution_count": 26,
     "metadata": {},
     "output_type": "execute_result"
    }
   ],
   "source": [
    "cust_data['Customer Segment'] = cust_data.apply(label_cluster, axis = 1)\n",
    "cust_data"
   ]
  },
  {
   "cell_type": "markdown",
   "metadata": {},
   "source": [
    "## 4.2 Customer segmentation as per value counts"
   ]
  },
  {
   "cell_type": "code",
   "execution_count": 27,
   "metadata": {},
   "outputs": [
    {
     "data": {
      "text/plain": [
       "Target Customer      131\n",
       "Careless Customer    100\n",
       "Standard Customer     40\n",
       "Sensible Customer     29\n",
       "Name: Customer Segment, dtype: int64"
      ]
     },
     "execution_count": 27,
     "metadata": {},
     "output_type": "execute_result"
    }
   ],
   "source": [
    "cust_data['Customer Segment'].value_counts()"
   ]
  },
  {
   "cell_type": "markdown",
   "metadata": {},
   "source": [
    "- __Observations__\n",
    "\n",
    "    - We have 131 customers to target for our products i.e, 43.67% which is very good value.\n",
    "    - We have 40 Standard and 29 Sensible customers also, with more due diligence we can pitch the products to them as well."
   ]
  },
  {
   "cell_type": "code",
   "execution_count": null,
   "metadata": {},
   "outputs": [],
   "source": []
  }
 ],
 "metadata": {
  "kernelspec": {
   "display_name": "gputest",
   "language": "python",
   "name": "gputest"
  },
  "language_info": {
   "codemirror_mode": {
    "name": "ipython",
    "version": 3
   },
   "file_extension": ".py",
   "mimetype": "text/x-python",
   "name": "python",
   "nbconvert_exporter": "python",
   "pygments_lexer": "ipython3",
   "version": "3.6.10"
  }
 },
 "nbformat": 4,
 "nbformat_minor": 4
}
