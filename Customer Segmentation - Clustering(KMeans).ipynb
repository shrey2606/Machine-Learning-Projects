{
 "cells": [
  {
   "cell_type": "markdown",
   "metadata": {},
   "source": [
    "# Customer Segmentation - Using KMeans"
   ]
  },
  {
   "cell_type": "markdown",
   "metadata": {},
   "source": [
    "## Table of Contents\n",
    "\n",
    "1. [Problem Statement](#section1)<br>\n",
    "2. [Data Loading and Description](#section2)\n",
    "3. [Data Preprocessing](#section3)\n",
    "4. [Applying K-Means](#section4)<br>\n",
    "    - 4.1 [Customer Segments](#section401)<br>\n",
    "    - 4.2 [Adding the customer segment into the dataset](#section501)<br>"
   ]
  },
  {
   "cell_type": "markdown",
   "metadata": {},
   "source": [
    "## 1. Problem Statement"
   ]
  },
  {
   "cell_type": "markdown",
   "metadata": {},
   "source": [
    "The goal is to make __different segments of customers__ for the insurance using __KMeans__."
   ]
  },
  {
   "cell_type": "markdown",
   "metadata": {},
   "source": [
    "## 2. Data Loading and Description"
   ]
  },
  {
   "cell_type": "markdown",
   "metadata": {},
   "source": [
    "- The dataset consists the information about the people for the customer segmentation. Various variables present in the data includes Customer gender,  Income Type, Price of goods etc.\n",
    "\n",
    "- The dataset comprises of __600 observations of 14 columns__."
   ]
  },
  {
   "cell_type": "markdown",
   "metadata": {},
   "source": [
    "#### Importing packages"
   ]
  },
  {
   "cell_type": "code",
   "execution_count": 1,
   "metadata": {},
   "outputs": [
    {
     "name": "stderr",
     "output_type": "stream",
     "text": [
      "\n",
      "Bad key \"text.kerning_factor\" on line 4 in\n",
      "C:\\Anaconda3\\envs\\gputest\\lib\\site-packages\\matplotlib\\mpl-data\\stylelib\\_classic_test_patch.mplstyle.\n",
      "You probably need to get an updated matplotlibrc file from\n",
      "http://github.com/matplotlib/matplotlib/blob/master/matplotlibrc.template\n",
      "or from the matplotlib source distribution\n"
     ]
    }
   ],
   "source": [
    "import numpy as np\n",
    "import pandas as pd\n",
    "import matplotlib.pyplot as plt\n",
    "import seaborn as sns\n",
    "import os\n",
    "\n",
    "from sklearn.model_selection import train_test_split\n",
    "from sklearn.preprocessing import StandardScaler, OneHotEncoder\n",
    "\n",
    "%matplotlib inline\n",
    "\n",
    "import warnings\n",
    "warnings.filterwarnings('ignore')"
   ]
  },
  {
   "cell_type": "markdown",
   "metadata": {},
   "source": [
    "# 3. Data Preprocessing"
   ]
  },
  {
   "cell_type": "code",
   "execution_count": 2,
   "metadata": {},
   "outputs": [],
   "source": [
    "cust_data = pd.read_csv(\"C:/Users/shrey/OneDrive/Desktop/Work/Final_Data/Customer_data_v2.csv\")"
   ]
  },
  {
   "cell_type": "code",
   "execution_count": 3,
   "metadata": {},
   "outputs": [
    {
     "data": {
      "text/plain": [
       "(600, 14)"
      ]
     },
     "execution_count": 3,
     "metadata": {},
     "output_type": "execute_result"
    }
   ],
   "source": [
    "cust_data.shape"
   ]
  },
  {
   "cell_type": "code",
   "execution_count": 4,
   "metadata": {
    "scrolled": true
   },
   "outputs": [
    {
     "data": {
      "text/html": [
       "<div>\n",
       "<style scoped>\n",
       "    .dataframe tbody tr th:only-of-type {\n",
       "        vertical-align: middle;\n",
       "    }\n",
       "\n",
       "    .dataframe tbody tr th {\n",
       "        vertical-align: top;\n",
       "    }\n",
       "\n",
       "    .dataframe thead th {\n",
       "        text-align: right;\n",
       "    }\n",
       "</style>\n",
       "<table border=\"1\" class=\"dataframe\">\n",
       "  <thead>\n",
       "    <tr style=\"text-align: right;\">\n",
       "      <th></th>\n",
       "      <th>Customer_id</th>\n",
       "      <th>CODE_GENDER</th>\n",
       "      <th>FLAG_OWN_CAR</th>\n",
       "      <th>FLAG_OWN_REALTY</th>\n",
       "      <th>CNT_CHILDREN</th>\n",
       "      <th>NAME_INCOME_TYPE</th>\n",
       "      <th>NAME_EDUCATION_TYPE</th>\n",
       "      <th>Month</th>\n",
       "      <th>Year</th>\n",
       "      <th>Product</th>\n",
       "      <th>Brand</th>\n",
       "      <th>Rating</th>\n",
       "      <th>AMT_GOODS_PRICE</th>\n",
       "      <th>AMT_INCOME_TOTAL</th>\n",
       "    </tr>\n",
       "  </thead>\n",
       "  <tbody>\n",
       "    <tr>\n",
       "      <th>0</th>\n",
       "      <td>1900001</td>\n",
       "      <td>F</td>\n",
       "      <td>N</td>\n",
       "      <td>Y</td>\n",
       "      <td>1</td>\n",
       "      <td>State servant</td>\n",
       "      <td>Secondary / secondary special</td>\n",
       "      <td>Apr</td>\n",
       "      <td>2019</td>\n",
       "      <td>Refrigerator</td>\n",
       "      <td>LG</td>\n",
       "      <td>8</td>\n",
       "      <td>32805</td>\n",
       "      <td>135000</td>\n",
       "    </tr>\n",
       "    <tr>\n",
       "      <th>1</th>\n",
       "      <td>1900002</td>\n",
       "      <td>M</td>\n",
       "      <td>Y</td>\n",
       "      <td>Y</td>\n",
       "      <td>1</td>\n",
       "      <td>Working</td>\n",
       "      <td>Secondary / secondary special</td>\n",
       "      <td>Apr</td>\n",
       "      <td>2019</td>\n",
       "      <td>Microwave</td>\n",
       "      <td>LG</td>\n",
       "      <td>8</td>\n",
       "      <td>11903</td>\n",
       "      <td>99000</td>\n",
       "    </tr>\n",
       "    <tr>\n",
       "      <th>2</th>\n",
       "      <td>1900003</td>\n",
       "      <td>M</td>\n",
       "      <td>N</td>\n",
       "      <td>Y</td>\n",
       "      <td>2</td>\n",
       "      <td>Pensioner</td>\n",
       "      <td>Secondary / secondary special</td>\n",
       "      <td>Apr</td>\n",
       "      <td>2019</td>\n",
       "      <td>WaterPurifier</td>\n",
       "      <td>LG</td>\n",
       "      <td>8</td>\n",
       "      <td>12628</td>\n",
       "      <td>202500</td>\n",
       "    </tr>\n",
       "    <tr>\n",
       "      <th>3</th>\n",
       "      <td>1900004</td>\n",
       "      <td>M</td>\n",
       "      <td>Y</td>\n",
       "      <td>N</td>\n",
       "      <td>0</td>\n",
       "      <td>Commercial associate</td>\n",
       "      <td>Secondary / secondary special</td>\n",
       "      <td>Apr</td>\n",
       "      <td>2019</td>\n",
       "      <td>Blender</td>\n",
       "      <td>LG</td>\n",
       "      <td>9</td>\n",
       "      <td>7671</td>\n",
       "      <td>315000</td>\n",
       "    </tr>\n",
       "    <tr>\n",
       "      <th>4</th>\n",
       "      <td>1900004</td>\n",
       "      <td>M</td>\n",
       "      <td>Y</td>\n",
       "      <td>N</td>\n",
       "      <td>0</td>\n",
       "      <td>Commercial associate</td>\n",
       "      <td>Secondary / secondary special</td>\n",
       "      <td>Apr</td>\n",
       "      <td>2019</td>\n",
       "      <td>Microwave</td>\n",
       "      <td>LG</td>\n",
       "      <td>7</td>\n",
       "      <td>12315</td>\n",
       "      <td>315000</td>\n",
       "    </tr>\n",
       "  </tbody>\n",
       "</table>\n",
       "</div>"
      ],
      "text/plain": [
       "   Customer_id CODE_GENDER FLAG_OWN_CAR FLAG_OWN_REALTY  CNT_CHILDREN  \\\n",
       "0      1900001           F            N               Y             1   \n",
       "1      1900002           M            Y               Y             1   \n",
       "2      1900003           M            N               Y             2   \n",
       "3      1900004           M            Y               N             0   \n",
       "4      1900004           M            Y               N             0   \n",
       "\n",
       "       NAME_INCOME_TYPE            NAME_EDUCATION_TYPE Month  Year  \\\n",
       "0         State servant  Secondary / secondary special   Apr  2019   \n",
       "1               Working  Secondary / secondary special   Apr  2019   \n",
       "2             Pensioner  Secondary / secondary special   Apr  2019   \n",
       "3  Commercial associate  Secondary / secondary special   Apr  2019   \n",
       "4  Commercial associate  Secondary / secondary special   Apr  2019   \n",
       "\n",
       "         Product Brand  Rating  AMT_GOODS_PRICE  AMT_INCOME_TOTAL  \n",
       "0   Refrigerator    LG       8            32805            135000  \n",
       "1      Microwave    LG       8            11903             99000  \n",
       "2  WaterPurifier    LG       8            12628            202500  \n",
       "3        Blender    LG       9             7671            315000  \n",
       "4      Microwave    LG       7            12315            315000  "
      ]
     },
     "execution_count": 4,
     "metadata": {},
     "output_type": "execute_result"
    }
   ],
   "source": [
    "cust_data.head()"
   ]
  },
  {
   "cell_type": "code",
   "execution_count": 5,
   "metadata": {
    "scrolled": true
   },
   "outputs": [
    {
     "name": "stdout",
     "output_type": "stream",
     "text": [
      "<class 'pandas.core.frame.DataFrame'>\n",
      "RangeIndex: 600 entries, 0 to 599\n",
      "Data columns (total 14 columns):\n",
      " #   Column               Non-Null Count  Dtype \n",
      "---  ------               --------------  ----- \n",
      " 0   Customer_id          600 non-null    int64 \n",
      " 1   CODE_GENDER          600 non-null    object\n",
      " 2   FLAG_OWN_CAR         600 non-null    object\n",
      " 3   FLAG_OWN_REALTY      600 non-null    object\n",
      " 4   CNT_CHILDREN         600 non-null    int64 \n",
      " 5   NAME_INCOME_TYPE     600 non-null    object\n",
      " 6   NAME_EDUCATION_TYPE  600 non-null    object\n",
      " 7   Month                600 non-null    object\n",
      " 8   Year                 600 non-null    int64 \n",
      " 9   Product              600 non-null    object\n",
      " 10  Brand                600 non-null    object\n",
      " 11  Rating               600 non-null    int64 \n",
      " 12  AMT_GOODS_PRICE      600 non-null    int64 \n",
      " 13  AMT_INCOME_TOTAL     600 non-null    int64 \n",
      "dtypes: int64(6), object(8)\n",
      "memory usage: 65.8+ KB\n"
     ]
    }
   ],
   "source": [
    "cust_data.info()"
   ]
  },
  {
   "cell_type": "code",
   "execution_count": 6,
   "metadata": {
    "scrolled": true
   },
   "outputs": [
    {
     "data": {
      "text/html": [
       "<div>\n",
       "<style scoped>\n",
       "    .dataframe tbody tr th:only-of-type {\n",
       "        vertical-align: middle;\n",
       "    }\n",
       "\n",
       "    .dataframe tbody tr th {\n",
       "        vertical-align: top;\n",
       "    }\n",
       "\n",
       "    .dataframe thead th {\n",
       "        text-align: right;\n",
       "    }\n",
       "</style>\n",
       "<table border=\"1\" class=\"dataframe\">\n",
       "  <thead>\n",
       "    <tr style=\"text-align: right;\">\n",
       "      <th></th>\n",
       "      <th>Customer_id</th>\n",
       "      <th>CNT_CHILDREN</th>\n",
       "      <th>Year</th>\n",
       "      <th>Rating</th>\n",
       "      <th>AMT_GOODS_PRICE</th>\n",
       "      <th>AMT_INCOME_TOTAL</th>\n",
       "    </tr>\n",
       "  </thead>\n",
       "  <tbody>\n",
       "    <tr>\n",
       "      <th>count</th>\n",
       "      <td>6.000000e+02</td>\n",
       "      <td>600.000000</td>\n",
       "      <td>600.0</td>\n",
       "      <td>600.000000</td>\n",
       "      <td>600.000000</td>\n",
       "      <td>600.00000</td>\n",
       "    </tr>\n",
       "    <tr>\n",
       "      <th>mean</th>\n",
       "      <td>1.900153e+06</td>\n",
       "      <td>0.365000</td>\n",
       "      <td>2019.0</td>\n",
       "      <td>8.153333</td>\n",
       "      <td>17714.585000</td>\n",
       "      <td>230322.49500</td>\n",
       "    </tr>\n",
       "    <tr>\n",
       "      <th>std</th>\n",
       "      <td>8.998748e+01</td>\n",
       "      <td>0.756789</td>\n",
       "      <td>0.0</td>\n",
       "      <td>0.790061</td>\n",
       "      <td>9801.171285</td>\n",
       "      <td>104776.24482</td>\n",
       "    </tr>\n",
       "    <tr>\n",
       "      <th>min</th>\n",
       "      <td>1.900001e+06</td>\n",
       "      <td>0.000000</td>\n",
       "      <td>2019.0</td>\n",
       "      <td>7.000000</td>\n",
       "      <td>5143.000000</td>\n",
       "      <td>40500.00000</td>\n",
       "    </tr>\n",
       "    <tr>\n",
       "      <th>25%</th>\n",
       "      <td>1.900071e+06</td>\n",
       "      <td>0.000000</td>\n",
       "      <td>2019.0</td>\n",
       "      <td>8.000000</td>\n",
       "      <td>10894.000000</td>\n",
       "      <td>157500.00000</td>\n",
       "    </tr>\n",
       "    <tr>\n",
       "      <th>50%</th>\n",
       "      <td>1.900157e+06</td>\n",
       "      <td>0.000000</td>\n",
       "      <td>2019.0</td>\n",
       "      <td>8.000000</td>\n",
       "      <td>12628.000000</td>\n",
       "      <td>225000.00000</td>\n",
       "    </tr>\n",
       "    <tr>\n",
       "      <th>75%</th>\n",
       "      <td>1.900230e+06</td>\n",
       "      <td>1.000000</td>\n",
       "      <td>2019.0</td>\n",
       "      <td>9.000000</td>\n",
       "      <td>27733.000000</td>\n",
       "      <td>282375.00000</td>\n",
       "    </tr>\n",
       "    <tr>\n",
       "      <th>max</th>\n",
       "      <td>1.900300e+06</td>\n",
       "      <td>8.000000</td>\n",
       "      <td>2019.0</td>\n",
       "      <td>10.000000</td>\n",
       "      <td>40000.000000</td>\n",
       "      <td>675000.00000</td>\n",
       "    </tr>\n",
       "  </tbody>\n",
       "</table>\n",
       "</div>"
      ],
      "text/plain": [
       "        Customer_id  CNT_CHILDREN    Year      Rating  AMT_GOODS_PRICE  \\\n",
       "count  6.000000e+02    600.000000   600.0  600.000000       600.000000   \n",
       "mean   1.900153e+06      0.365000  2019.0    8.153333     17714.585000   \n",
       "std    8.998748e+01      0.756789     0.0    0.790061      9801.171285   \n",
       "min    1.900001e+06      0.000000  2019.0    7.000000      5143.000000   \n",
       "25%    1.900071e+06      0.000000  2019.0    8.000000     10894.000000   \n",
       "50%    1.900157e+06      0.000000  2019.0    8.000000     12628.000000   \n",
       "75%    1.900230e+06      1.000000  2019.0    9.000000     27733.000000   \n",
       "max    1.900300e+06      8.000000  2019.0   10.000000     40000.000000   \n",
       "\n",
       "       AMT_INCOME_TOTAL  \n",
       "count         600.00000  \n",
       "mean       230322.49500  \n",
       "std        104776.24482  \n",
       "min         40500.00000  \n",
       "25%        157500.00000  \n",
       "50%        225000.00000  \n",
       "75%        282375.00000  \n",
       "max        675000.00000  "
      ]
     },
     "execution_count": 6,
     "metadata": {},
     "output_type": "execute_result"
    }
   ],
   "source": [
    "cust_data.describe()"
   ]
  },
  {
   "cell_type": "markdown",
   "metadata": {},
   "source": [
    "- Grouping the customers using Customer_id to find Mean Amount spent on goods purchased"
   ]
  },
  {
   "cell_type": "code",
   "execution_count": 7,
   "metadata": {},
   "outputs": [],
   "source": [
    "mean_goods_price = cust_data.groupby(['Customer_id'])['AMT_GOODS_PRICE'].mean() # don't reset the index!\n",
    "cust_data = cust_data.set_index(['Customer_id']) # make the same index here\n",
    "cust_data['MEAN_AMT_GOODS_PRICE'] = mean_goods_price\n",
    "cust_data = cust_data.reset_index() # to take the hierarchical index off again"
   ]
  },
  {
   "cell_type": "code",
   "execution_count": 8,
   "metadata": {},
   "outputs": [],
   "source": [
    "cust_data.drop(['AMT_GOODS_PRICE'],axis=1, inplace=True)"
   ]
  },
  {
   "cell_type": "code",
   "execution_count": 9,
   "metadata": {},
   "outputs": [],
   "source": [
    "cust_data.drop(['Brand','Month', 'Product', 'Rating'],axis=1, inplace=True)"
   ]
  },
  {
   "cell_type": "code",
   "execution_count": 10,
   "metadata": {},
   "outputs": [],
   "source": [
    "cust_data.drop_duplicates(keep='first', inplace=True, ignore_index= True)"
   ]
  },
  {
   "cell_type": "code",
   "execution_count": 11,
   "metadata": {},
   "outputs": [
    {
     "data": {
      "text/html": [
       "<div>\n",
       "<style scoped>\n",
       "    .dataframe tbody tr th:only-of-type {\n",
       "        vertical-align: middle;\n",
       "    }\n",
       "\n",
       "    .dataframe tbody tr th {\n",
       "        vertical-align: top;\n",
       "    }\n",
       "\n",
       "    .dataframe thead th {\n",
       "        text-align: right;\n",
       "    }\n",
       "</style>\n",
       "<table border=\"1\" class=\"dataframe\">\n",
       "  <thead>\n",
       "    <tr style=\"text-align: right;\">\n",
       "      <th></th>\n",
       "      <th>Customer_id</th>\n",
       "      <th>CODE_GENDER</th>\n",
       "      <th>FLAG_OWN_CAR</th>\n",
       "      <th>FLAG_OWN_REALTY</th>\n",
       "      <th>CNT_CHILDREN</th>\n",
       "      <th>NAME_INCOME_TYPE</th>\n",
       "      <th>NAME_EDUCATION_TYPE</th>\n",
       "      <th>Year</th>\n",
       "      <th>AMT_INCOME_TOTAL</th>\n",
       "      <th>MEAN_AMT_GOODS_PRICE</th>\n",
       "    </tr>\n",
       "  </thead>\n",
       "  <tbody>\n",
       "    <tr>\n",
       "      <th>0</th>\n",
       "      <td>1900001</td>\n",
       "      <td>F</td>\n",
       "      <td>N</td>\n",
       "      <td>Y</td>\n",
       "      <td>1</td>\n",
       "      <td>State servant</td>\n",
       "      <td>Secondary / secondary special</td>\n",
       "      <td>2019</td>\n",
       "      <td>135000</td>\n",
       "      <td>32805.000000</td>\n",
       "    </tr>\n",
       "    <tr>\n",
       "      <th>1</th>\n",
       "      <td>1900002</td>\n",
       "      <td>M</td>\n",
       "      <td>Y</td>\n",
       "      <td>Y</td>\n",
       "      <td>1</td>\n",
       "      <td>Working</td>\n",
       "      <td>Secondary / secondary special</td>\n",
       "      <td>2019</td>\n",
       "      <td>99000</td>\n",
       "      <td>11903.000000</td>\n",
       "    </tr>\n",
       "    <tr>\n",
       "      <th>2</th>\n",
       "      <td>1900003</td>\n",
       "      <td>M</td>\n",
       "      <td>N</td>\n",
       "      <td>Y</td>\n",
       "      <td>2</td>\n",
       "      <td>Pensioner</td>\n",
       "      <td>Secondary / secondary special</td>\n",
       "      <td>2019</td>\n",
       "      <td>202500</td>\n",
       "      <td>12628.000000</td>\n",
       "    </tr>\n",
       "    <tr>\n",
       "      <th>3</th>\n",
       "      <td>1900004</td>\n",
       "      <td>M</td>\n",
       "      <td>Y</td>\n",
       "      <td>N</td>\n",
       "      <td>0</td>\n",
       "      <td>Commercial associate</td>\n",
       "      <td>Secondary / secondary special</td>\n",
       "      <td>2019</td>\n",
       "      <td>315000</td>\n",
       "      <td>17686.166667</td>\n",
       "    </tr>\n",
       "    <tr>\n",
       "      <th>4</th>\n",
       "      <td>1900005</td>\n",
       "      <td>M</td>\n",
       "      <td>Y</td>\n",
       "      <td>N</td>\n",
       "      <td>0</td>\n",
       "      <td>Working</td>\n",
       "      <td>Incomplete higher</td>\n",
       "      <td>2019</td>\n",
       "      <td>180000</td>\n",
       "      <td>6907.000000</td>\n",
       "    </tr>\n",
       "    <tr>\n",
       "      <th>...</th>\n",
       "      <td>...</td>\n",
       "      <td>...</td>\n",
       "      <td>...</td>\n",
       "      <td>...</td>\n",
       "      <td>...</td>\n",
       "      <td>...</td>\n",
       "      <td>...</td>\n",
       "      <td>...</td>\n",
       "      <td>...</td>\n",
       "      <td>...</td>\n",
       "    </tr>\n",
       "    <tr>\n",
       "      <th>295</th>\n",
       "      <td>1900296</td>\n",
       "      <td>F</td>\n",
       "      <td>Y</td>\n",
       "      <td>N</td>\n",
       "      <td>0</td>\n",
       "      <td>Working</td>\n",
       "      <td>Secondary / secondary special</td>\n",
       "      <td>2019</td>\n",
       "      <td>126000</td>\n",
       "      <td>30391.000000</td>\n",
       "    </tr>\n",
       "    <tr>\n",
       "      <th>296</th>\n",
       "      <td>1900297</td>\n",
       "      <td>M</td>\n",
       "      <td>Y</td>\n",
       "      <td>Y</td>\n",
       "      <td>0</td>\n",
       "      <td>Commercial associate</td>\n",
       "      <td>Secondary / secondary special</td>\n",
       "      <td>2019</td>\n",
       "      <td>315000</td>\n",
       "      <td>17686.166667</td>\n",
       "    </tr>\n",
       "    <tr>\n",
       "      <th>297</th>\n",
       "      <td>1900298</td>\n",
       "      <td>M</td>\n",
       "      <td>Y</td>\n",
       "      <td>N</td>\n",
       "      <td>0</td>\n",
       "      <td>Pensioner</td>\n",
       "      <td>Secondary / secondary special</td>\n",
       "      <td>2019</td>\n",
       "      <td>72000</td>\n",
       "      <td>12551.000000</td>\n",
       "    </tr>\n",
       "    <tr>\n",
       "      <th>298</th>\n",
       "      <td>1900299</td>\n",
       "      <td>M</td>\n",
       "      <td>N</td>\n",
       "      <td>N</td>\n",
       "      <td>0</td>\n",
       "      <td>Pensioner</td>\n",
       "      <td>Secondary / secondary special</td>\n",
       "      <td>2019</td>\n",
       "      <td>166500</td>\n",
       "      <td>25748.000000</td>\n",
       "    </tr>\n",
       "    <tr>\n",
       "      <th>299</th>\n",
       "      <td>1900300</td>\n",
       "      <td>F</td>\n",
       "      <td>Y</td>\n",
       "      <td>Y</td>\n",
       "      <td>0</td>\n",
       "      <td>Pensioner</td>\n",
       "      <td>Secondary / secondary special</td>\n",
       "      <td>2019</td>\n",
       "      <td>180000</td>\n",
       "      <td>5862.000000</td>\n",
       "    </tr>\n",
       "  </tbody>\n",
       "</table>\n",
       "<p>300 rows × 10 columns</p>\n",
       "</div>"
      ],
      "text/plain": [
       "     Customer_id CODE_GENDER FLAG_OWN_CAR FLAG_OWN_REALTY  CNT_CHILDREN  \\\n",
       "0        1900001           F            N               Y             1   \n",
       "1        1900002           M            Y               Y             1   \n",
       "2        1900003           M            N               Y             2   \n",
       "3        1900004           M            Y               N             0   \n",
       "4        1900005           M            Y               N             0   \n",
       "..           ...         ...          ...             ...           ...   \n",
       "295      1900296           F            Y               N             0   \n",
       "296      1900297           M            Y               Y             0   \n",
       "297      1900298           M            Y               N             0   \n",
       "298      1900299           M            N               N             0   \n",
       "299      1900300           F            Y               Y             0   \n",
       "\n",
       "         NAME_INCOME_TYPE            NAME_EDUCATION_TYPE  Year  \\\n",
       "0           State servant  Secondary / secondary special  2019   \n",
       "1                 Working  Secondary / secondary special  2019   \n",
       "2               Pensioner  Secondary / secondary special  2019   \n",
       "3    Commercial associate  Secondary / secondary special  2019   \n",
       "4                 Working              Incomplete higher  2019   \n",
       "..                    ...                            ...   ...   \n",
       "295               Working  Secondary / secondary special  2019   \n",
       "296  Commercial associate  Secondary / secondary special  2019   \n",
       "297             Pensioner  Secondary / secondary special  2019   \n",
       "298             Pensioner  Secondary / secondary special  2019   \n",
       "299             Pensioner  Secondary / secondary special  2019   \n",
       "\n",
       "     AMT_INCOME_TOTAL  MEAN_AMT_GOODS_PRICE  \n",
       "0              135000          32805.000000  \n",
       "1               99000          11903.000000  \n",
       "2              202500          12628.000000  \n",
       "3              315000          17686.166667  \n",
       "4              180000           6907.000000  \n",
       "..                ...                   ...  \n",
       "295            126000          30391.000000  \n",
       "296            315000          17686.166667  \n",
       "297             72000          12551.000000  \n",
       "298            166500          25748.000000  \n",
       "299            180000           5862.000000  \n",
       "\n",
       "[300 rows x 10 columns]"
      ]
     },
     "execution_count": 11,
     "metadata": {},
     "output_type": "execute_result"
    }
   ],
   "source": [
    "cust_data.head(600)"
   ]
  },
  {
   "cell_type": "code",
   "execution_count": 12,
   "metadata": {},
   "outputs": [],
   "source": [
    "col_cat = cust_data.select_dtypes(include='object').columns.tolist()\n",
    "col_num = cust_data.select_dtypes(exclude='object').columns.tolist()"
   ]
  },
  {
   "cell_type": "markdown",
   "metadata": {},
   "source": [
    "#### Getting unique values per columns for encoding purpose"
   ]
  },
  {
   "cell_type": "code",
   "execution_count": 13,
   "metadata": {
    "scrolled": true
   },
   "outputs": [
    {
     "name": "stdout",
     "output_type": "stream",
     "text": [
      "Column CODE_GENDER unique values: 2\n",
      "Column FLAG_OWN_CAR unique values: 2\n",
      "Column FLAG_OWN_REALTY unique values: 2\n",
      "Column NAME_INCOME_TYPE unique values: 4\n",
      "Column NAME_EDUCATION_TYPE unique values: 4\n"
     ]
    }
   ],
   "source": [
    "for c in col_cat:\n",
    "    print('Column {} unique values: {}'.format(c, len(cust_data[c].unique())))"
   ]
  },
  {
   "cell_type": "markdown",
   "metadata": {},
   "source": [
    "#### One hot encoding for categorical features"
   ]
  },
  {
   "cell_type": "code",
   "execution_count": 14,
   "metadata": {},
   "outputs": [],
   "source": [
    "cust_data2 = pd.get_dummies(cust_data, columns=['CODE_GENDER', 'FLAG_OWN_CAR', 'FLAG_OWN_REALTY', 'NAME_INCOME_TYPE', 'NAME_EDUCATION_TYPE'])\n"
   ]
  },
  {
   "cell_type": "code",
   "execution_count": 15,
   "metadata": {},
   "outputs": [
    {
     "data": {
      "text/html": [
       "<div>\n",
       "<style scoped>\n",
       "    .dataframe tbody tr th:only-of-type {\n",
       "        vertical-align: middle;\n",
       "    }\n",
       "\n",
       "    .dataframe tbody tr th {\n",
       "        vertical-align: top;\n",
       "    }\n",
       "\n",
       "    .dataframe thead th {\n",
       "        text-align: right;\n",
       "    }\n",
       "</style>\n",
       "<table border=\"1\" class=\"dataframe\">\n",
       "  <thead>\n",
       "    <tr style=\"text-align: right;\">\n",
       "      <th></th>\n",
       "      <th>Customer_id</th>\n",
       "      <th>CNT_CHILDREN</th>\n",
       "      <th>Year</th>\n",
       "      <th>AMT_INCOME_TOTAL</th>\n",
       "      <th>MEAN_AMT_GOODS_PRICE</th>\n",
       "      <th>CODE_GENDER_F</th>\n",
       "      <th>CODE_GENDER_M</th>\n",
       "      <th>FLAG_OWN_CAR_N</th>\n",
       "      <th>FLAG_OWN_CAR_Y</th>\n",
       "      <th>FLAG_OWN_REALTY_N</th>\n",
       "      <th>FLAG_OWN_REALTY_Y</th>\n",
       "      <th>NAME_INCOME_TYPE_Commercial associate</th>\n",
       "      <th>NAME_INCOME_TYPE_Pensioner</th>\n",
       "      <th>NAME_INCOME_TYPE_State servant</th>\n",
       "      <th>NAME_INCOME_TYPE_Working</th>\n",
       "      <th>NAME_EDUCATION_TYPE_Higher education</th>\n",
       "      <th>NAME_EDUCATION_TYPE_Incomplete higher</th>\n",
       "      <th>NAME_EDUCATION_TYPE_Lower secondary</th>\n",
       "      <th>NAME_EDUCATION_TYPE_Secondary / secondary special</th>\n",
       "    </tr>\n",
       "  </thead>\n",
       "  <tbody>\n",
       "    <tr>\n",
       "      <th>0</th>\n",
       "      <td>1900001</td>\n",
       "      <td>1</td>\n",
       "      <td>2019</td>\n",
       "      <td>135000</td>\n",
       "      <td>32805.000000</td>\n",
       "      <td>1</td>\n",
       "      <td>0</td>\n",
       "      <td>1</td>\n",
       "      <td>0</td>\n",
       "      <td>0</td>\n",
       "      <td>1</td>\n",
       "      <td>0</td>\n",
       "      <td>0</td>\n",
       "      <td>1</td>\n",
       "      <td>0</td>\n",
       "      <td>0</td>\n",
       "      <td>0</td>\n",
       "      <td>0</td>\n",
       "      <td>1</td>\n",
       "    </tr>\n",
       "    <tr>\n",
       "      <th>1</th>\n",
       "      <td>1900002</td>\n",
       "      <td>1</td>\n",
       "      <td>2019</td>\n",
       "      <td>99000</td>\n",
       "      <td>11903.000000</td>\n",
       "      <td>0</td>\n",
       "      <td>1</td>\n",
       "      <td>0</td>\n",
       "      <td>1</td>\n",
       "      <td>0</td>\n",
       "      <td>1</td>\n",
       "      <td>0</td>\n",
       "      <td>0</td>\n",
       "      <td>0</td>\n",
       "      <td>1</td>\n",
       "      <td>0</td>\n",
       "      <td>0</td>\n",
       "      <td>0</td>\n",
       "      <td>1</td>\n",
       "    </tr>\n",
       "    <tr>\n",
       "      <th>2</th>\n",
       "      <td>1900003</td>\n",
       "      <td>2</td>\n",
       "      <td>2019</td>\n",
       "      <td>202500</td>\n",
       "      <td>12628.000000</td>\n",
       "      <td>0</td>\n",
       "      <td>1</td>\n",
       "      <td>1</td>\n",
       "      <td>0</td>\n",
       "      <td>0</td>\n",
       "      <td>1</td>\n",
       "      <td>0</td>\n",
       "      <td>1</td>\n",
       "      <td>0</td>\n",
       "      <td>0</td>\n",
       "      <td>0</td>\n",
       "      <td>0</td>\n",
       "      <td>0</td>\n",
       "      <td>1</td>\n",
       "    </tr>\n",
       "    <tr>\n",
       "      <th>3</th>\n",
       "      <td>1900004</td>\n",
       "      <td>0</td>\n",
       "      <td>2019</td>\n",
       "      <td>315000</td>\n",
       "      <td>17686.166667</td>\n",
       "      <td>0</td>\n",
       "      <td>1</td>\n",
       "      <td>0</td>\n",
       "      <td>1</td>\n",
       "      <td>1</td>\n",
       "      <td>0</td>\n",
       "      <td>1</td>\n",
       "      <td>0</td>\n",
       "      <td>0</td>\n",
       "      <td>0</td>\n",
       "      <td>0</td>\n",
       "      <td>0</td>\n",
       "      <td>0</td>\n",
       "      <td>1</td>\n",
       "    </tr>\n",
       "    <tr>\n",
       "      <th>4</th>\n",
       "      <td>1900005</td>\n",
       "      <td>0</td>\n",
       "      <td>2019</td>\n",
       "      <td>180000</td>\n",
       "      <td>6907.000000</td>\n",
       "      <td>0</td>\n",
       "      <td>1</td>\n",
       "      <td>0</td>\n",
       "      <td>1</td>\n",
       "      <td>1</td>\n",
       "      <td>0</td>\n",
       "      <td>0</td>\n",
       "      <td>0</td>\n",
       "      <td>0</td>\n",
       "      <td>1</td>\n",
       "      <td>0</td>\n",
       "      <td>1</td>\n",
       "      <td>0</td>\n",
       "      <td>0</td>\n",
       "    </tr>\n",
       "  </tbody>\n",
       "</table>\n",
       "</div>"
      ],
      "text/plain": [
       "   Customer_id  CNT_CHILDREN  Year  AMT_INCOME_TOTAL  MEAN_AMT_GOODS_PRICE  \\\n",
       "0      1900001             1  2019            135000          32805.000000   \n",
       "1      1900002             1  2019             99000          11903.000000   \n",
       "2      1900003             2  2019            202500          12628.000000   \n",
       "3      1900004             0  2019            315000          17686.166667   \n",
       "4      1900005             0  2019            180000           6907.000000   \n",
       "\n",
       "   CODE_GENDER_F  CODE_GENDER_M  FLAG_OWN_CAR_N  FLAG_OWN_CAR_Y  \\\n",
       "0              1              0               1               0   \n",
       "1              0              1               0               1   \n",
       "2              0              1               1               0   \n",
       "3              0              1               0               1   \n",
       "4              0              1               0               1   \n",
       "\n",
       "   FLAG_OWN_REALTY_N  FLAG_OWN_REALTY_Y  \\\n",
       "0                  0                  1   \n",
       "1                  0                  1   \n",
       "2                  0                  1   \n",
       "3                  1                  0   \n",
       "4                  1                  0   \n",
       "\n",
       "   NAME_INCOME_TYPE_Commercial associate  NAME_INCOME_TYPE_Pensioner  \\\n",
       "0                                      0                           0   \n",
       "1                                      0                           0   \n",
       "2                                      0                           1   \n",
       "3                                      1                           0   \n",
       "4                                      0                           0   \n",
       "\n",
       "   NAME_INCOME_TYPE_State servant  NAME_INCOME_TYPE_Working  \\\n",
       "0                               1                         0   \n",
       "1                               0                         1   \n",
       "2                               0                         0   \n",
       "3                               0                         0   \n",
       "4                               0                         1   \n",
       "\n",
       "   NAME_EDUCATION_TYPE_Higher education  \\\n",
       "0                                     0   \n",
       "1                                     0   \n",
       "2                                     0   \n",
       "3                                     0   \n",
       "4                                     0   \n",
       "\n",
       "   NAME_EDUCATION_TYPE_Incomplete higher  NAME_EDUCATION_TYPE_Lower secondary  \\\n",
       "0                                      0                                    0   \n",
       "1                                      0                                    0   \n",
       "2                                      0                                    0   \n",
       "3                                      0                                    0   \n",
       "4                                      1                                    0   \n",
       "\n",
       "   NAME_EDUCATION_TYPE_Secondary / secondary special  \n",
       "0                                                  1  \n",
       "1                                                  1  \n",
       "2                                                  1  \n",
       "3                                                  1  \n",
       "4                                                  0  "
      ]
     },
     "execution_count": 15,
     "metadata": {},
     "output_type": "execute_result"
    }
   ],
   "source": [
    "cust_data2.head()"
   ]
  },
  {
   "cell_type": "code",
   "execution_count": 16,
   "metadata": {},
   "outputs": [
    {
     "data": {
      "text/plain": [
       "Index(['Customer_id', 'CNT_CHILDREN', 'Year', 'AMT_INCOME_TOTAL',\n",
       "       'MEAN_AMT_GOODS_PRICE', 'CODE_GENDER_F', 'CODE_GENDER_M',\n",
       "       'FLAG_OWN_CAR_N', 'FLAG_OWN_CAR_Y', 'FLAG_OWN_REALTY_N',\n",
       "       'FLAG_OWN_REALTY_Y', 'NAME_INCOME_TYPE_Commercial associate',\n",
       "       'NAME_INCOME_TYPE_Pensioner', 'NAME_INCOME_TYPE_State servant',\n",
       "       'NAME_INCOME_TYPE_Working', 'NAME_EDUCATION_TYPE_Higher education',\n",
       "       'NAME_EDUCATION_TYPE_Incomplete higher',\n",
       "       'NAME_EDUCATION_TYPE_Lower secondary',\n",
       "       'NAME_EDUCATION_TYPE_Secondary / secondary special'],\n",
       "      dtype='object')"
      ]
     },
     "execution_count": 16,
     "metadata": {},
     "output_type": "execute_result"
    }
   ],
   "source": [
    "cust_data2.columns"
   ]
  },
  {
   "cell_type": "code",
   "execution_count": 17,
   "metadata": {},
   "outputs": [],
   "source": [
    "#Selecting columns for clusterisation with k-means\n",
    "selected_cols_categ = [\"CODE_GENDER_M\",\"CODE_GENDER_F\",\"FLAG_OWN_CAR_N\",\"FLAG_OWN_CAR_Y\",\"NAME_INCOME_TYPE_Commercial associate\",\"NAME_INCOME_TYPE_Pensioner\",\"NAME_INCOME_TYPE_State servant\",\"NAME_INCOME_TYPE_Working\",\"CNT_CHILDREN\",\"MEAN_AMT_GOODS_PRICE\", \"AMT_INCOME_TOTAL\"]\n",
    "cluster_data2 = cust_data2.loc[:,selected_cols_categ]"
   ]
  },
  {
   "cell_type": "code",
   "execution_count": 18,
   "metadata": {},
   "outputs": [],
   "source": [
    "scaler = StandardScaler()\n",
    "cluster_scaled2 = scaler.fit_transform(cluster_data2)"
   ]
  },
  {
   "cell_type": "markdown",
   "metadata": {},
   "source": [
    "## Applying K-Means for Mixed Variables(Categorical and Continuous)"
   ]
  },
  {
   "cell_type": "code",
   "execution_count": 19,
   "metadata": {
    "scrolled": true
   },
   "outputs": [
    {
     "data": {
      "text/plain": [
       "[<matplotlib.lines.Line2D at 0x29370fea1d0>]"
      ]
     },
     "execution_count": 19,
     "metadata": {},
     "output_type": "execute_result"
    },
    {
     "data": {
      "image/png": "[encoded data removed]",
      "text/plain": [
       "<Figure size 432x288 with 1 Axes>"
      ]
     },
     "metadata": {
      "needs_background": "light"
     },
     "output_type": "display_data"
    }
   ],
   "source": [
    "from sklearn.cluster import KMeans\n",
    "\n",
    "clusters_range = [2,3,4,5,6,7,8,9,10,11,12,13,14]\n",
    "inertias =[]\n",
    "\n",
    "for c in clusters_range:\n",
    "    kmeans = KMeans(n_clusters=c, random_state=0).fit(cluster_scaled2)\n",
    "    inertias.append(kmeans.inertia_)\n",
    "\n",
    "plt.figure()\n",
    "plt.plot(clusters_range,inertias, marker='o')"
   ]
  },
  {
   "cell_type": "markdown",
   "metadata": {},
   "source": [
    "__Observation__\n",
    "\n",
    "- Using the elbow method, we are taking n = 5 clusters"
   ]
  },
  {
   "cell_type": "markdown",
   "metadata": {},
   "source": [
    "## Selecting continuous variables for K-Means"
   ]
  },
  {
   "cell_type": "code",
   "execution_count": 20,
   "metadata": {},
   "outputs": [],
   "source": [
    "#Selecting columns for clusterisation with k-means\n",
    "selected_cols = [\"MEAN_AMT_GOODS_PRICE\", \"AMT_INCOME_TOTAL\"]\n",
    "cluster_data = cust_data.loc[:,selected_cols]"
   ]
  },
  {
   "cell_type": "code",
   "execution_count": 21,
   "metadata": {},
   "outputs": [],
   "source": [
    "scaler = StandardScaler()\n",
    "cluster_scaled = scaler.fit_transform(cluster_data)"
   ]
  },
  {
   "cell_type": "markdown",
   "metadata": {},
   "source": [
    "# 4. Applying K-Means"
   ]
  },
  {
   "cell_type": "code",
   "execution_count": 22,
   "metadata": {
    "scrolled": true
   },
   "outputs": [
    {
     "data": {
      "text/plain": [
       "[<matplotlib.lines.Line2D at 0x293711850f0>]"
      ]
     },
     "execution_count": 22,
     "metadata": {},
     "output_type": "execute_result"
    },
    {
     "data": {
      "image/png": "[encoded data removed]",
      "text/plain": [
       "<Figure size 432x288 with 1 Axes>"
      ]
     },
     "metadata": {
      "needs_background": "light"
     },
     "output_type": "display_data"
    }
   ],
   "source": [
    "from sklearn.cluster import KMeans\n",
    "\n",
    "clusters_range = [2,3,4,5,6,7,8,9,10,11,12,13,14]\n",
    "inertias =[]\n",
    "\n",
    "for c in clusters_range:\n",
    "    kmeans = KMeans(n_clusters=c, random_state=0).fit(cluster_scaled)\n",
    "    inertias.append(kmeans.inertia_)\n",
    "\n",
    "plt.figure()\n",
    "plt.plot(clusters_range,inertias, marker='o')"
   ]
  },
  {
   "cell_type": "markdown",
   "metadata": {},
   "source": [
    "__Observation__\n",
    "\n",
    "- Using the elbow method, we are taking n = 3 clusters"
   ]
  },
  {
   "cell_type": "code",
   "execution_count": 23,
   "metadata": {
    "scrolled": true
   },
   "outputs": [
    {
     "data": {
      "image/png": "[encoded data removed]",
      "text/plain": [
       "<Figure size 1080x432 with 2 Axes>"
      ]
     },
     "metadata": {
      "needs_background": "light"
     },
     "output_type": "display_data"
    }
   ],
   "source": [
    "from sklearn.metrics import silhouette_samples, silhouette_score\n",
    "\n",
    "clusters_range = range(2,10)\n",
    "random_range = range(0,20)\n",
    "results =[]\n",
    "for c in clusters_range:\n",
    "    for r in random_range:\n",
    "        clusterer = KMeans(n_clusters=c, random_state=r)\n",
    "        cluster_labels = clusterer.fit_predict(cluster_scaled)\n",
    "        silhouette_avg = silhouette_score(cluster_scaled, cluster_labels)\n",
    "        results.append([c,r,silhouette_avg])\n",
    "\n",
    "result = pd.DataFrame(results, columns=[\"n_clusters\",\"seed\",\"silhouette_score\"])\n",
    "pivot_km = pd.pivot_table(result, index=\"n_clusters\", columns=\"seed\",values=\"silhouette_score\")\n",
    "\n",
    "plt.figure(figsize=(15,6))\n",
    "sns.heatmap(pivot_km, annot=True, linewidths=.5, fmt='.3f', cmap=sns.cm.rocket_r)\n",
    "plt.tight_layout()"
   ]
  },
  {
   "cell_type": "markdown",
   "metadata": {},
   "source": [
    "- As we can see 3 is the optimal number of clusters here, so clusters = 3 "
   ]
  },
  {
   "cell_type": "markdown",
   "metadata": {},
   "source": [
    "#### Applying K-Means for no of clusters = 3"
   ]
  },
  {
   "cell_type": "code",
   "execution_count": 24,
   "metadata": {},
   "outputs": [],
   "source": [
    "kmeans_sel = KMeans(n_clusters=3, random_state=1).fit(cluster_scaled)\n",
    "labels = pd.DataFrame(kmeans_sel.labels_)\n",
    "clustered_data = cluster_data.assign(Cluster=labels)"
   ]
  },
  {
   "cell_type": "code",
   "execution_count": 25,
   "metadata": {
    "scrolled": true
   },
   "outputs": [
    {
     "name": "stdout",
     "output_type": "stream",
     "text": [
      "For n_clusters = 5  and seed = 19 \n",
      "The average silhouette_score is : 0.5273249791951948\n"
     ]
    },
    {
     "data": {
      "text/plain": [
       "[<matplotlib.axis.XTick at 0x293726e40b8>,\n",
       " <matplotlib.axis.XTick at 0x293726e59e8>,\n",
       " <matplotlib.axis.XTick at 0x293726e5748>,\n",
       " <matplotlib.axis.XTick at 0x293724257b8>,\n",
       " <matplotlib.axis.XTick at 0x29372425c88>,\n",
       " <matplotlib.axis.XTick at 0x2937242d198>,\n",
       " <matplotlib.axis.XTick at 0x2937242d6a0>]"
      ]
     },
     "execution_count": 25,
     "metadata": {},
     "output_type": "execute_result"
    },
    {
     "data": {
      "image/png": "[encoded data removed]",
      "text/plain": [
       "<Figure size 720x432 with 1 Axes>"
      ]
     },
     "metadata": {
      "needs_background": "light"
     },
     "output_type": "display_data"
    }
   ],
   "source": [
    "from sklearn.metrics import silhouette_samples, silhouette_score\n",
    "import matplotlib.cm as cm\n",
    "\n",
    "clusterer = KMeans(n_clusters=5, random_state=1)\n",
    "cluster_labels = clusterer.fit_predict(cluster_scaled)\n",
    "silhouette_avg = silhouette_score(cluster_scaled, cluster_labels)\n",
    "print(\"For n_clusters =\", 5,\" and seed =\", r,  \"\\nThe average silhouette_score is :\", silhouette_avg)\n",
    "\n",
    "# Compute the silhouette scores for each sample\n",
    "sample_silhouette_values = silhouette_samples(cluster_scaled, cluster_labels)\n",
    "\n",
    "fig, ax1 = plt.subplots(figsize=(10,6))\n",
    "\n",
    "y_lower = 10\n",
    "for i in range(3):\n",
    "    # Aggregate the silhouette scores for samples belonging to\n",
    "    # cluster i, and sort them\n",
    "    ith_cluster_silhouette_values = sample_silhouette_values[cluster_labels == i]\n",
    "    ith_cluster_silhouette_values.sort()\n",
    "\n",
    "    size_cluster_i = ith_cluster_silhouette_values.shape[0]\n",
    "    y_upper = y_lower + size_cluster_i\n",
    "    \n",
    "    color = cm.nipy_spectral(float(i) / 3)\n",
    "    ax1.fill_betweenx(np.arange(y_lower, y_upper),0, ith_cluster_silhouette_values, facecolor=color, edgecolor=\"black\", alpha=0.7)\n",
    "    \n",
    "    # Label the silhouette plots with their cluster numbers at the middle\n",
    "    ax1.text(-0.05, y_lower + 0.5 * size_cluster_i, str(i))\n",
    "    \n",
    "    # Compute the new y_lower for next plot\n",
    "    y_lower = y_upper + 10  # 10 for the 0 samples\n",
    "\n",
    "ax1.get_yaxis().set_ticks([])\n",
    "ax1.set_title(\"The silhouette plot for various clusters\")\n",
    "ax1.set_xlabel(\"The silhouette coefficient values\")\n",
    "ax1.set_ylabel(\"Cluster label\")\n",
    "# The vertical line for average silhouette score of all the values\n",
    "ax1.axvline(x=silhouette_avg, color=\"red\", linestyle=\"--\")\n",
    "ax1.set_xticks([-0.1, 0, 0.2, 0.4, 0.6, 0.8, 1])"
   ]
  },
  {
   "cell_type": "markdown",
   "metadata": {},
   "source": [
    "## 4.1 Customer Segments"
   ]
  },
  {
   "cell_type": "code",
   "execution_count": 26,
   "metadata": {},
   "outputs": [
    {
     "data": {
      "text/html": [
       "<div>\n",
       "<style scoped>\n",
       "    .dataframe tbody tr th:only-of-type {\n",
       "        vertical-align: middle;\n",
       "    }\n",
       "\n",
       "    .dataframe tbody tr th {\n",
       "        vertical-align: top;\n",
       "    }\n",
       "\n",
       "    .dataframe thead th {\n",
       "        text-align: right;\n",
       "    }\n",
       "</style>\n",
       "<table border=\"1\" class=\"dataframe\">\n",
       "  <thead>\n",
       "    <tr style=\"text-align: right;\">\n",
       "      <th></th>\n",
       "      <th>MEAN_AMT_GOODS_PRICE</th>\n",
       "      <th>AMT_INCOME_TOTAL</th>\n",
       "    </tr>\n",
       "    <tr>\n",
       "      <th>Cluster</th>\n",
       "      <th></th>\n",
       "      <th></th>\n",
       "    </tr>\n",
       "  </thead>\n",
       "  <tbody>\n",
       "    <tr>\n",
       "      <th>0</th>\n",
       "      <td>28790.4</td>\n",
       "      <td>138180.3</td>\n",
       "    </tr>\n",
       "    <tr>\n",
       "      <th>1</th>\n",
       "      <td>9776.8</td>\n",
       "      <td>140256.1</td>\n",
       "    </tr>\n",
       "    <tr>\n",
       "      <th>2</th>\n",
       "      <td>17857.2</td>\n",
       "      <td>300250.0</td>\n",
       "    </tr>\n",
       "  </tbody>\n",
       "</table>\n",
       "</div>"
      ],
      "text/plain": [
       "         MEAN_AMT_GOODS_PRICE  AMT_INCOME_TOTAL\n",
       "Cluster                                        \n",
       "0                     28790.4          138180.3\n",
       "1                      9776.8          140256.1\n",
       "2                     17857.2          300250.0"
      ]
     },
     "execution_count": 26,
     "metadata": {},
     "output_type": "execute_result"
    }
   ],
   "source": [
    "grouped_km = clustered_data.groupby(['Cluster']).mean().round(1)\n",
    "grouped_km"
   ]
  },
  {
   "cell_type": "markdown",
   "metadata": {},
   "source": [
    "__Observations__\n",
    "\n",
    "- __Cluster - 1__ - Group of people having high mean amount of purchase goods and low Income are __Careless customers__\n",
    "- __Cluster - 2__ - Group of people having low mean amount of purchase goods and have high Income are __Sensible customers__\n",
    "- __Cluster - 3__ - Group of people having high mean amount of purchase goods and have high Income are __Target customers__"
   ]
  },
  {
   "cell_type": "markdown",
   "metadata": {},
   "source": [
    "## 4.2  Adding the customer segment into the dataset"
   ]
  },
  {
   "cell_type": "code",
   "execution_count": 27,
   "metadata": {
    "scrolled": true
   },
   "outputs": [],
   "source": [
    "cust_data['Labels'] = labels"
   ]
  },
  {
   "cell_type": "code",
   "execution_count": 28,
   "metadata": {},
   "outputs": [],
   "source": [
    "def label_cluster (row):\n",
    "    if row['Labels'] == 0 :\n",
    "        return 'Careless Customer'\n",
    "    if row['Labels'] == 1:\n",
    "        return 'Sensible Customer'\n",
    "    if row['Labels'] == 2 :\n",
    "        return 'Target Customer'"
   ]
  },
  {
   "cell_type": "code",
   "execution_count": 29,
   "metadata": {},
   "outputs": [],
   "source": [
    "cust_data['Customer Segment'] = cust_data.apply (lambda row: label_cluster(row), axis=1)"
   ]
  },
  {
   "cell_type": "code",
   "execution_count": 30,
   "metadata": {},
   "outputs": [
    {
     "data": {
      "text/html": [
       "<div>\n",
       "<style scoped>\n",
       "    .dataframe tbody tr th:only-of-type {\n",
       "        vertical-align: middle;\n",
       "    }\n",
       "\n",
       "    .dataframe tbody tr th {\n",
       "        vertical-align: top;\n",
       "    }\n",
       "\n",
       "    .dataframe thead th {\n",
       "        text-align: right;\n",
       "    }\n",
       "</style>\n",
       "<table border=\"1\" class=\"dataframe\">\n",
       "  <thead>\n",
       "    <tr style=\"text-align: right;\">\n",
       "      <th></th>\n",
       "      <th>Customer_id</th>\n",
       "      <th>CODE_GENDER</th>\n",
       "      <th>FLAG_OWN_CAR</th>\n",
       "      <th>FLAG_OWN_REALTY</th>\n",
       "      <th>CNT_CHILDREN</th>\n",
       "      <th>NAME_INCOME_TYPE</th>\n",
       "      <th>NAME_EDUCATION_TYPE</th>\n",
       "      <th>Year</th>\n",
       "      <th>AMT_INCOME_TOTAL</th>\n",
       "      <th>MEAN_AMT_GOODS_PRICE</th>\n",
       "      <th>Labels</th>\n",
       "      <th>Customer Segment</th>\n",
       "    </tr>\n",
       "  </thead>\n",
       "  <tbody>\n",
       "    <tr>\n",
       "      <th>0</th>\n",
       "      <td>1900001</td>\n",
       "      <td>F</td>\n",
       "      <td>N</td>\n",
       "      <td>Y</td>\n",
       "      <td>1</td>\n",
       "      <td>State servant</td>\n",
       "      <td>Secondary / secondary special</td>\n",
       "      <td>2019</td>\n",
       "      <td>135000</td>\n",
       "      <td>32805.000000</td>\n",
       "      <td>0</td>\n",
       "      <td>Careless Customer</td>\n",
       "    </tr>\n",
       "    <tr>\n",
       "      <th>1</th>\n",
       "      <td>1900002</td>\n",
       "      <td>M</td>\n",
       "      <td>Y</td>\n",
       "      <td>Y</td>\n",
       "      <td>1</td>\n",
       "      <td>Working</td>\n",
       "      <td>Secondary / secondary special</td>\n",
       "      <td>2019</td>\n",
       "      <td>99000</td>\n",
       "      <td>11903.000000</td>\n",
       "      <td>1</td>\n",
       "      <td>Sensible Customer</td>\n",
       "    </tr>\n",
       "    <tr>\n",
       "      <th>2</th>\n",
       "      <td>1900003</td>\n",
       "      <td>M</td>\n",
       "      <td>N</td>\n",
       "      <td>Y</td>\n",
       "      <td>2</td>\n",
       "      <td>Pensioner</td>\n",
       "      <td>Secondary / secondary special</td>\n",
       "      <td>2019</td>\n",
       "      <td>202500</td>\n",
       "      <td>12628.000000</td>\n",
       "      <td>1</td>\n",
       "      <td>Sensible Customer</td>\n",
       "    </tr>\n",
       "    <tr>\n",
       "      <th>3</th>\n",
       "      <td>1900004</td>\n",
       "      <td>M</td>\n",
       "      <td>Y</td>\n",
       "      <td>N</td>\n",
       "      <td>0</td>\n",
       "      <td>Commercial associate</td>\n",
       "      <td>Secondary / secondary special</td>\n",
       "      <td>2019</td>\n",
       "      <td>315000</td>\n",
       "      <td>17686.166667</td>\n",
       "      <td>2</td>\n",
       "      <td>Target Customer</td>\n",
       "    </tr>\n",
       "    <tr>\n",
       "      <th>4</th>\n",
       "      <td>1900005</td>\n",
       "      <td>M</td>\n",
       "      <td>Y</td>\n",
       "      <td>N</td>\n",
       "      <td>0</td>\n",
       "      <td>Working</td>\n",
       "      <td>Incomplete higher</td>\n",
       "      <td>2019</td>\n",
       "      <td>180000</td>\n",
       "      <td>6907.000000</td>\n",
       "      <td>1</td>\n",
       "      <td>Sensible Customer</td>\n",
       "    </tr>\n",
       "    <tr>\n",
       "      <th>...</th>\n",
       "      <td>...</td>\n",
       "      <td>...</td>\n",
       "      <td>...</td>\n",
       "      <td>...</td>\n",
       "      <td>...</td>\n",
       "      <td>...</td>\n",
       "      <td>...</td>\n",
       "      <td>...</td>\n",
       "      <td>...</td>\n",
       "      <td>...</td>\n",
       "      <td>...</td>\n",
       "      <td>...</td>\n",
       "    </tr>\n",
       "    <tr>\n",
       "      <th>295</th>\n",
       "      <td>1900296</td>\n",
       "      <td>F</td>\n",
       "      <td>Y</td>\n",
       "      <td>N</td>\n",
       "      <td>0</td>\n",
       "      <td>Working</td>\n",
       "      <td>Secondary / secondary special</td>\n",
       "      <td>2019</td>\n",
       "      <td>126000</td>\n",
       "      <td>30391.000000</td>\n",
       "      <td>0</td>\n",
       "      <td>Careless Customer</td>\n",
       "    </tr>\n",
       "    <tr>\n",
       "      <th>296</th>\n",
       "      <td>1900297</td>\n",
       "      <td>M</td>\n",
       "      <td>Y</td>\n",
       "      <td>Y</td>\n",
       "      <td>0</td>\n",
       "      <td>Commercial associate</td>\n",
       "      <td>Secondary / secondary special</td>\n",
       "      <td>2019</td>\n",
       "      <td>315000</td>\n",
       "      <td>17686.166667</td>\n",
       "      <td>2</td>\n",
       "      <td>Target Customer</td>\n",
       "    </tr>\n",
       "    <tr>\n",
       "      <th>297</th>\n",
       "      <td>1900298</td>\n",
       "      <td>M</td>\n",
       "      <td>Y</td>\n",
       "      <td>N</td>\n",
       "      <td>0</td>\n",
       "      <td>Pensioner</td>\n",
       "      <td>Secondary / secondary special</td>\n",
       "      <td>2019</td>\n",
       "      <td>72000</td>\n",
       "      <td>12551.000000</td>\n",
       "      <td>1</td>\n",
       "      <td>Sensible Customer</td>\n",
       "    </tr>\n",
       "    <tr>\n",
       "      <th>298</th>\n",
       "      <td>1900299</td>\n",
       "      <td>M</td>\n",
       "      <td>N</td>\n",
       "      <td>N</td>\n",
       "      <td>0</td>\n",
       "      <td>Pensioner</td>\n",
       "      <td>Secondary / secondary special</td>\n",
       "      <td>2019</td>\n",
       "      <td>166500</td>\n",
       "      <td>25748.000000</td>\n",
       "      <td>0</td>\n",
       "      <td>Careless Customer</td>\n",
       "    </tr>\n",
       "    <tr>\n",
       "      <th>299</th>\n",
       "      <td>1900300</td>\n",
       "      <td>F</td>\n",
       "      <td>Y</td>\n",
       "      <td>Y</td>\n",
       "      <td>0</td>\n",
       "      <td>Pensioner</td>\n",
       "      <td>Secondary / secondary special</td>\n",
       "      <td>2019</td>\n",
       "      <td>180000</td>\n",
       "      <td>5862.000000</td>\n",
       "      <td>1</td>\n",
       "      <td>Sensible Customer</td>\n",
       "    </tr>\n",
       "  </tbody>\n",
       "</table>\n",
       "<p>300 rows × 12 columns</p>\n",
       "</div>"
      ],
      "text/plain": [
       "     Customer_id CODE_GENDER FLAG_OWN_CAR FLAG_OWN_REALTY  CNT_CHILDREN  \\\n",
       "0        1900001           F            N               Y             1   \n",
       "1        1900002           M            Y               Y             1   \n",
       "2        1900003           M            N               Y             2   \n",
       "3        1900004           M            Y               N             0   \n",
       "4        1900005           M            Y               N             0   \n",
       "..           ...         ...          ...             ...           ...   \n",
       "295      1900296           F            Y               N             0   \n",
       "296      1900297           M            Y               Y             0   \n",
       "297      1900298           M            Y               N             0   \n",
       "298      1900299           M            N               N             0   \n",
       "299      1900300           F            Y               Y             0   \n",
       "\n",
       "         NAME_INCOME_TYPE            NAME_EDUCATION_TYPE  Year  \\\n",
       "0           State servant  Secondary / secondary special  2019   \n",
       "1                 Working  Secondary / secondary special  2019   \n",
       "2               Pensioner  Secondary / secondary special  2019   \n",
       "3    Commercial associate  Secondary / secondary special  2019   \n",
       "4                 Working              Incomplete higher  2019   \n",
       "..                    ...                            ...   ...   \n",
       "295               Working  Secondary / secondary special  2019   \n",
       "296  Commercial associate  Secondary / secondary special  2019   \n",
       "297             Pensioner  Secondary / secondary special  2019   \n",
       "298             Pensioner  Secondary / secondary special  2019   \n",
       "299             Pensioner  Secondary / secondary special  2019   \n",
       "\n",
       "     AMT_INCOME_TOTAL  MEAN_AMT_GOODS_PRICE  Labels   Customer Segment  \n",
       "0              135000          32805.000000       0  Careless Customer  \n",
       "1               99000          11903.000000       1  Sensible Customer  \n",
       "2              202500          12628.000000       1  Sensible Customer  \n",
       "3              315000          17686.166667       2    Target Customer  \n",
       "4              180000           6907.000000       1  Sensible Customer  \n",
       "..                ...                   ...     ...                ...  \n",
       "295            126000          30391.000000       0  Careless Customer  \n",
       "296            315000          17686.166667       2    Target Customer  \n",
       "297             72000          12551.000000       1  Sensible Customer  \n",
       "298            166500          25748.000000       0  Careless Customer  \n",
       "299            180000           5862.000000       1  Sensible Customer  \n",
       "\n",
       "[300 rows x 12 columns]"
      ]
     },
     "execution_count": 30,
     "metadata": {},
     "output_type": "execute_result"
    }
   ],
   "source": [
    "cust_data"
   ]
  },
  {
   "cell_type": "code",
   "execution_count": 31,
   "metadata": {},
   "outputs": [
    {
     "data": {
      "text/plain": [
       "Sensible Customer    147\n",
       "Careless Customer     99\n",
       "Target Customer       54\n",
       "Name: Customer Segment, dtype: int64"
      ]
     },
     "execution_count": 31,
     "metadata": {},
     "output_type": "execute_result"
    }
   ],
   "source": [
    "cust_data['Customer Segment'].value_counts()"
   ]
  },
  {
   "cell_type": "code",
   "execution_count": null,
   "metadata": {},
   "outputs": [],
   "source": []
  }
 ],
 "metadata": {
  "kernelspec": {
   "display_name": "gputest",
   "language": "python",
   "name": "gputest"
  },
  "language_info": {
   "codemirror_mode": {
    "name": "ipython",
    "version": 3
   },
   "file_extension": ".py",
   "mimetype": "text/x-python",
   "name": "python",
   "nbconvert_exporter": "python",
   "pygments_lexer": "ipython3",
   "version": "3.6.10"
  }
 },
 "nbformat": 4,
 "nbformat_minor": 4
}
