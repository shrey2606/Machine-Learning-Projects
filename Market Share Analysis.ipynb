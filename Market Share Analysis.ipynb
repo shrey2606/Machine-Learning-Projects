{
 "cells": [
  {
   "cell_type": "markdown",
   "metadata": {},
   "source": [
    "# Market Share Analysis"
   ]
  },
  {
   "cell_type": "markdown",
   "metadata": {},
   "source": [
    "#### Importing packages"
   ]
  },
  {
   "cell_type": "code",
   "execution_count": 1,
   "metadata": {
    "scrolled": true
   },
   "outputs": [
    {
     "name": "stderr",
     "output_type": "stream",
     "text": [
      "\n",
      "Bad key \"text.kerning_factor\" on line 4 in\n",
      "C:\\Anaconda3\\envs\\gputest\\lib\\site-packages\\matplotlib\\mpl-data\\stylelib\\_classic_test_patch.mplstyle.\n",
      "You probably need to get an updated matplotlibrc file from\n",
      "http://github.com/matplotlib/matplotlib/blob/master/matplotlibrc.template\n",
      "or from the matplotlib source distribution\n"
     ]
    }
   ],
   "source": [
    "import pandas as pd\n",
    "import numpy as np\n",
    "import os\n",
    "import matplotlib.pyplot as plt\n",
    "import seaborn as sns\n",
    "\n",
    "from sklearn.model_selection import train_test_split\n",
    "from sklearn.preprocessing import StandardScaler, LabelEncoder\n",
    "from sklearn.metrics import confusion_matrix\n",
    "\n",
    "%matplotlib inline\n",
    "\n",
    "import warnings\n",
    "warnings.filterwarnings('ignore')"
   ]
  },
  {
   "cell_type": "markdown",
   "metadata": {},
   "source": [
    "#### Importing Dataset"
   ]
  },
  {
   "cell_type": "code",
   "execution_count": 68,
   "metadata": {},
   "outputs": [],
   "source": [
    "ham = pd.read_csv(\"C:/Users/shrey/OneDrive/Desktop/Work/Final_Data/home_appliance_market.csv\")\n",
    "im = pd.read_csv(\"C:/Users/shrey/OneDrive/Desktop/Work/Final_Data/Insurance_market.csv\")"
   ]
  },
  {
   "cell_type": "code",
   "execution_count": 69,
   "metadata": {},
   "outputs": [
    {
     "data": {
      "text/html": [
       "<div>\n",
       "<style scoped>\n",
       "    .dataframe tbody tr th:only-of-type {\n",
       "        vertical-align: middle;\n",
       "    }\n",
       "\n",
       "    .dataframe tbody tr th {\n",
       "        vertical-align: top;\n",
       "    }\n",
       "\n",
       "    .dataframe thead th {\n",
       "        text-align: right;\n",
       "    }\n",
       "</style>\n",
       "<table border=\"1\" class=\"dataframe\">\n",
       "  <thead>\n",
       "    <tr style=\"text-align: right;\">\n",
       "      <th></th>\n",
       "      <th>Brand</th>\n",
       "      <th>Product</th>\n",
       "      <th>Insurance_provider</th>\n",
       "      <th>Insurance_product</th>\n",
       "      <th>Amt_cov_share_byBrnd_prod</th>\n",
       "      <th>Issues_raised</th>\n",
       "      <th>Issues_resolved</th>\n",
       "      <th>Ins_avg_review_OO10</th>\n",
       "    </tr>\n",
       "  </thead>\n",
       "  <tbody>\n",
       "    <tr>\n",
       "      <th>0</th>\n",
       "      <td>Electrolux</td>\n",
       "      <td>Blender</td>\n",
       "      <td>Bajaj</td>\n",
       "      <td>Accidental</td>\n",
       "      <td>0.20</td>\n",
       "      <td>517</td>\n",
       "      <td>475</td>\n",
       "      <td>9.5</td>\n",
       "    </tr>\n",
       "    <tr>\n",
       "      <th>1</th>\n",
       "      <td>Electrolux</td>\n",
       "      <td>Blender</td>\n",
       "      <td>Bajaj</td>\n",
       "      <td>full_cover_5yr</td>\n",
       "      <td>0.20</td>\n",
       "      <td>589</td>\n",
       "      <td>541</td>\n",
       "      <td>9.5</td>\n",
       "    </tr>\n",
       "    <tr>\n",
       "      <th>2</th>\n",
       "      <td>Electrolux</td>\n",
       "      <td>Blender</td>\n",
       "      <td>Bajaj</td>\n",
       "      <td>lifetime</td>\n",
       "      <td>0.10</td>\n",
       "      <td>535</td>\n",
       "      <td>502</td>\n",
       "      <td>9.6</td>\n",
       "    </tr>\n",
       "    <tr>\n",
       "      <th>3</th>\n",
       "      <td>Electrolux</td>\n",
       "      <td>Blender</td>\n",
       "      <td>Home_Assist</td>\n",
       "      <td>Accidental</td>\n",
       "      <td>0.10</td>\n",
       "      <td>569</td>\n",
       "      <td>483</td>\n",
       "      <td>9.1</td>\n",
       "    </tr>\n",
       "    <tr>\n",
       "      <th>4</th>\n",
       "      <td>Electrolux</td>\n",
       "      <td>Blender</td>\n",
       "      <td>Home_Assist</td>\n",
       "      <td>full_cover_5yr</td>\n",
       "      <td>0.15</td>\n",
       "      <td>502</td>\n",
       "      <td>426</td>\n",
       "      <td>9.2</td>\n",
       "    </tr>\n",
       "  </tbody>\n",
       "</table>\n",
       "</div>"
      ],
      "text/plain": [
       "        Brand  Product Insurance_provider Insurance_product  \\\n",
       "0  Electrolux  Blender              Bajaj        Accidental   \n",
       "1  Electrolux  Blender              Bajaj    full_cover_5yr   \n",
       "2  Electrolux  Blender              Bajaj          lifetime   \n",
       "3  Electrolux  Blender        Home_Assist        Accidental   \n",
       "4  Electrolux  Blender        Home_Assist    full_cover_5yr   \n",
       "\n",
       "   Amt_cov_share_byBrnd_prod  Issues_raised  Issues_resolved  \\\n",
       "0                       0.20            517              475   \n",
       "1                       0.20            589              541   \n",
       "2                       0.10            535              502   \n",
       "3                       0.10            569              483   \n",
       "4                       0.15            502              426   \n",
       "\n",
       "   Ins_avg_review_OO10  \n",
       "0                  9.5  \n",
       "1                  9.5  \n",
       "2                  9.6  \n",
       "3                  9.1  \n",
       "4                  9.2  "
      ]
     },
     "execution_count": 69,
     "metadata": {},
     "output_type": "execute_result"
    }
   ],
   "source": [
    "im.head()"
   ]
  },
  {
   "cell_type": "code",
   "execution_count": 5,
   "metadata": {
    "scrolled": true
   },
   "outputs": [
    {
     "data": {
      "text/html": [
       "<div>\n",
       "<style scoped>\n",
       "    .dataframe tbody tr th:only-of-type {\n",
       "        vertical-align: middle;\n",
       "    }\n",
       "\n",
       "    .dataframe tbody tr th {\n",
       "        vertical-align: top;\n",
       "    }\n",
       "\n",
       "    .dataframe thead th {\n",
       "        text-align: right;\n",
       "    }\n",
       "</style>\n",
       "<table border=\"1\" class=\"dataframe\">\n",
       "  <thead>\n",
       "    <tr style=\"text-align: right;\">\n",
       "      <th></th>\n",
       "      <th>Month</th>\n",
       "      <th>Year</th>\n",
       "      <th>Product</th>\n",
       "      <th>Brand</th>\n",
       "      <th>Units_sale</th>\n",
       "      <th>Revenue</th>\n",
       "      <th>Returned_units</th>\n",
       "      <th>Issues_raised</th>\n",
       "      <th>Issues_resolved</th>\n",
       "      <th>Units_insured</th>\n",
       "      <th>Amount_insured</th>\n",
       "      <th>Brand_avg_review_OO10</th>\n",
       "    </tr>\n",
       "  </thead>\n",
       "  <tbody>\n",
       "    <tr>\n",
       "      <th>0</th>\n",
       "      <td>Apr</td>\n",
       "      <td>2019</td>\n",
       "      <td>Refrigerator</td>\n",
       "      <td>LG</td>\n",
       "      <td>3970</td>\n",
       "      <td>129874580</td>\n",
       "      <td>22</td>\n",
       "      <td>271</td>\n",
       "      <td>262</td>\n",
       "      <td>1191</td>\n",
       "      <td>38962374.00</td>\n",
       "      <td>8.9</td>\n",
       "    </tr>\n",
       "    <tr>\n",
       "      <th>1</th>\n",
       "      <td>Apr</td>\n",
       "      <td>2019</td>\n",
       "      <td>Microwave</td>\n",
       "      <td>LG</td>\n",
       "      <td>4256</td>\n",
       "      <td>50271872</td>\n",
       "      <td>20</td>\n",
       "      <td>248</td>\n",
       "      <td>238</td>\n",
       "      <td>1064</td>\n",
       "      <td>12567968.00</td>\n",
       "      <td>8.7</td>\n",
       "    </tr>\n",
       "    <tr>\n",
       "      <th>2</th>\n",
       "      <td>Apr</td>\n",
       "      <td>2019</td>\n",
       "      <td>WaterPurifier</td>\n",
       "      <td>LG</td>\n",
       "      <td>3608</td>\n",
       "      <td>45215456</td>\n",
       "      <td>45</td>\n",
       "      <td>266</td>\n",
       "      <td>252</td>\n",
       "      <td>974</td>\n",
       "      <td>12208173.12</td>\n",
       "      <td>8.8</td>\n",
       "    </tr>\n",
       "    <tr>\n",
       "      <th>3</th>\n",
       "      <td>Apr</td>\n",
       "      <td>2019</td>\n",
       "      <td>WashingMachine</td>\n",
       "      <td>LG</td>\n",
       "      <td>3690</td>\n",
       "      <td>101991600</td>\n",
       "      <td>26</td>\n",
       "      <td>264</td>\n",
       "      <td>258</td>\n",
       "      <td>1107</td>\n",
       "      <td>30597480.00</td>\n",
       "      <td>9.4</td>\n",
       "    </tr>\n",
       "    <tr>\n",
       "      <th>4</th>\n",
       "      <td>Apr</td>\n",
       "      <td>2019</td>\n",
       "      <td>Blender</td>\n",
       "      <td>LG</td>\n",
       "      <td>3462</td>\n",
       "      <td>23569296</td>\n",
       "      <td>43</td>\n",
       "      <td>290</td>\n",
       "      <td>284</td>\n",
       "      <td>969</td>\n",
       "      <td>6599402.88</td>\n",
       "      <td>8.6</td>\n",
       "    </tr>\n",
       "  </tbody>\n",
       "</table>\n",
       "</div>"
      ],
      "text/plain": [
       "  Month  Year         Product Brand  Units_sale    Revenue  Returned_units  \\\n",
       "0   Apr  2019    Refrigerator    LG        3970  129874580              22   \n",
       "1   Apr  2019       Microwave    LG        4256   50271872              20   \n",
       "2   Apr  2019   WaterPurifier    LG        3608   45215456              45   \n",
       "3   Apr  2019  WashingMachine    LG        3690  101991600              26   \n",
       "4   Apr  2019         Blender    LG        3462   23569296              43   \n",
       "\n",
       "   Issues_raised  Issues_resolved  Units_insured  Amount_insured  \\\n",
       "0            271              262           1191     38962374.00   \n",
       "1            248              238           1064     12567968.00   \n",
       "2            266              252            974     12208173.12   \n",
       "3            264              258           1107     30597480.00   \n",
       "4            290              284            969      6599402.88   \n",
       "\n",
       "   Brand_avg_review_OO10  \n",
       "0                    8.9  \n",
       "1                    8.7  \n",
       "2                    8.8  \n",
       "3                    9.4  \n",
       "4                    8.6  "
      ]
     },
     "execution_count": 5,
     "metadata": {},
     "output_type": "execute_result"
    }
   ],
   "source": [
    "ham.head()"
   ]
  },
  {
   "cell_type": "markdown",
   "metadata": {},
   "source": [
    "## Analysis based on Units Sold\n",
    "\n",
    "#### Brand Wise"
   ]
  },
  {
   "cell_type": "code",
   "execution_count": 27,
   "metadata": {
    "scrolled": false
   },
   "outputs": [
    {
     "data": {
      "image/png": "[encoded data removed]",
      "text/plain": [
       "<Figure size 432x288 with 1 Axes>"
      ]
     },
     "metadata": {
      "needs_background": "light"
     },
     "output_type": "display_data"
    }
   ],
   "source": [
    "# Brand wise product distribution of units sold\n",
    "ham.groupby('Brand').sum()['Units_sale'].plot.bar()\n",
    "plt.rcParams[\"figure.figsize\"] = (10,3)\n",
    "plt.xticks(rotation=0)\n",
    "plt.tight_layout()\n",
    "plt.show()"
   ]
  },
  {
   "cell_type": "code",
   "execution_count": 25,
   "metadata": {},
   "outputs": [
    {
     "data": {
      "text/html": [
       "<div>\n",
       "<style scoped>\n",
       "    .dataframe tbody tr th:only-of-type {\n",
       "        vertical-align: middle;\n",
       "    }\n",
       "\n",
       "    .dataframe tbody tr th {\n",
       "        vertical-align: top;\n",
       "    }\n",
       "\n",
       "    .dataframe thead th {\n",
       "        text-align: right;\n",
       "    }\n",
       "</style>\n",
       "<table border=\"1\" class=\"dataframe\">\n",
       "  <thead>\n",
       "    <tr style=\"text-align: right;\">\n",
       "      <th></th>\n",
       "      <th>Units_sale</th>\n",
       "      <th>Revenue</th>\n",
       "    </tr>\n",
       "    <tr>\n",
       "      <th>Brand</th>\n",
       "      <th></th>\n",
       "      <th></th>\n",
       "    </tr>\n",
       "  </thead>\n",
       "  <tbody>\n",
       "    <tr>\n",
       "      <th>Electrolux</th>\n",
       "      <td>125144</td>\n",
       "      <td>2169081608</td>\n",
       "    </tr>\n",
       "    <tr>\n",
       "      <th>Haier</th>\n",
       "      <td>145976</td>\n",
       "      <td>2511407792</td>\n",
       "    </tr>\n",
       "    <tr>\n",
       "      <th>LG</th>\n",
       "      <td>227508</td>\n",
       "      <td>3949608283</td>\n",
       "    </tr>\n",
       "    <tr>\n",
       "      <th>Samsung</th>\n",
       "      <td>194102</td>\n",
       "      <td>3332153683</td>\n",
       "    </tr>\n",
       "    <tr>\n",
       "      <th>Whirlpool</th>\n",
       "      <td>202056</td>\n",
       "      <td>3542914613</td>\n",
       "    </tr>\n",
       "  </tbody>\n",
       "</table>\n",
       "</div>"
      ],
      "text/plain": [
       "            Units_sale     Revenue\n",
       "Brand                             \n",
       "Electrolux      125144  2169081608\n",
       "Haier           145976  2511407792\n",
       "LG              227508  3949608283\n",
       "Samsung         194102  3332153683\n",
       "Whirlpool       202056  3542914613"
      ]
     },
     "execution_count": 25,
     "metadata": {},
     "output_type": "execute_result"
    }
   ],
   "source": [
    "ham.groupby(['Brand'])['Units_sale','Revenue'].sum()"
   ]
  },
  {
   "cell_type": "markdown",
   "metadata": {},
   "source": [
    "- LG sold the maximum products and have the highest overall revenue in year 2019"
   ]
  },
  {
   "cell_type": "markdown",
   "metadata": {},
   "source": [
    "#### Product Wise"
   ]
  },
  {
   "cell_type": "code",
   "execution_count": 28,
   "metadata": {
    "scrolled": true
   },
   "outputs": [
    {
     "data": {
      "image/png": "[encoded data removed]",
      "text/plain": [
       "<Figure size 720x216 with 1 Axes>"
      ]
     },
     "metadata": {
      "needs_background": "light"
     },
     "output_type": "display_data"
    }
   ],
   "source": [
    "# maximum Units sales per product\n",
    "\n",
    "ham.groupby('Product').sum()['Units_sale'].plot.bar()\n",
    "plt.rcParams[\"figure.figsize\"] = (10,3)\n",
    "plt.xticks(rotation=0)\n",
    "plt.tight_layout()\n",
    "plt.show()"
   ]
  },
  {
   "cell_type": "code",
   "execution_count": 26,
   "metadata": {},
   "outputs": [
    {
     "data": {
      "text/html": [
       "<div>\n",
       "<style scoped>\n",
       "    .dataframe tbody tr th:only-of-type {\n",
       "        vertical-align: middle;\n",
       "    }\n",
       "\n",
       "    .dataframe tbody tr th {\n",
       "        vertical-align: top;\n",
       "    }\n",
       "\n",
       "    .dataframe thead th {\n",
       "        text-align: right;\n",
       "    }\n",
       "</style>\n",
       "<table border=\"1\" class=\"dataframe\">\n",
       "  <thead>\n",
       "    <tr style=\"text-align: right;\">\n",
       "      <th></th>\n",
       "      <th>Units_sale</th>\n",
       "      <th>Revenue</th>\n",
       "    </tr>\n",
       "    <tr>\n",
       "      <th>Product</th>\n",
       "      <th></th>\n",
       "      <th></th>\n",
       "    </tr>\n",
       "  </thead>\n",
       "  <tbody>\n",
       "    <tr>\n",
       "      <th>Blender</th>\n",
       "      <td>178275</td>\n",
       "      <td>1136233267</td>\n",
       "    </tr>\n",
       "    <tr>\n",
       "      <th>Microwave</th>\n",
       "      <td>179174</td>\n",
       "      <td>2077580364</td>\n",
       "    </tr>\n",
       "    <tr>\n",
       "      <th>Refrigerator</th>\n",
       "      <td>179915</td>\n",
       "      <td>5488019749</td>\n",
       "    </tr>\n",
       "    <tr>\n",
       "      <th>WashingMachine</th>\n",
       "      <td>179181</td>\n",
       "      <td>4771872704</td>\n",
       "    </tr>\n",
       "    <tr>\n",
       "      <th>WaterPurifier</th>\n",
       "      <td>178241</td>\n",
       "      <td>2031459895</td>\n",
       "    </tr>\n",
       "  </tbody>\n",
       "</table>\n",
       "</div>"
      ],
      "text/plain": [
       "                Units_sale     Revenue\n",
       "Product                               \n",
       "Blender             178275  1136233267\n",
       "Microwave           179174  2077580364\n",
       "Refrigerator        179915  5488019749\n",
       "WashingMachine      179181  4771872704\n",
       "WaterPurifier       178241  2031459895"
      ]
     },
     "execution_count": 26,
     "metadata": {},
     "output_type": "execute_result"
    }
   ],
   "source": [
    "ham.groupby(['Product'])['Units_sale','Revenue'].sum()"
   ]
  },
  {
   "cell_type": "markdown",
   "metadata": {},
   "source": [
    "- Almost all products are sold in the same quantity but product refrigerator created the maximum revenue for the companies"
   ]
  },
  {
   "cell_type": "code",
   "execution_count": 36,
   "metadata": {
    "scrolled": true
   },
   "outputs": [
    {
     "data": {
      "text/html": [
       "<div>\n",
       "<style scoped>\n",
       "    .dataframe tbody tr th:only-of-type {\n",
       "        vertical-align: middle;\n",
       "    }\n",
       "\n",
       "    .dataframe tbody tr th {\n",
       "        vertical-align: top;\n",
       "    }\n",
       "\n",
       "    .dataframe thead th {\n",
       "        text-align: right;\n",
       "    }\n",
       "</style>\n",
       "<table border=\"1\" class=\"dataframe\">\n",
       "  <thead>\n",
       "    <tr style=\"text-align: right;\">\n",
       "      <th></th>\n",
       "      <th></th>\n",
       "      <th>Units_sale</th>\n",
       "      <th>Revenue</th>\n",
       "    </tr>\n",
       "    <tr>\n",
       "      <th>Brand</th>\n",
       "      <th>Product</th>\n",
       "      <th></th>\n",
       "      <th></th>\n",
       "    </tr>\n",
       "  </thead>\n",
       "  <tbody>\n",
       "    <tr>\n",
       "      <th rowspan=\"5\" valign=\"top\">Electrolux</th>\n",
       "      <th>Blender</th>\n",
       "      <td>25942</td>\n",
       "      <td>169181652</td>\n",
       "    </tr>\n",
       "    <tr>\n",
       "      <th>Microwave</th>\n",
       "      <td>25408</td>\n",
       "      <td>306140120</td>\n",
       "    </tr>\n",
       "    <tr>\n",
       "      <th>Refrigerator</th>\n",
       "      <td>24432</td>\n",
       "      <td>739905704</td>\n",
       "    </tr>\n",
       "    <tr>\n",
       "      <th>WashingMachine</th>\n",
       "      <td>25032</td>\n",
       "      <td>674089523</td>\n",
       "    </tr>\n",
       "    <tr>\n",
       "      <th>WaterPurifier</th>\n",
       "      <td>24330</td>\n",
       "      <td>279764609</td>\n",
       "    </tr>\n",
       "    <tr>\n",
       "      <th rowspan=\"5\" valign=\"top\">Haier</th>\n",
       "      <th>Blender</th>\n",
       "      <td>28234</td>\n",
       "      <td>187161143</td>\n",
       "    </tr>\n",
       "    <tr>\n",
       "      <th>Microwave</th>\n",
       "      <td>29053</td>\n",
       "      <td>333884518</td>\n",
       "    </tr>\n",
       "    <tr>\n",
       "      <th>Refrigerator</th>\n",
       "      <td>29366</td>\n",
       "      <td>886500780</td>\n",
       "    </tr>\n",
       "    <tr>\n",
       "      <th>WashingMachine</th>\n",
       "      <td>28712</td>\n",
       "      <td>761172708</td>\n",
       "    </tr>\n",
       "    <tr>\n",
       "      <th>WaterPurifier</th>\n",
       "      <td>30611</td>\n",
       "      <td>342688643</td>\n",
       "    </tr>\n",
       "    <tr>\n",
       "      <th rowspan=\"5\" valign=\"top\">LG</th>\n",
       "      <th>Blender</th>\n",
       "      <td>45777</td>\n",
       "      <td>296312625</td>\n",
       "    </tr>\n",
       "    <tr>\n",
       "      <th>Microwave</th>\n",
       "      <td>45138</td>\n",
       "      <td>507893089</td>\n",
       "    </tr>\n",
       "    <tr>\n",
       "      <th>Refrigerator</th>\n",
       "      <td>46670</td>\n",
       "      <td>1426346153</td>\n",
       "    </tr>\n",
       "    <tr>\n",
       "      <th>WashingMachine</th>\n",
       "      <td>45274</td>\n",
       "      <td>1205356355</td>\n",
       "    </tr>\n",
       "    <tr>\n",
       "      <th>WaterPurifier</th>\n",
       "      <td>44649</td>\n",
       "      <td>513700061</td>\n",
       "    </tr>\n",
       "    <tr>\n",
       "      <th rowspan=\"5\" valign=\"top\">Samsung</th>\n",
       "      <th>Blender</th>\n",
       "      <td>38600</td>\n",
       "      <td>230753910</td>\n",
       "    </tr>\n",
       "    <tr>\n",
       "      <th>Microwave</th>\n",
       "      <td>38238</td>\n",
       "      <td>440370229</td>\n",
       "    </tr>\n",
       "    <tr>\n",
       "      <th>Refrigerator</th>\n",
       "      <td>39136</td>\n",
       "      <td>1185843481</td>\n",
       "    </tr>\n",
       "    <tr>\n",
       "      <th>WashingMachine</th>\n",
       "      <td>38642</td>\n",
       "      <td>1030964843</td>\n",
       "    </tr>\n",
       "    <tr>\n",
       "      <th>WaterPurifier</th>\n",
       "      <td>39486</td>\n",
       "      <td>444221220</td>\n",
       "    </tr>\n",
       "    <tr>\n",
       "      <th rowspan=\"5\" valign=\"top\">Whirlpool</th>\n",
       "      <th>Blender</th>\n",
       "      <td>39722</td>\n",
       "      <td>252823937</td>\n",
       "    </tr>\n",
       "    <tr>\n",
       "      <th>Microwave</th>\n",
       "      <td>41337</td>\n",
       "      <td>489292408</td>\n",
       "    </tr>\n",
       "    <tr>\n",
       "      <th>Refrigerator</th>\n",
       "      <td>40311</td>\n",
       "      <td>1249423631</td>\n",
       "    </tr>\n",
       "    <tr>\n",
       "      <th>WashingMachine</th>\n",
       "      <td>41521</td>\n",
       "      <td>1100289275</td>\n",
       "    </tr>\n",
       "    <tr>\n",
       "      <th>WaterPurifier</th>\n",
       "      <td>39165</td>\n",
       "      <td>451085362</td>\n",
       "    </tr>\n",
       "  </tbody>\n",
       "</table>\n",
       "</div>"
      ],
      "text/plain": [
       "                           Units_sale     Revenue\n",
       "Brand      Product                               \n",
       "Electrolux Blender              25942   169181652\n",
       "           Microwave            25408   306140120\n",
       "           Refrigerator         24432   739905704\n",
       "           WashingMachine       25032   674089523\n",
       "           WaterPurifier        24330   279764609\n",
       "Haier      Blender              28234   187161143\n",
       "           Microwave            29053   333884518\n",
       "           Refrigerator         29366   886500780\n",
       "           WashingMachine       28712   761172708\n",
       "           WaterPurifier        30611   342688643\n",
       "LG         Blender              45777   296312625\n",
       "           Microwave            45138   507893089\n",
       "           Refrigerator         46670  1426346153\n",
       "           WashingMachine       45274  1205356355\n",
       "           WaterPurifier        44649   513700061\n",
       "Samsung    Blender              38600   230753910\n",
       "           Microwave            38238   440370229\n",
       "           Refrigerator         39136  1185843481\n",
       "           WashingMachine       38642  1030964843\n",
       "           WaterPurifier        39486   444221220\n",
       "Whirlpool  Blender              39722   252823937\n",
       "           Microwave            41337   489292408\n",
       "           Refrigerator         40311  1249423631\n",
       "           WashingMachine       41521  1100289275\n",
       "           WaterPurifier        39165   451085362"
      ]
     },
     "execution_count": 36,
     "metadata": {},
     "output_type": "execute_result"
    }
   ],
   "source": [
    "ham.groupby(['Brand','Product'])['Units_sale','Revenue'].sum()"
   ]
  },
  {
   "cell_type": "markdown",
   "metadata": {},
   "source": [
    "- Combined info of Units sold and revenue combining Brand and Product"
   ]
  },
  {
   "cell_type": "markdown",
   "metadata": {},
   "source": [
    "## Analysis on Issues"
   ]
  },
  {
   "cell_type": "code",
   "execution_count": 41,
   "metadata": {
    "scrolled": true
   },
   "outputs": [
    {
     "data": {
      "text/html": [
       "<div>\n",
       "<style scoped>\n",
       "    .dataframe tbody tr th:only-of-type {\n",
       "        vertical-align: middle;\n",
       "    }\n",
       "\n",
       "    .dataframe tbody tr th {\n",
       "        vertical-align: top;\n",
       "    }\n",
       "\n",
       "    .dataframe thead th {\n",
       "        text-align: right;\n",
       "    }\n",
       "</style>\n",
       "<table border=\"1\" class=\"dataframe\">\n",
       "  <thead>\n",
       "    <tr style=\"text-align: right;\">\n",
       "      <th></th>\n",
       "      <th>Issues_raised</th>\n",
       "      <th>Issues_resolved</th>\n",
       "    </tr>\n",
       "    <tr>\n",
       "      <th>Brand</th>\n",
       "      <th></th>\n",
       "      <th></th>\n",
       "    </tr>\n",
       "  </thead>\n",
       "  <tbody>\n",
       "    <tr>\n",
       "      <th>Electrolux</th>\n",
       "      <td>374.066667</td>\n",
       "      <td>342.566667</td>\n",
       "    </tr>\n",
       "    <tr>\n",
       "      <th>Haier</th>\n",
       "      <td>320.933333</td>\n",
       "      <td>293.700000</td>\n",
       "    </tr>\n",
       "    <tr>\n",
       "      <th>LG</th>\n",
       "      <td>248.600000</td>\n",
       "      <td>239.183333</td>\n",
       "    </tr>\n",
       "    <tr>\n",
       "      <th>Samsung</th>\n",
       "      <td>328.850000</td>\n",
       "      <td>313.583333</td>\n",
       "    </tr>\n",
       "    <tr>\n",
       "      <th>Whirlpool</th>\n",
       "      <td>370.716667</td>\n",
       "      <td>338.850000</td>\n",
       "    </tr>\n",
       "  </tbody>\n",
       "</table>\n",
       "</div>"
      ],
      "text/plain": [
       "            Issues_raised  Issues_resolved\n",
       "Brand                                     \n",
       "Electrolux     374.066667       342.566667\n",
       "Haier          320.933333       293.700000\n",
       "LG             248.600000       239.183333\n",
       "Samsung        328.850000       313.583333\n",
       "Whirlpool      370.716667       338.850000"
      ]
     },
     "execution_count": 41,
     "metadata": {},
     "output_type": "execute_result"
    }
   ],
   "source": [
    "ham.groupby(['Brand'])['Issues_raised','Issues_resolved'].mean()"
   ]
  },
  {
   "cell_type": "markdown",
   "metadata": {},
   "source": [
    "- By taking average no of issues raised, LG have least and Electrolux have max issues."
   ]
  },
  {
   "cell_type": "code",
   "execution_count": 42,
   "metadata": {},
   "outputs": [
    {
     "data": {
      "text/html": [
       "<div>\n",
       "<style scoped>\n",
       "    .dataframe tbody tr th:only-of-type {\n",
       "        vertical-align: middle;\n",
       "    }\n",
       "\n",
       "    .dataframe tbody tr th {\n",
       "        vertical-align: top;\n",
       "    }\n",
       "\n",
       "    .dataframe thead th {\n",
       "        text-align: right;\n",
       "    }\n",
       "</style>\n",
       "<table border=\"1\" class=\"dataframe\">\n",
       "  <thead>\n",
       "    <tr style=\"text-align: right;\">\n",
       "      <th></th>\n",
       "      <th>Issues_raised</th>\n",
       "      <th>Issues_resolved</th>\n",
       "    </tr>\n",
       "    <tr>\n",
       "      <th>Product</th>\n",
       "      <th></th>\n",
       "      <th></th>\n",
       "    </tr>\n",
       "  </thead>\n",
       "  <tbody>\n",
       "    <tr>\n",
       "      <th>Blender</th>\n",
       "      <td>327.233333</td>\n",
       "      <td>304.500000</td>\n",
       "    </tr>\n",
       "    <tr>\n",
       "      <th>Microwave</th>\n",
       "      <td>330.533333</td>\n",
       "      <td>306.983333</td>\n",
       "    </tr>\n",
       "    <tr>\n",
       "      <th>Refrigerator</th>\n",
       "      <td>327.616667</td>\n",
       "      <td>304.816667</td>\n",
       "    </tr>\n",
       "    <tr>\n",
       "      <th>WashingMachine</th>\n",
       "      <td>328.400000</td>\n",
       "      <td>305.450000</td>\n",
       "    </tr>\n",
       "    <tr>\n",
       "      <th>WaterPurifier</th>\n",
       "      <td>329.383333</td>\n",
       "      <td>306.133333</td>\n",
       "    </tr>\n",
       "  </tbody>\n",
       "</table>\n",
       "</div>"
      ],
      "text/plain": [
       "                Issues_raised  Issues_resolved\n",
       "Product                                       \n",
       "Blender            327.233333       304.500000\n",
       "Microwave          330.533333       306.983333\n",
       "Refrigerator       327.616667       304.816667\n",
       "WashingMachine     328.400000       305.450000\n",
       "WaterPurifier      329.383333       306.133333"
      ]
     },
     "execution_count": 42,
     "metadata": {},
     "output_type": "execute_result"
    }
   ],
   "source": [
    "ham.groupby(['Product'])['Issues_raised','Issues_resolved'].mean()"
   ]
  },
  {
   "cell_type": "markdown",
   "metadata": {},
   "source": [
    "- By taking average no of issues raised, almost all products have similar numbers of average issues"
   ]
  },
  {
   "cell_type": "code",
   "execution_count": 23,
   "metadata": {
    "scrolled": false
   },
   "outputs": [
    {
     "data": {
      "text/html": [
       "<div>\n",
       "<style scoped>\n",
       "    .dataframe tbody tr th:only-of-type {\n",
       "        vertical-align: middle;\n",
       "    }\n",
       "\n",
       "    .dataframe tbody tr th {\n",
       "        vertical-align: top;\n",
       "    }\n",
       "\n",
       "    .dataframe thead th {\n",
       "        text-align: right;\n",
       "    }\n",
       "</style>\n",
       "<table border=\"1\" class=\"dataframe\">\n",
       "  <thead>\n",
       "    <tr style=\"text-align: right;\">\n",
       "      <th></th>\n",
       "      <th></th>\n",
       "      <th>Issues_raised</th>\n",
       "      <th>Issues_resolved</th>\n",
       "    </tr>\n",
       "    <tr>\n",
       "      <th>Brand</th>\n",
       "      <th>Product</th>\n",
       "      <th></th>\n",
       "      <th></th>\n",
       "    </tr>\n",
       "  </thead>\n",
       "  <tbody>\n",
       "    <tr>\n",
       "      <th rowspan=\"5\" valign=\"top\">Electrolux</th>\n",
       "      <th>Blender</th>\n",
       "      <td>4468</td>\n",
       "      <td>4065</td>\n",
       "    </tr>\n",
       "    <tr>\n",
       "      <th>Microwave</th>\n",
       "      <td>4547</td>\n",
       "      <td>4163</td>\n",
       "    </tr>\n",
       "    <tr>\n",
       "      <th>Refrigerator</th>\n",
       "      <td>4451</td>\n",
       "      <td>4092</td>\n",
       "    </tr>\n",
       "    <tr>\n",
       "      <th>WashingMachine</th>\n",
       "      <td>4489</td>\n",
       "      <td>4116</td>\n",
       "    </tr>\n",
       "    <tr>\n",
       "      <th>WaterPurifier</th>\n",
       "      <td>4489</td>\n",
       "      <td>4118</td>\n",
       "    </tr>\n",
       "    <tr>\n",
       "      <th rowspan=\"5\" valign=\"top\">Haier</th>\n",
       "      <th>Blender</th>\n",
       "      <td>3873</td>\n",
       "      <td>3549</td>\n",
       "    </tr>\n",
       "    <tr>\n",
       "      <th>Microwave</th>\n",
       "      <td>3838</td>\n",
       "      <td>3498</td>\n",
       "    </tr>\n",
       "    <tr>\n",
       "      <th>Refrigerator</th>\n",
       "      <td>3839</td>\n",
       "      <td>3518</td>\n",
       "    </tr>\n",
       "    <tr>\n",
       "      <th>WashingMachine</th>\n",
       "      <td>3880</td>\n",
       "      <td>3561</td>\n",
       "    </tr>\n",
       "    <tr>\n",
       "      <th>WaterPurifier</th>\n",
       "      <td>3826</td>\n",
       "      <td>3496</td>\n",
       "    </tr>\n",
       "    <tr>\n",
       "      <th rowspan=\"5\" valign=\"top\">LG</th>\n",
       "      <th>Blender</th>\n",
       "      <td>3029</td>\n",
       "      <td>2925</td>\n",
       "    </tr>\n",
       "    <tr>\n",
       "      <th>Microwave</th>\n",
       "      <td>2905</td>\n",
       "      <td>2801</td>\n",
       "    </tr>\n",
       "    <tr>\n",
       "      <th>Refrigerator</th>\n",
       "      <td>3024</td>\n",
       "      <td>2906</td>\n",
       "    </tr>\n",
       "    <tr>\n",
       "      <th>WashingMachine</th>\n",
       "      <td>2932</td>\n",
       "      <td>2819</td>\n",
       "    </tr>\n",
       "    <tr>\n",
       "      <th>WaterPurifier</th>\n",
       "      <td>3026</td>\n",
       "      <td>2900</td>\n",
       "    </tr>\n",
       "    <tr>\n",
       "      <th rowspan=\"5\" valign=\"top\">Samsung</th>\n",
       "      <th>Blender</th>\n",
       "      <td>3919</td>\n",
       "      <td>3744</td>\n",
       "    </tr>\n",
       "    <tr>\n",
       "      <th>Microwave</th>\n",
       "      <td>3960</td>\n",
       "      <td>3780</td>\n",
       "    </tr>\n",
       "    <tr>\n",
       "      <th>Refrigerator</th>\n",
       "      <td>3899</td>\n",
       "      <td>3719</td>\n",
       "    </tr>\n",
       "    <tr>\n",
       "      <th>WashingMachine</th>\n",
       "      <td>3950</td>\n",
       "      <td>3766</td>\n",
       "    </tr>\n",
       "    <tr>\n",
       "      <th>WaterPurifier</th>\n",
       "      <td>4003</td>\n",
       "      <td>3806</td>\n",
       "    </tr>\n",
       "    <tr>\n",
       "      <th rowspan=\"5\" valign=\"top\">Whirlpool</th>\n",
       "      <th>Blender</th>\n",
       "      <td>4345</td>\n",
       "      <td>3987</td>\n",
       "    </tr>\n",
       "    <tr>\n",
       "      <th>Microwave</th>\n",
       "      <td>4582</td>\n",
       "      <td>4177</td>\n",
       "    </tr>\n",
       "    <tr>\n",
       "      <th>Refrigerator</th>\n",
       "      <td>4444</td>\n",
       "      <td>4054</td>\n",
       "    </tr>\n",
       "    <tr>\n",
       "      <th>WashingMachine</th>\n",
       "      <td>4453</td>\n",
       "      <td>4065</td>\n",
       "    </tr>\n",
       "    <tr>\n",
       "      <th>WaterPurifier</th>\n",
       "      <td>4419</td>\n",
       "      <td>4048</td>\n",
       "    </tr>\n",
       "  </tbody>\n",
       "</table>\n",
       "</div>"
      ],
      "text/plain": [
       "                           Issues_raised  Issues_resolved\n",
       "Brand      Product                                       \n",
       "Electrolux Blender                  4468             4065\n",
       "           Microwave                4547             4163\n",
       "           Refrigerator             4451             4092\n",
       "           WashingMachine           4489             4116\n",
       "           WaterPurifier            4489             4118\n",
       "Haier      Blender                  3873             3549\n",
       "           Microwave                3838             3498\n",
       "           Refrigerator             3839             3518\n",
       "           WashingMachine           3880             3561\n",
       "           WaterPurifier            3826             3496\n",
       "LG         Blender                  3029             2925\n",
       "           Microwave                2905             2801\n",
       "           Refrigerator             3024             2906\n",
       "           WashingMachine           2932             2819\n",
       "           WaterPurifier            3026             2900\n",
       "Samsung    Blender                  3919             3744\n",
       "           Microwave                3960             3780\n",
       "           Refrigerator             3899             3719\n",
       "           WashingMachine           3950             3766\n",
       "           WaterPurifier            4003             3806\n",
       "Whirlpool  Blender                  4345             3987\n",
       "           Microwave                4582             4177\n",
       "           Refrigerator             4444             4054\n",
       "           WashingMachine           4453             4065\n",
       "           WaterPurifier            4419             4048"
      ]
     },
     "execution_count": 23,
     "metadata": {},
     "output_type": "execute_result"
    }
   ],
   "source": [
    "ham.groupby(['Brand','Product'])['Issues_raised','Issues_resolved'].sum()"
   ]
  },
  {
   "cell_type": "markdown",
   "metadata": {},
   "source": [
    "- Brand and Product wise Issues raised and resolved"
   ]
  },
  {
   "cell_type": "markdown",
   "metadata": {},
   "source": [
    "- __Unresolved issues__"
   ]
  },
  {
   "cell_type": "code",
   "execution_count": 105,
   "metadata": {},
   "outputs": [],
   "source": [
    "# Unresolved issues by the companies\n",
    "Unresolved = ham['Issues_raised'] - ham['Issues_resolved']\n",
    "ham['Issues_unresolved'] = Unresolved"
   ]
  },
  {
   "cell_type": "code",
   "execution_count": 106,
   "metadata": {},
   "outputs": [
    {
     "data": {
      "text/html": [
       "<div>\n",
       "<style scoped>\n",
       "    .dataframe tbody tr th:only-of-type {\n",
       "        vertical-align: middle;\n",
       "    }\n",
       "\n",
       "    .dataframe tbody tr th {\n",
       "        vertical-align: top;\n",
       "    }\n",
       "\n",
       "    .dataframe thead th {\n",
       "        text-align: right;\n",
       "    }\n",
       "</style>\n",
       "<table border=\"1\" class=\"dataframe\">\n",
       "  <thead>\n",
       "    <tr style=\"text-align: right;\">\n",
       "      <th></th>\n",
       "      <th>Issues_raised</th>\n",
       "      <th>Issues_unresolved</th>\n",
       "    </tr>\n",
       "    <tr>\n",
       "      <th>Brand</th>\n",
       "      <th></th>\n",
       "      <th></th>\n",
       "    </tr>\n",
       "  </thead>\n",
       "  <tbody>\n",
       "    <tr>\n",
       "      <th>Electrolux</th>\n",
       "      <td>22444</td>\n",
       "      <td>1890</td>\n",
       "    </tr>\n",
       "    <tr>\n",
       "      <th>Haier</th>\n",
       "      <td>19256</td>\n",
       "      <td>1634</td>\n",
       "    </tr>\n",
       "    <tr>\n",
       "      <th>LG</th>\n",
       "      <td>14916</td>\n",
       "      <td>565</td>\n",
       "    </tr>\n",
       "    <tr>\n",
       "      <th>Samsung</th>\n",
       "      <td>19731</td>\n",
       "      <td>916</td>\n",
       "    </tr>\n",
       "    <tr>\n",
       "      <th>Whirlpool</th>\n",
       "      <td>22243</td>\n",
       "      <td>1912</td>\n",
       "    </tr>\n",
       "  </tbody>\n",
       "</table>\n",
       "</div>"
      ],
      "text/plain": [
       "            Issues_raised  Issues_unresolved\n",
       "Brand                                       \n",
       "Electrolux          22444               1890\n",
       "Haier               19256               1634\n",
       "LG                  14916                565\n",
       "Samsung             19731                916\n",
       "Whirlpool           22243               1912"
      ]
     },
     "execution_count": 106,
     "metadata": {},
     "output_type": "execute_result"
    }
   ],
   "source": [
    "# Maximum no of unresolved issues per company\n",
    "\n",
    "df_ham = ham.groupby(['Brand'])['Issues_raised','Issues_unresolved'].sum()\n",
    "df_ham"
   ]
  },
  {
   "cell_type": "code",
   "execution_count": 111,
   "metadata": {
    "scrolled": true
   },
   "outputs": [
    {
     "data": {
      "image/png": "[encoded data removed]",
      "text/plain": [
       "<Figure size 1440x216 with 1 Axes>"
      ]
     },
     "metadata": {
      "needs_background": "light"
     },
     "output_type": "display_data"
    }
   ],
   "source": [
    "# Company having maximum no of unresolved complaints( Customer service )\n",
    "\n",
    "ham.groupby('Brand').sum()['Issues_unresolved'].plot.bar()\n",
    "plt.rcParams[\"figure.figsize\"] = (70,3)\n",
    "plt.xticks(rotation=0)\n",
    "plt.tight_layout()\n",
    "plt.show()"
   ]
  },
  {
   "cell_type": "code",
   "execution_count": 112,
   "metadata": {},
   "outputs": [
    {
     "data": {
      "text/html": [
       "<div>\n",
       "<style scoped>\n",
       "    .dataframe tbody tr th:only-of-type {\n",
       "        vertical-align: middle;\n",
       "    }\n",
       "\n",
       "    .dataframe tbody tr th {\n",
       "        vertical-align: top;\n",
       "    }\n",
       "\n",
       "    .dataframe thead th {\n",
       "        text-align: right;\n",
       "    }\n",
       "</style>\n",
       "<table border=\"1\" class=\"dataframe\">\n",
       "  <thead>\n",
       "    <tr style=\"text-align: right;\">\n",
       "      <th></th>\n",
       "      <th>Issues_raised</th>\n",
       "      <th>Issues_unresolved</th>\n",
       "      <th>Perc_unresolved_issues</th>\n",
       "    </tr>\n",
       "    <tr>\n",
       "      <th>Brand</th>\n",
       "      <th></th>\n",
       "      <th></th>\n",
       "      <th></th>\n",
       "    </tr>\n",
       "  </thead>\n",
       "  <tbody>\n",
       "    <tr>\n",
       "      <th>Electrolux</th>\n",
       "      <td>22444</td>\n",
       "      <td>1890</td>\n",
       "      <td>8.420959</td>\n",
       "    </tr>\n",
       "    <tr>\n",
       "      <th>Haier</th>\n",
       "      <td>19256</td>\n",
       "      <td>1634</td>\n",
       "      <td>8.485667</td>\n",
       "    </tr>\n",
       "    <tr>\n",
       "      <th>LG</th>\n",
       "      <td>14916</td>\n",
       "      <td>565</td>\n",
       "      <td>3.787879</td>\n",
       "    </tr>\n",
       "    <tr>\n",
       "      <th>Samsung</th>\n",
       "      <td>19731</td>\n",
       "      <td>916</td>\n",
       "      <td>4.642441</td>\n",
       "    </tr>\n",
       "    <tr>\n",
       "      <th>Whirlpool</th>\n",
       "      <td>22243</td>\n",
       "      <td>1912</td>\n",
       "      <td>8.595963</td>\n",
       "    </tr>\n",
       "  </tbody>\n",
       "</table>\n",
       "</div>"
      ],
      "text/plain": [
       "            Issues_raised  Issues_unresolved  Perc_unresolved_issues\n",
       "Brand                                                               \n",
       "Electrolux          22444               1890                8.420959\n",
       "Haier               19256               1634                8.485667\n",
       "LG                  14916                565                3.787879\n",
       "Samsung             19731                916                4.642441\n",
       "Whirlpool           22243               1912                8.595963"
      ]
     },
     "execution_count": 112,
     "metadata": {},
     "output_type": "execute_result"
    }
   ],
   "source": [
    "# Percentage of unresolved issues as per Insurance provider\n",
    "\n",
    "df_ham['Perc_unresolved_issues'] = (df_ham['Issues_unresolved']/df_ham['Issues_raised'])*100\n",
    "df_ham"
   ]
  },
  {
   "cell_type": "markdown",
   "metadata": {},
   "source": [
    "- Electrolux and whirlpool have maximum percentage of unresolved complaints \n",
    "- LG have least unresolved complaints"
   ]
  },
  {
   "cell_type": "code",
   "execution_count": 54,
   "metadata": {
    "scrolled": true
   },
   "outputs": [
    {
     "data": {
      "text/plain": [
       "Brand       Product       \n",
       "Electrolux  Blender           33.583333\n",
       "            Microwave         32.000000\n",
       "            Refrigerator      29.916667\n",
       "            WashingMachine    31.083333\n",
       "            WaterPurifier     30.916667\n",
       "Haier       Blender           27.000000\n",
       "            Microwave         28.333333\n",
       "            Refrigerator      26.750000\n",
       "            WashingMachine    26.583333\n",
       "            WaterPurifier     27.500000\n",
       "LG          Blender            8.666667\n",
       "            Microwave          8.666667\n",
       "            Refrigerator       9.833333\n",
       "            WashingMachine     9.416667\n",
       "            WaterPurifier     10.500000\n",
       "Samsung     Blender           14.583333\n",
       "            Microwave         15.000000\n",
       "            Refrigerator      15.000000\n",
       "            WashingMachine    15.333333\n",
       "            WaterPurifier     16.416667\n",
       "Whirlpool   Blender           29.833333\n",
       "            Microwave         33.750000\n",
       "            Refrigerator      32.500000\n",
       "            WashingMachine    32.333333\n",
       "            WaterPurifier     30.916667\n",
       "Name: Issues_unresolved, dtype: float64"
      ]
     },
     "execution_count": 54,
     "metadata": {},
     "output_type": "execute_result"
    }
   ],
   "source": [
    "ham.groupby(['Brand','Product'])['Issues_unresolved'].mean()"
   ]
  },
  {
   "cell_type": "markdown",
   "metadata": {},
   "source": [
    "- As we can see from above data, LG have least amount of unresolved issues for all products, so we can deduce it provides best customer service"
   ]
  },
  {
   "cell_type": "markdown",
   "metadata": {},
   "source": [
    "## Analysis based on Brand Ratings"
   ]
  },
  {
   "cell_type": "code",
   "execution_count": 39,
   "metadata": {},
   "outputs": [
    {
     "data": {
      "image/png": "[encoded data removed]",
      "text/plain": [
       "<Figure size 720x216 with 1 Axes>"
      ]
     },
     "metadata": {
      "needs_background": "light"
     },
     "output_type": "display_data"
    }
   ],
   "source": [
    "ham.groupby('Brand').mean()['Brand_avg_review_OO10'].plot.bar()\n",
    "plt.rcParams[\"figure.figsize\"] = (70,3)\n",
    "plt.xticks(rotation=0)\n",
    "plt.tight_layout()\n",
    "plt.show()"
   ]
  },
  {
   "cell_type": "code",
   "execution_count": 24,
   "metadata": {},
   "outputs": [
    {
     "data": {
      "text/plain": [
       "Brand\n",
       "Electrolux    7.716667\n",
       "Haier         7.745000\n",
       "LG            8.945000\n",
       "Samsung       8.463333\n",
       "Whirlpool     7.681667\n",
       "Name: Brand_avg_review_OO10, dtype: float64"
      ]
     },
     "execution_count": 24,
     "metadata": {},
     "output_type": "execute_result"
    }
   ],
   "source": [
    "# company have the highest Brand review rating\n",
    "\n",
    "df4 = ham.groupby(['Brand'])['Brand_avg_review_OO10'].mean()\n",
    "df4"
   ]
  },
  {
   "cell_type": "markdown",
   "metadata": {},
   "source": [
    "- LG have the max average review ratings among all companies"
   ]
  },
  {
   "cell_type": "code",
   "execution_count": 57,
   "metadata": {
    "scrolled": true
   },
   "outputs": [
    {
     "data": {
      "text/plain": [
       "Brand       Product       \n",
       "Electrolux  Blender           7.633333\n",
       "            Microwave         7.700000\n",
       "            Refrigerator      7.833333\n",
       "            WashingMachine    7.641667\n",
       "            WaterPurifier     7.775000\n",
       "Haier       Blender           7.700000\n",
       "            Microwave         7.683333\n",
       "            Refrigerator      7.500000\n",
       "            WashingMachine    7.858333\n",
       "            WaterPurifier     7.983333\n",
       "LG          Blender           9.025000\n",
       "            Microwave         8.966667\n",
       "            Refrigerator      8.791667\n",
       "            WashingMachine    9.025000\n",
       "            WaterPurifier     8.916667\n",
       "Samsung     Blender           8.525000\n",
       "            Microwave         8.516667\n",
       "            Refrigerator      8.425000\n",
       "            WashingMachine    8.408333\n",
       "            WaterPurifier     8.441667\n",
       "Whirlpool   Blender           7.616667\n",
       "            Microwave         7.616667\n",
       "            Refrigerator      7.766667\n",
       "            WashingMachine    7.808333\n",
       "            WaterPurifier     7.600000\n",
       "Name: Brand_avg_review_OO10, dtype: float64"
      ]
     },
     "execution_count": 57,
     "metadata": {},
     "output_type": "execute_result"
    }
   ],
   "source": [
    "ham.groupby(['Brand','Product'])['Brand_avg_review_OO10'].mean()"
   ]
  },
  {
   "cell_type": "markdown",
   "metadata": {},
   "source": [
    "- LG have the mean best ratings across all products and brands"
   ]
  },
  {
   "cell_type": "markdown",
   "metadata": {},
   "source": [
    "#### Selecting columns from Home Appliance dataset to merge with Insurance dataset for furthur analysis"
   ]
  },
  {
   "cell_type": "code",
   "execution_count": 70,
   "metadata": {
    "scrolled": false
   },
   "outputs": [],
   "source": [
    "df_ham = ham[['Brand','Product','Units_insured','Amount_insured']]"
   ]
  },
  {
   "cell_type": "code",
   "execution_count": 71,
   "metadata": {
    "scrolled": false
   },
   "outputs": [
    {
     "data": {
      "text/html": [
       "<div>\n",
       "<style scoped>\n",
       "    .dataframe tbody tr th:only-of-type {\n",
       "        vertical-align: middle;\n",
       "    }\n",
       "\n",
       "    .dataframe tbody tr th {\n",
       "        vertical-align: top;\n",
       "    }\n",
       "\n",
       "    .dataframe thead th {\n",
       "        text-align: right;\n",
       "    }\n",
       "</style>\n",
       "<table border=\"1\" class=\"dataframe\">\n",
       "  <thead>\n",
       "    <tr style=\"text-align: right;\">\n",
       "      <th></th>\n",
       "      <th></th>\n",
       "      <th>Units_insured</th>\n",
       "      <th>Amount_insured</th>\n",
       "    </tr>\n",
       "    <tr>\n",
       "      <th>Brand</th>\n",
       "      <th>Product</th>\n",
       "      <th></th>\n",
       "      <th></th>\n",
       "    </tr>\n",
       "  </thead>\n",
       "  <tbody>\n",
       "    <tr>\n",
       "      <th rowspan=\"5\" valign=\"top\">Electrolux</th>\n",
       "      <th>Blender</th>\n",
       "      <td>4543</td>\n",
       "      <td>2.951168e+07</td>\n",
       "    </tr>\n",
       "    <tr>\n",
       "      <th>Microwave</th>\n",
       "      <td>4398</td>\n",
       "      <td>5.321436e+07</td>\n",
       "    </tr>\n",
       "    <tr>\n",
       "      <th>Refrigerator</th>\n",
       "      <td>4281</td>\n",
       "      <td>1.304060e+08</td>\n",
       "    </tr>\n",
       "    <tr>\n",
       "      <th>WashingMachine</th>\n",
       "      <td>4478</td>\n",
       "      <td>1.206739e+08</td>\n",
       "    </tr>\n",
       "    <tr>\n",
       "      <th>WaterPurifier</th>\n",
       "      <td>4182</td>\n",
       "      <td>4.790497e+07</td>\n",
       "    </tr>\n",
       "  </tbody>\n",
       "</table>\n",
       "</div>"
      ],
      "text/plain": [
       "                           Units_insured  Amount_insured\n",
       "Brand      Product                                      \n",
       "Electrolux Blender                  4543    2.951168e+07\n",
       "           Microwave                4398    5.321436e+07\n",
       "           Refrigerator             4281    1.304060e+08\n",
       "           WashingMachine           4478    1.206739e+08\n",
       "           WaterPurifier            4182    4.790497e+07"
      ]
     },
     "execution_count": 71,
     "metadata": {},
     "output_type": "execute_result"
    }
   ],
   "source": [
    "df2_ham = df_ham.groupby(['Brand','Product'])['Units_insured','Amount_insured'].sum()\n",
    "df2_ham.head()"
   ]
  },
  {
   "cell_type": "markdown",
   "metadata": {},
   "source": [
    "#### Merging both the datasets"
   ]
  },
  {
   "cell_type": "code",
   "execution_count": 72,
   "metadata": {},
   "outputs": [
    {
     "data": {
      "text/html": [
       "<div>\n",
       "<style scoped>\n",
       "    .dataframe tbody tr th:only-of-type {\n",
       "        vertical-align: middle;\n",
       "    }\n",
       "\n",
       "    .dataframe tbody tr th {\n",
       "        vertical-align: top;\n",
       "    }\n",
       "\n",
       "    .dataframe thead th {\n",
       "        text-align: right;\n",
       "    }\n",
       "</style>\n",
       "<table border=\"1\" class=\"dataframe\">\n",
       "  <thead>\n",
       "    <tr style=\"text-align: right;\">\n",
       "      <th></th>\n",
       "      <th>Brand</th>\n",
       "      <th>Product</th>\n",
       "      <th>Insurance_provider</th>\n",
       "      <th>Insurance_product</th>\n",
       "      <th>Amt_cov_share_byBrnd_prod</th>\n",
       "      <th>Issues_raised</th>\n",
       "      <th>Issues_resolved</th>\n",
       "      <th>Ins_avg_review_OO10</th>\n",
       "      <th>Units_insured</th>\n",
       "      <th>Amount_insured</th>\n",
       "    </tr>\n",
       "  </thead>\n",
       "  <tbody>\n",
       "    <tr>\n",
       "      <th>0</th>\n",
       "      <td>Electrolux</td>\n",
       "      <td>Blender</td>\n",
       "      <td>Bajaj</td>\n",
       "      <td>Accidental</td>\n",
       "      <td>0.20</td>\n",
       "      <td>517</td>\n",
       "      <td>475</td>\n",
       "      <td>9.5</td>\n",
       "      <td>4543</td>\n",
       "      <td>29511682.17</td>\n",
       "    </tr>\n",
       "    <tr>\n",
       "      <th>1</th>\n",
       "      <td>Electrolux</td>\n",
       "      <td>Blender</td>\n",
       "      <td>Bajaj</td>\n",
       "      <td>full_cover_5yr</td>\n",
       "      <td>0.20</td>\n",
       "      <td>589</td>\n",
       "      <td>541</td>\n",
       "      <td>9.5</td>\n",
       "      <td>4543</td>\n",
       "      <td>29511682.17</td>\n",
       "    </tr>\n",
       "    <tr>\n",
       "      <th>2</th>\n",
       "      <td>Electrolux</td>\n",
       "      <td>Blender</td>\n",
       "      <td>Bajaj</td>\n",
       "      <td>lifetime</td>\n",
       "      <td>0.10</td>\n",
       "      <td>535</td>\n",
       "      <td>502</td>\n",
       "      <td>9.6</td>\n",
       "      <td>4543</td>\n",
       "      <td>29511682.17</td>\n",
       "    </tr>\n",
       "    <tr>\n",
       "      <th>3</th>\n",
       "      <td>Electrolux</td>\n",
       "      <td>Blender</td>\n",
       "      <td>Home_Assist</td>\n",
       "      <td>Accidental</td>\n",
       "      <td>0.10</td>\n",
       "      <td>569</td>\n",
       "      <td>483</td>\n",
       "      <td>9.1</td>\n",
       "      <td>4543</td>\n",
       "      <td>29511682.17</td>\n",
       "    </tr>\n",
       "    <tr>\n",
       "      <th>4</th>\n",
       "      <td>Electrolux</td>\n",
       "      <td>Blender</td>\n",
       "      <td>Home_Assist</td>\n",
       "      <td>full_cover_5yr</td>\n",
       "      <td>0.15</td>\n",
       "      <td>502</td>\n",
       "      <td>426</td>\n",
       "      <td>9.2</td>\n",
       "      <td>4543</td>\n",
       "      <td>29511682.17</td>\n",
       "    </tr>\n",
       "  </tbody>\n",
       "</table>\n",
       "</div>"
      ],
      "text/plain": [
       "        Brand  Product Insurance_provider Insurance_product  \\\n",
       "0  Electrolux  Blender              Bajaj        Accidental   \n",
       "1  Electrolux  Blender              Bajaj    full_cover_5yr   \n",
       "2  Electrolux  Blender              Bajaj          lifetime   \n",
       "3  Electrolux  Blender        Home_Assist        Accidental   \n",
       "4  Electrolux  Blender        Home_Assist    full_cover_5yr   \n",
       "\n",
       "   Amt_cov_share_byBrnd_prod  Issues_raised  Issues_resolved  \\\n",
       "0                       0.20            517              475   \n",
       "1                       0.20            589              541   \n",
       "2                       0.10            535              502   \n",
       "3                       0.10            569              483   \n",
       "4                       0.15            502              426   \n",
       "\n",
       "   Ins_avg_review_OO10  Units_insured  Amount_insured  \n",
       "0                  9.5           4543     29511682.17  \n",
       "1                  9.5           4543     29511682.17  \n",
       "2                  9.6           4543     29511682.17  \n",
       "3                  9.1           4543     29511682.17  \n",
       "4                  9.2           4543     29511682.17  "
      ]
     },
     "execution_count": 72,
     "metadata": {},
     "output_type": "execute_result"
    }
   ],
   "source": [
    "df_merge = pd.merge(im,df2_ham,on=['Brand','Product'])\n",
    "df_merge.head()"
   ]
  },
  {
   "cell_type": "code",
   "execution_count": 73,
   "metadata": {},
   "outputs": [],
   "source": [
    "df_merge['Units_insure'] = df_merge['Amt_cov_share_byBrnd_prod']*df_merge['Units_insured']\n",
    "df_merge['Amt_insured'] = df_merge['Amt_cov_share_byBrnd_prod'] * df_merge['Amount_insured']"
   ]
  },
  {
   "cell_type": "code",
   "execution_count": 74,
   "metadata": {
    "scrolled": false
   },
   "outputs": [
    {
     "data": {
      "text/html": [
       "<div>\n",
       "<style scoped>\n",
       "    .dataframe tbody tr th:only-of-type {\n",
       "        vertical-align: middle;\n",
       "    }\n",
       "\n",
       "    .dataframe tbody tr th {\n",
       "        vertical-align: top;\n",
       "    }\n",
       "\n",
       "    .dataframe thead th {\n",
       "        text-align: right;\n",
       "    }\n",
       "</style>\n",
       "<table border=\"1\" class=\"dataframe\">\n",
       "  <thead>\n",
       "    <tr style=\"text-align: right;\">\n",
       "      <th></th>\n",
       "      <th>Brand</th>\n",
       "      <th>Product</th>\n",
       "      <th>Insurance_provider</th>\n",
       "      <th>Insurance_product</th>\n",
       "      <th>Amt_cov_share_byBrnd_prod</th>\n",
       "      <th>Issues_raised</th>\n",
       "      <th>Issues_resolved</th>\n",
       "      <th>Ins_avg_review_OO10</th>\n",
       "      <th>Units_insured</th>\n",
       "      <th>Amount_insured</th>\n",
       "      <th>Units_insure</th>\n",
       "      <th>Amt_insured</th>\n",
       "    </tr>\n",
       "  </thead>\n",
       "  <tbody>\n",
       "    <tr>\n",
       "      <th>0</th>\n",
       "      <td>Electrolux</td>\n",
       "      <td>Blender</td>\n",
       "      <td>Bajaj</td>\n",
       "      <td>Accidental</td>\n",
       "      <td>0.20</td>\n",
       "      <td>517</td>\n",
       "      <td>475</td>\n",
       "      <td>9.5</td>\n",
       "      <td>4543</td>\n",
       "      <td>29511682.17</td>\n",
       "      <td>908.60</td>\n",
       "      <td>5.902336e+06</td>\n",
       "    </tr>\n",
       "    <tr>\n",
       "      <th>1</th>\n",
       "      <td>Electrolux</td>\n",
       "      <td>Blender</td>\n",
       "      <td>Bajaj</td>\n",
       "      <td>full_cover_5yr</td>\n",
       "      <td>0.20</td>\n",
       "      <td>589</td>\n",
       "      <td>541</td>\n",
       "      <td>9.5</td>\n",
       "      <td>4543</td>\n",
       "      <td>29511682.17</td>\n",
       "      <td>908.60</td>\n",
       "      <td>5.902336e+06</td>\n",
       "    </tr>\n",
       "    <tr>\n",
       "      <th>2</th>\n",
       "      <td>Electrolux</td>\n",
       "      <td>Blender</td>\n",
       "      <td>Bajaj</td>\n",
       "      <td>lifetime</td>\n",
       "      <td>0.10</td>\n",
       "      <td>535</td>\n",
       "      <td>502</td>\n",
       "      <td>9.6</td>\n",
       "      <td>4543</td>\n",
       "      <td>29511682.17</td>\n",
       "      <td>454.30</td>\n",
       "      <td>2.951168e+06</td>\n",
       "    </tr>\n",
       "    <tr>\n",
       "      <th>3</th>\n",
       "      <td>Electrolux</td>\n",
       "      <td>Blender</td>\n",
       "      <td>Home_Assist</td>\n",
       "      <td>Accidental</td>\n",
       "      <td>0.10</td>\n",
       "      <td>569</td>\n",
       "      <td>483</td>\n",
       "      <td>9.1</td>\n",
       "      <td>4543</td>\n",
       "      <td>29511682.17</td>\n",
       "      <td>454.30</td>\n",
       "      <td>2.951168e+06</td>\n",
       "    </tr>\n",
       "    <tr>\n",
       "      <th>4</th>\n",
       "      <td>Electrolux</td>\n",
       "      <td>Blender</td>\n",
       "      <td>Home_Assist</td>\n",
       "      <td>full_cover_5yr</td>\n",
       "      <td>0.15</td>\n",
       "      <td>502</td>\n",
       "      <td>426</td>\n",
       "      <td>9.2</td>\n",
       "      <td>4543</td>\n",
       "      <td>29511682.17</td>\n",
       "      <td>681.45</td>\n",
       "      <td>4.426752e+06</td>\n",
       "    </tr>\n",
       "  </tbody>\n",
       "</table>\n",
       "</div>"
      ],
      "text/plain": [
       "        Brand  Product Insurance_provider Insurance_product  \\\n",
       "0  Electrolux  Blender              Bajaj        Accidental   \n",
       "1  Electrolux  Blender              Bajaj    full_cover_5yr   \n",
       "2  Electrolux  Blender              Bajaj          lifetime   \n",
       "3  Electrolux  Blender        Home_Assist        Accidental   \n",
       "4  Electrolux  Blender        Home_Assist    full_cover_5yr   \n",
       "\n",
       "   Amt_cov_share_byBrnd_prod  Issues_raised  Issues_resolved  \\\n",
       "0                       0.20            517              475   \n",
       "1                       0.20            589              541   \n",
       "2                       0.10            535              502   \n",
       "3                       0.10            569              483   \n",
       "4                       0.15            502              426   \n",
       "\n",
       "   Ins_avg_review_OO10  Units_insured  Amount_insured  Units_insure  \\\n",
       "0                  9.5           4543     29511682.17        908.60   \n",
       "1                  9.5           4543     29511682.17        908.60   \n",
       "2                  9.6           4543     29511682.17        454.30   \n",
       "3                  9.1           4543     29511682.17        454.30   \n",
       "4                  9.2           4543     29511682.17        681.45   \n",
       "\n",
       "    Amt_insured  \n",
       "0  5.902336e+06  \n",
       "1  5.902336e+06  \n",
       "2  2.951168e+06  \n",
       "3  2.951168e+06  \n",
       "4  4.426752e+06  "
      ]
     },
     "execution_count": 74,
     "metadata": {},
     "output_type": "execute_result"
    }
   ],
   "source": [
    "df_merge.head(5)"
   ]
  },
  {
   "cell_type": "code",
   "execution_count": 76,
   "metadata": {
    "scrolled": true
   },
   "outputs": [
    {
     "data": {
      "text/html": [
       "<div>\n",
       "<style scoped>\n",
       "    .dataframe tbody tr th:only-of-type {\n",
       "        vertical-align: middle;\n",
       "    }\n",
       "\n",
       "    .dataframe tbody tr th {\n",
       "        vertical-align: top;\n",
       "    }\n",
       "\n",
       "    .dataframe thead th {\n",
       "        text-align: right;\n",
       "    }\n",
       "</style>\n",
       "<table border=\"1\" class=\"dataframe\">\n",
       "  <thead>\n",
       "    <tr style=\"text-align: right;\">\n",
       "      <th></th>\n",
       "      <th></th>\n",
       "      <th></th>\n",
       "      <th></th>\n",
       "      <th>Units_insure</th>\n",
       "      <th>Amt_insured</th>\n",
       "    </tr>\n",
       "    <tr>\n",
       "      <th>Brand</th>\n",
       "      <th>Product</th>\n",
       "      <th>Insurance_provider</th>\n",
       "      <th>Insurance_product</th>\n",
       "      <th></th>\n",
       "      <th></th>\n",
       "    </tr>\n",
       "  </thead>\n",
       "  <tbody>\n",
       "    <tr>\n",
       "      <th rowspan=\"5\" valign=\"top\">Electrolux</th>\n",
       "      <th rowspan=\"5\" valign=\"top\">Blender</th>\n",
       "      <th rowspan=\"3\" valign=\"top\">Bajaj</th>\n",
       "      <th>Accidental</th>\n",
       "      <td>908.60</td>\n",
       "      <td>5.902336e+06</td>\n",
       "    </tr>\n",
       "    <tr>\n",
       "      <th>full_cover_5yr</th>\n",
       "      <td>908.60</td>\n",
       "      <td>5.902336e+06</td>\n",
       "    </tr>\n",
       "    <tr>\n",
       "      <th>lifetime</th>\n",
       "      <td>454.30</td>\n",
       "      <td>2.951168e+06</td>\n",
       "    </tr>\n",
       "    <tr>\n",
       "      <th rowspan=\"2\" valign=\"top\">Home_Assist</th>\n",
       "      <th>Accidental</th>\n",
       "      <td>454.30</td>\n",
       "      <td>2.951168e+06</td>\n",
       "    </tr>\n",
       "    <tr>\n",
       "      <th>full_cover_5yr</th>\n",
       "      <td>681.45</td>\n",
       "      <td>4.426752e+06</td>\n",
       "    </tr>\n",
       "    <tr>\n",
       "      <th>...</th>\n",
       "      <th>...</th>\n",
       "      <th>...</th>\n",
       "      <th>...</th>\n",
       "      <td>...</td>\n",
       "      <td>...</td>\n",
       "    </tr>\n",
       "    <tr>\n",
       "      <th rowspan=\"5\" valign=\"top\">Whirlpool</th>\n",
       "      <th rowspan=\"5\" valign=\"top\">WaterPurifier</th>\n",
       "      <th rowspan=\"2\" valign=\"top\">Home_Assist</th>\n",
       "      <th>full_cover_5yr</th>\n",
       "      <td>671.40</td>\n",
       "      <td>7.703945e+06</td>\n",
       "    </tr>\n",
       "    <tr>\n",
       "      <th>lifetime</th>\n",
       "      <td>335.70</td>\n",
       "      <td>3.851973e+06</td>\n",
       "    </tr>\n",
       "    <tr>\n",
       "      <th rowspan=\"3\" valign=\"top\">Oriental</th>\n",
       "      <th>Accidental</th>\n",
       "      <td>335.70</td>\n",
       "      <td>3.851973e+06</td>\n",
       "    </tr>\n",
       "    <tr>\n",
       "      <th>full_cover_5yr</th>\n",
       "      <td>335.70</td>\n",
       "      <td>3.851973e+06</td>\n",
       "    </tr>\n",
       "    <tr>\n",
       "      <th>lifetime</th>\n",
       "      <td>335.70</td>\n",
       "      <td>3.851973e+06</td>\n",
       "    </tr>\n",
       "  </tbody>\n",
       "</table>\n",
       "<p>225 rows × 2 columns</p>\n",
       "</div>"
      ],
      "text/plain": [
       "                                                               Units_insure  \\\n",
       "Brand      Product       Insurance_provider Insurance_product                 \n",
       "Electrolux Blender       Bajaj              Accidental               908.60   \n",
       "                                            full_cover_5yr           908.60   \n",
       "                                            lifetime                 454.30   \n",
       "                         Home_Assist        Accidental               454.30   \n",
       "                                            full_cover_5yr           681.45   \n",
       "...                                                                     ...   \n",
       "Whirlpool  WaterPurifier Home_Assist        full_cover_5yr           671.40   \n",
       "                                            lifetime                 335.70   \n",
       "                         Oriental           Accidental               335.70   \n",
       "                                            full_cover_5yr           335.70   \n",
       "                                            lifetime                 335.70   \n",
       "\n",
       "                                                                Amt_insured  \n",
       "Brand      Product       Insurance_provider Insurance_product                \n",
       "Electrolux Blender       Bajaj              Accidental         5.902336e+06  \n",
       "                                            full_cover_5yr     5.902336e+06  \n",
       "                                            lifetime           2.951168e+06  \n",
       "                         Home_Assist        Accidental         2.951168e+06  \n",
       "                                            full_cover_5yr     4.426752e+06  \n",
       "...                                                                     ...  \n",
       "Whirlpool  WaterPurifier Home_Assist        full_cover_5yr     7.703945e+06  \n",
       "                                            lifetime           3.851973e+06  \n",
       "                         Oriental           Accidental         3.851973e+06  \n",
       "                                            full_cover_5yr     3.851973e+06  \n",
       "                                            lifetime           3.851973e+06  \n",
       "\n",
       "[225 rows x 2 columns]"
      ]
     },
     "execution_count": 76,
     "metadata": {},
     "output_type": "execute_result"
    }
   ],
   "source": [
    "df_merge2 = df_merge.groupby(['Brand','Product','Insurance_provider','Insurance_product'])['Units_insure','Amt_insured'].sum()\n",
    "df_merge2"
   ]
  },
  {
   "cell_type": "markdown",
   "metadata": {},
   "source": [
    "## Market share analysis based on Brand, Products, Insurance Provider and Insurance products"
   ]
  },
  {
   "cell_type": "code",
   "execution_count": 77,
   "metadata": {
    "scrolled": true
   },
   "outputs": [
    {
     "data": {
      "text/plain": [
       "array([<matplotlib.axes._subplots.AxesSubplot object at 0x000001D9DFE1C898>,\n",
       "       <matplotlib.axes._subplots.AxesSubplot object at 0x000001D9DFE46DA0>],\n",
       "      dtype=object)"
      ]
     },
     "execution_count": 77,
     "metadata": {},
     "output_type": "execute_result"
    },
    {
     "data": {
      "image/png": "[encoded data removed]",
      "text/plain": [
       "<Figure size 1080x720 with 2 Axes>"
      ]
     },
     "metadata": {},
     "output_type": "display_data"
    }
   ],
   "source": [
    "df_merge2.groupby(['Insurance_product']).sum().plot(kind='pie', subplots=True, shadow = True,startangle=90,figsize=(15,10), autopct='%1.1f%%')"
   ]
  },
  {
   "cell_type": "markdown",
   "metadata": {},
   "source": [
    "- 44.2 % of insurance product is full cover 5 years"
   ]
  },
  {
   "cell_type": "code",
   "execution_count": 78,
   "metadata": {},
   "outputs": [
    {
     "data": {
      "text/plain": [
       "array([<matplotlib.axes._subplots.AxesSubplot object at 0x000001D9DFEC6358>,\n",
       "       <matplotlib.axes._subplots.AxesSubplot object at 0x000001D9DFEE9748>],\n",
       "      dtype=object)"
      ]
     },
     "execution_count": 78,
     "metadata": {},
     "output_type": "execute_result"
    },
    {
     "data": {
      "image/png": "[encoded data removed]",
      "text/plain": [
       "<Figure size 1080x720 with 2 Axes>"
      ]
     },
     "metadata": {},
     "output_type": "display_data"
    }
   ],
   "source": [
    "df_merge2.groupby(['Insurance_provider']).sum().plot(kind='pie', subplots=True, shadow = True,startangle=90,figsize=(15,10), autopct='%1.1f%%')"
   ]
  },
  {
   "cell_type": "markdown",
   "metadata": {},
   "source": [
    "- Bajaj have the biggest market share in terms of units insured and amount of insurance as well in the market\n",
    "- On second number, Home Assist also have huge market with them"
   ]
  },
  {
   "cell_type": "code",
   "execution_count": 79,
   "metadata": {},
   "outputs": [
    {
     "data": {
      "text/plain": [
       "array([<matplotlib.axes._subplots.AxesSubplot object at 0x000001D9DFF5ADA0>,\n",
       "       <matplotlib.axes._subplots.AxesSubplot object at 0x000001D9DFF891D0>],\n",
       "      dtype=object)"
      ]
     },
     "execution_count": 79,
     "metadata": {},
     "output_type": "execute_result"
    },
    {
     "data": {
      "image/png": "[encoded data removed]",
      "text/plain": [
       "<Figure size 1080x720 with 2 Axes>"
      ]
     },
     "metadata": {},
     "output_type": "display_data"
    }
   ],
   "source": [
    "df_merge2.groupby(['Brand']).sum().plot(kind='pie', subplots=True, shadow = True,startangle=90,figsize=(15,10), autopct='%1.1f%%')"
   ]
  },
  {
   "cell_type": "markdown",
   "metadata": {},
   "source": [
    "- LG company have most units insured and have maximum amount of insurance in the market"
   ]
  },
  {
   "cell_type": "code",
   "execution_count": 80,
   "metadata": {},
   "outputs": [
    {
     "data": {
      "text/plain": [
       "array([<matplotlib.axes._subplots.AxesSubplot object at 0x000001D9E0027CC0>,\n",
       "       <matplotlib.axes._subplots.AxesSubplot object at 0x000001D9E048F160>],\n",
       "      dtype=object)"
      ]
     },
     "execution_count": 80,
     "metadata": {},
     "output_type": "execute_result"
    },
    {
     "data": {
      "image/png": "[encoded data removed]",
      "text/plain": [
       "<Figure size 1080x720 with 2 Axes>"
      ]
     },
     "metadata": {},
     "output_type": "display_data"
    }
   ],
   "source": [
    "df_merge2.groupby(['Product']).sum().plot(kind='pie', subplots=True, shadow = True,startangle=90,figsize=(15,10), autopct='%1.1f%%')"
   ]
  },
  {
   "cell_type": "markdown",
   "metadata": {},
   "source": [
    "## Analysis on Insurance ratings"
   ]
  },
  {
   "cell_type": "code",
   "execution_count": 83,
   "metadata": {
    "scrolled": true
   },
   "outputs": [
    {
     "data": {
      "image/png": "[encoded data removed]",
      "text/plain": [
       "<Figure size 720x216 with 1 Axes>"
      ]
     },
     "metadata": {
      "needs_background": "light"
     },
     "output_type": "display_data"
    }
   ],
   "source": [
    "im.groupby('Insurance_provider').mean()['Ins_avg_review_OO10'].plot.bar()\n",
    "plt.rcParams[\"figure.figsize\"] = (70,3)\n",
    "plt.xticks(rotation=0)\n",
    "plt.tight_layout()\n",
    "plt.show()"
   ]
  },
  {
   "cell_type": "code",
   "execution_count": 84,
   "metadata": {},
   "outputs": [
    {
     "data": {
      "text/plain": [
       "Insurance_provider\n",
       "Bajaj          9.557333\n",
       "Home_Assist    9.264000\n",
       "Oriental       8.686667\n",
       "Name: Ins_avg_review_OO10, dtype: float64"
      ]
     },
     "execution_count": 84,
     "metadata": {},
     "output_type": "execute_result"
    }
   ],
   "source": [
    "# company have the highest insurance review rating\n",
    "\n",
    "df12 = im.groupby(['Insurance_provider'])['Ins_avg_review_OO10'].mean()\n",
    "df12"
   ]
  },
  {
   "cell_type": "markdown",
   "metadata": {},
   "source": [
    "- Bajaj have the highest mean rating among all insurance providers"
   ]
  },
  {
   "cell_type": "markdown",
   "metadata": {},
   "source": [
    "#### Analysis on Unresolved Insurance company issues"
   ]
  },
  {
   "cell_type": "code",
   "execution_count": 96,
   "metadata": {},
   "outputs": [],
   "source": [
    "unresolved = im['Issues_raised'] - im['Issues_resolved']\n",
    "im['Unresolved'] = unresolved"
   ]
  },
  {
   "cell_type": "code",
   "execution_count": 97,
   "metadata": {},
   "outputs": [
    {
     "data": {
      "text/html": [
       "<div>\n",
       "<style scoped>\n",
       "    .dataframe tbody tr th:only-of-type {\n",
       "        vertical-align: middle;\n",
       "    }\n",
       "\n",
       "    .dataframe tbody tr th {\n",
       "        vertical-align: top;\n",
       "    }\n",
       "\n",
       "    .dataframe thead th {\n",
       "        text-align: right;\n",
       "    }\n",
       "</style>\n",
       "<table border=\"1\" class=\"dataframe\">\n",
       "  <thead>\n",
       "    <tr style=\"text-align: right;\">\n",
       "      <th></th>\n",
       "      <th>Issues_raised</th>\n",
       "      <th>Unresolved</th>\n",
       "    </tr>\n",
       "    <tr>\n",
       "      <th>Insurance_provider</th>\n",
       "      <th></th>\n",
       "      <th></th>\n",
       "    </tr>\n",
       "  </thead>\n",
       "  <tbody>\n",
       "    <tr>\n",
       "      <th>Bajaj</th>\n",
       "      <td>40946</td>\n",
       "      <td>3006</td>\n",
       "    </tr>\n",
       "    <tr>\n",
       "      <th>Home_Assist</th>\n",
       "      <td>40821</td>\n",
       "      <td>5179</td>\n",
       "    </tr>\n",
       "    <tr>\n",
       "      <th>Oriental</th>\n",
       "      <td>41461</td>\n",
       "      <td>9521</td>\n",
       "    </tr>\n",
       "  </tbody>\n",
       "</table>\n",
       "</div>"
      ],
      "text/plain": [
       "                    Issues_raised  Unresolved\n",
       "Insurance_provider                           \n",
       "Bajaj                       40946        3006\n",
       "Home_Assist                 40821        5179\n",
       "Oriental                    41461        9521"
      ]
     },
     "execution_count": 97,
     "metadata": {},
     "output_type": "execute_result"
    }
   ],
   "source": [
    "# Maximum no of unresolved issues per company\n",
    "\n",
    "df_iss = im.groupby(['Insurance_provider'])['Issues_raised','Unresolved'].sum()\n",
    "df_iss"
   ]
  },
  {
   "cell_type": "markdown",
   "metadata": {},
   "source": [
    "- Bajaj have got the least unresolved issues means they are giving better service but it will be more clear through percentages which we will calculate next"
   ]
  },
  {
   "cell_type": "code",
   "execution_count": 98,
   "metadata": {
    "scrolled": true
   },
   "outputs": [
    {
     "data": {
      "text/html": [
       "<div>\n",
       "<style scoped>\n",
       "    .dataframe tbody tr th:only-of-type {\n",
       "        vertical-align: middle;\n",
       "    }\n",
       "\n",
       "    .dataframe tbody tr th {\n",
       "        vertical-align: top;\n",
       "    }\n",
       "\n",
       "    .dataframe thead th {\n",
       "        text-align: right;\n",
       "    }\n",
       "</style>\n",
       "<table border=\"1\" class=\"dataframe\">\n",
       "  <thead>\n",
       "    <tr style=\"text-align: right;\">\n",
       "      <th></th>\n",
       "      <th>Issues_raised</th>\n",
       "      <th>Unresolved</th>\n",
       "      <th>Perc_unresolved_issues</th>\n",
       "    </tr>\n",
       "    <tr>\n",
       "      <th>Insurance_provider</th>\n",
       "      <th></th>\n",
       "      <th></th>\n",
       "      <th></th>\n",
       "    </tr>\n",
       "  </thead>\n",
       "  <tbody>\n",
       "    <tr>\n",
       "      <th>Bajaj</th>\n",
       "      <td>40946</td>\n",
       "      <td>3006</td>\n",
       "      <td>7.341376</td>\n",
       "    </tr>\n",
       "    <tr>\n",
       "      <th>Home_Assist</th>\n",
       "      <td>40821</td>\n",
       "      <td>5179</td>\n",
       "      <td>12.687097</td>\n",
       "    </tr>\n",
       "    <tr>\n",
       "      <th>Oriental</th>\n",
       "      <td>41461</td>\n",
       "      <td>9521</td>\n",
       "      <td>22.963749</td>\n",
       "    </tr>\n",
       "  </tbody>\n",
       "</table>\n",
       "</div>"
      ],
      "text/plain": [
       "                    Issues_raised  Unresolved  Perc_unresolved_issues\n",
       "Insurance_provider                                                   \n",
       "Bajaj                       40946        3006                7.341376\n",
       "Home_Assist                 40821        5179               12.687097\n",
       "Oriental                    41461        9521               22.963749"
      ]
     },
     "execution_count": 98,
     "metadata": {},
     "output_type": "execute_result"
    }
   ],
   "source": [
    "# Percentage of unresolved issues as per Insurance provider\n",
    "\n",
    "df_iss['Perc_unresolved_issues'] = (df_iss['Unresolved']/df_iss['Issues_raised'])*100\n",
    "df_iss"
   ]
  },
  {
   "cell_type": "markdown",
   "metadata": {},
   "source": [
    "- Even when we compare the unresolved issues with the Issues raised, bajaj have least percentage of unresolved issues"
   ]
  },
  {
   "cell_type": "code",
   "execution_count": 99,
   "metadata": {},
   "outputs": [
    {
     "data": {
      "text/html": [
       "<div>\n",
       "<style scoped>\n",
       "    .dataframe tbody tr th:only-of-type {\n",
       "        vertical-align: middle;\n",
       "    }\n",
       "\n",
       "    .dataframe tbody tr th {\n",
       "        vertical-align: top;\n",
       "    }\n",
       "\n",
       "    .dataframe thead th {\n",
       "        text-align: right;\n",
       "    }\n",
       "</style>\n",
       "<table border=\"1\" class=\"dataframe\">\n",
       "  <thead>\n",
       "    <tr style=\"text-align: right;\">\n",
       "      <th></th>\n",
       "      <th>Issues_raised</th>\n",
       "      <th>Unresolved</th>\n",
       "    </tr>\n",
       "    <tr>\n",
       "      <th>Brand</th>\n",
       "      <th></th>\n",
       "      <th></th>\n",
       "    </tr>\n",
       "  </thead>\n",
       "  <tbody>\n",
       "    <tr>\n",
       "      <th>Electrolux</th>\n",
       "      <td>24506</td>\n",
       "      <td>3519</td>\n",
       "    </tr>\n",
       "    <tr>\n",
       "      <th>Haier</th>\n",
       "      <td>24528</td>\n",
       "      <td>3583</td>\n",
       "    </tr>\n",
       "    <tr>\n",
       "      <th>LG</th>\n",
       "      <td>25026</td>\n",
       "      <td>3457</td>\n",
       "    </tr>\n",
       "    <tr>\n",
       "      <th>Samsung</th>\n",
       "      <td>24529</td>\n",
       "      <td>3529</td>\n",
       "    </tr>\n",
       "    <tr>\n",
       "      <th>Whirlpool</th>\n",
       "      <td>24639</td>\n",
       "      <td>3618</td>\n",
       "    </tr>\n",
       "  </tbody>\n",
       "</table>\n",
       "</div>"
      ],
      "text/plain": [
       "            Issues_raised  Unresolved\n",
       "Brand                                \n",
       "Electrolux          24506        3519\n",
       "Haier               24528        3583\n",
       "LG                  25026        3457\n",
       "Samsung             24529        3529\n",
       "Whirlpool           24639        3618"
      ]
     },
     "execution_count": 99,
     "metadata": {},
     "output_type": "execute_result"
    }
   ],
   "source": [
    "df_iss = im.groupby(['Brand'])['Issues_raised','Unresolved'].sum()\n",
    "df_iss"
   ]
  },
  {
   "cell_type": "code",
   "execution_count": 100,
   "metadata": {
    "scrolled": true
   },
   "outputs": [
    {
     "data": {
      "text/html": [
       "<div>\n",
       "<style scoped>\n",
       "    .dataframe tbody tr th:only-of-type {\n",
       "        vertical-align: middle;\n",
       "    }\n",
       "\n",
       "    .dataframe tbody tr th {\n",
       "        vertical-align: top;\n",
       "    }\n",
       "\n",
       "    .dataframe thead th {\n",
       "        text-align: right;\n",
       "    }\n",
       "</style>\n",
       "<table border=\"1\" class=\"dataframe\">\n",
       "  <thead>\n",
       "    <tr style=\"text-align: right;\">\n",
       "      <th></th>\n",
       "      <th>Issues_raised</th>\n",
       "      <th>Unresolved</th>\n",
       "      <th>Perc_unresolved_issues</th>\n",
       "    </tr>\n",
       "    <tr>\n",
       "      <th>Brand</th>\n",
       "      <th></th>\n",
       "      <th></th>\n",
       "      <th></th>\n",
       "    </tr>\n",
       "  </thead>\n",
       "  <tbody>\n",
       "    <tr>\n",
       "      <th>Electrolux</th>\n",
       "      <td>24506</td>\n",
       "      <td>3519</td>\n",
       "      <td>14.359749</td>\n",
       "    </tr>\n",
       "    <tr>\n",
       "      <th>Haier</th>\n",
       "      <td>24528</td>\n",
       "      <td>3583</td>\n",
       "      <td>14.607795</td>\n",
       "    </tr>\n",
       "    <tr>\n",
       "      <th>LG</th>\n",
       "      <td>25026</td>\n",
       "      <td>3457</td>\n",
       "      <td>13.813634</td>\n",
       "    </tr>\n",
       "    <tr>\n",
       "      <th>Samsung</th>\n",
       "      <td>24529</td>\n",
       "      <td>3529</td>\n",
       "      <td>14.387052</td>\n",
       "    </tr>\n",
       "    <tr>\n",
       "      <th>Whirlpool</th>\n",
       "      <td>24639</td>\n",
       "      <td>3618</td>\n",
       "      <td>14.684038</td>\n",
       "    </tr>\n",
       "  </tbody>\n",
       "</table>\n",
       "</div>"
      ],
      "text/plain": [
       "            Issues_raised  Unresolved  Perc_unresolved_issues\n",
       "Brand                                                        \n",
       "Electrolux          24506        3519               14.359749\n",
       "Haier               24528        3583               14.607795\n",
       "LG                  25026        3457               13.813634\n",
       "Samsung             24529        3529               14.387052\n",
       "Whirlpool           24639        3618               14.684038"
      ]
     },
     "execution_count": 100,
     "metadata": {},
     "output_type": "execute_result"
    }
   ],
   "source": [
    "df_iss['Perc_unresolved_issues'] = (df_iss['Unresolved']/df_iss['Issues_raised'])*100\n",
    "df_iss"
   ]
  },
  {
   "cell_type": "markdown",
   "metadata": {},
   "source": [
    "- Almost all companies have same percentage of unresolved issues, but LG is doing better among all companies\n",
    "- Considering LG as our client is good opportunity"
   ]
  },
  {
   "cell_type": "code",
   "execution_count": 91,
   "metadata": {},
   "outputs": [
    {
     "data": {
      "text/plain": [
       "Product\n",
       "Blender           24661\n",
       "Microwave         24583\n",
       "Refrigerator      24866\n",
       "WashingMachine    24790\n",
       "WaterPurifier     24328\n",
       "Name: Issues_raised, dtype: int64"
      ]
     },
     "execution_count": 91,
     "metadata": {},
     "output_type": "execute_result"
    }
   ],
   "source": [
    "# Maximum no of issues per brand ( for customer service)\n",
    "\n",
    "df11 = im.groupby(['Product'])['Issues_raised'].sum()\n",
    "df11"
   ]
  },
  {
   "cell_type": "markdown",
   "metadata": {},
   "source": [
    "- Almost the no of issues raised with each product are similar, so it is not helping us to deduce something out of the analysis"
   ]
  },
  {
   "cell_type": "code",
   "execution_count": 92,
   "metadata": {},
   "outputs": [
    {
     "data": {
      "text/html": [
       "<div>\n",
       "<style scoped>\n",
       "    .dataframe tbody tr th:only-of-type {\n",
       "        vertical-align: middle;\n",
       "    }\n",
       "\n",
       "    .dataframe tbody tr th {\n",
       "        vertical-align: top;\n",
       "    }\n",
       "\n",
       "    .dataframe thead th {\n",
       "        text-align: right;\n",
       "    }\n",
       "</style>\n",
       "<table border=\"1\" class=\"dataframe\">\n",
       "  <thead>\n",
       "    <tr style=\"text-align: right;\">\n",
       "      <th></th>\n",
       "      <th>Issues_raised</th>\n",
       "      <th>Unresolved</th>\n",
       "      <th>Perc_unresolved_issues</th>\n",
       "    </tr>\n",
       "    <tr>\n",
       "      <th>Brand</th>\n",
       "      <th></th>\n",
       "      <th></th>\n",
       "      <th></th>\n",
       "    </tr>\n",
       "  </thead>\n",
       "  <tbody>\n",
       "    <tr>\n",
       "      <th>Electrolux</th>\n",
       "      <td>24506</td>\n",
       "      <td>3519</td>\n",
       "      <td>14.359749</td>\n",
       "    </tr>\n",
       "    <tr>\n",
       "      <th>Haier</th>\n",
       "      <td>24528</td>\n",
       "      <td>3583</td>\n",
       "      <td>14.607795</td>\n",
       "    </tr>\n",
       "    <tr>\n",
       "      <th>LG</th>\n",
       "      <td>25026</td>\n",
       "      <td>3457</td>\n",
       "      <td>13.813634</td>\n",
       "    </tr>\n",
       "    <tr>\n",
       "      <th>Samsung</th>\n",
       "      <td>24529</td>\n",
       "      <td>3529</td>\n",
       "      <td>14.387052</td>\n",
       "    </tr>\n",
       "    <tr>\n",
       "      <th>Whirlpool</th>\n",
       "      <td>24639</td>\n",
       "      <td>3618</td>\n",
       "      <td>14.684038</td>\n",
       "    </tr>\n",
       "  </tbody>\n",
       "</table>\n",
       "</div>"
      ],
      "text/plain": [
       "            Issues_raised  Unresolved  Perc_unresolved_issues\n",
       "Brand                                                        \n",
       "Electrolux          24506        3519               14.359749\n",
       "Haier               24528        3583               14.607795\n",
       "LG                  25026        3457               13.813634\n",
       "Samsung             24529        3529               14.387052\n",
       "Whirlpool           24639        3618               14.684038"
      ]
     },
     "execution_count": 92,
     "metadata": {},
     "output_type": "execute_result"
    }
   ],
   "source": [
    "# Percentage of unresolved issue product wise\n",
    "df10['Perc_unresolved_issues'] = (df10['Unresolved']/df10['Issues_raised'])*100\n",
    "df10"
   ]
  },
  {
   "cell_type": "markdown",
   "metadata": {},
   "source": [
    "- Almost all products have same percentage of unresolved issues, but Microwave is doing better among all products"
   ]
  },
  {
   "cell_type": "markdown",
   "metadata": {},
   "source": [
    "## Analysis on Uninsured products"
   ]
  },
  {
   "cell_type": "code",
   "execution_count": 93,
   "metadata": {},
   "outputs": [],
   "source": [
    "Units_not_insured = ham['Units_sale'] - ham['Units_insured']\n",
    "ham['Units_uninsured'] = Units_not_insured"
   ]
  },
  {
   "cell_type": "code",
   "execution_count": 94,
   "metadata": {},
   "outputs": [
    {
     "data": {
      "text/html": [
       "<div>\n",
       "<style scoped>\n",
       "    .dataframe tbody tr th:only-of-type {\n",
       "        vertical-align: middle;\n",
       "    }\n",
       "\n",
       "    .dataframe tbody tr th {\n",
       "        vertical-align: top;\n",
       "    }\n",
       "\n",
       "    .dataframe thead th {\n",
       "        text-align: right;\n",
       "    }\n",
       "</style>\n",
       "<table border=\"1\" class=\"dataframe\">\n",
       "  <thead>\n",
       "    <tr style=\"text-align: right;\">\n",
       "      <th></th>\n",
       "      <th>Units_insured</th>\n",
       "      <th>Units_uninsured</th>\n",
       "    </tr>\n",
       "    <tr>\n",
       "      <th>Brand</th>\n",
       "      <th></th>\n",
       "      <th></th>\n",
       "    </tr>\n",
       "  </thead>\n",
       "  <tbody>\n",
       "    <tr>\n",
       "      <th>Electrolux</th>\n",
       "      <td>21882</td>\n",
       "      <td>103262</td>\n",
       "    </tr>\n",
       "    <tr>\n",
       "      <th>Haier</th>\n",
       "      <td>25818</td>\n",
       "      <td>120158</td>\n",
       "    </tr>\n",
       "    <tr>\n",
       "      <th>LG</th>\n",
       "      <td>62288</td>\n",
       "      <td>165220</td>\n",
       "    </tr>\n",
       "    <tr>\n",
       "      <th>Samsung</th>\n",
       "      <td>52975</td>\n",
       "      <td>141127</td>\n",
       "    </tr>\n",
       "    <tr>\n",
       "      <th>Whirlpool</th>\n",
       "      <td>36094</td>\n",
       "      <td>165962</td>\n",
       "    </tr>\n",
       "  </tbody>\n",
       "</table>\n",
       "</div>"
      ],
      "text/plain": [
       "            Units_insured  Units_uninsured\n",
       "Brand                                     \n",
       "Electrolux          21882           103262\n",
       "Haier               25818           120158\n",
       "LG                  62288           165220\n",
       "Samsung             52975           141127\n",
       "Whirlpool           36094           165962"
      ]
     },
     "execution_count": 94,
     "metadata": {},
     "output_type": "execute_result"
    }
   ],
   "source": [
    "df_h = ham.groupby(['Brand','Product','Units_insured','Units_uninsured'])['Units_insured','Units_uninsured'].sum()\n",
    "df_h.groupby(['Brand'])['Units_insured','Units_uninsured'].sum()"
   ]
  },
  {
   "cell_type": "code",
   "execution_count": 95,
   "metadata": {},
   "outputs": [
    {
     "data": {
      "text/plain": [
       "22.246324819565796"
      ]
     },
     "execution_count": 95,
     "metadata": {},
     "output_type": "execute_result"
    }
   ],
   "source": [
    "perc_uninsured = (ham['Units_insured'].sum() / ham['Units_sale'].sum())*100\n",
    "perc_uninsured"
   ]
  },
  {
   "cell_type": "markdown",
   "metadata": {},
   "source": [
    "- Only 22.246 % of products which are sold are insured, so we have a lot of scope to enter the market"
   ]
  },
  {
   "cell_type": "markdown",
   "metadata": {},
   "source": [
    "- __Observations__\n",
    "    - Bajaj is best insurance company in terms of customer service having least unresolved complaint of __7%__\n",
    "    - Baja have the highest average insurance rating of __9.55__\n",
    "    - Bajaj have the highest market share among all companies of about __49.8%__\n",
    "    - LG have great customer service in resolving customer issues having least unresolved complaint of __3.78%__\n",
    "    - Product Refrigerator created the maximum revenue for the companies.\n",
    "    - LG have the highest average brand rating of __8.94__\n",
    "    - LG have the maximum no of units insured and have highest amount of insurance, about __31%__\n",
    "    - Only __22.246%__ of market is captured by insurance companies, so we have huge scope to enter the market"
   ]
  },
  {
   "cell_type": "code",
   "execution_count": null,
   "metadata": {},
   "outputs": [],
   "source": []
  },
  {
   "cell_type": "code",
   "execution_count": null,
   "metadata": {},
   "outputs": [],
   "source": []
  }
 ],
 "metadata": {
  "kernelspec": {
   "display_name": "gputest",
   "language": "python",
   "name": "gputest"
  },
  "language_info": {
   "codemirror_mode": {
    "name": "ipython",
    "version": 3
   },
   "file_extension": ".py",
   "mimetype": "text/x-python",
   "name": "python",
   "nbconvert_exporter": "python",
   "pygments_lexer": "ipython3",
   "version": "3.6.10"
  }
 },
 "nbformat": 4,
 "nbformat_minor": 4
}
